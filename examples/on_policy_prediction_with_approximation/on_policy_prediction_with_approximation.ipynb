{
 "cells": [
  {
   "cell_type": "code",
   "execution_count": 342,
   "metadata": {
    "ExecuteTime": {
     "end_time": "2020-08-31T20:58:35.278102Z",
     "start_time": "2020-08-31T20:58:34.724082Z"
    }
   },
   "outputs": [
    {
     "name": "stdout",
     "output_type": "stream",
     "text": [
      "The autoreload extension is already loaded. To reload it, use:\n",
      "  %reload_ext autoreload\n"
     ]
    }
   ],
   "source": [
    "%load_ext autoreload\n",
    "%autoreload 2"
   ]
  },
  {
   "cell_type": "code",
   "execution_count": 343,
   "metadata": {
    "ExecuteTime": {
     "end_time": "2020-08-31T20:58:41.432068Z",
     "start_time": "2020-08-31T20:58:41.361877Z"
    }
   },
   "outputs": [],
   "source": [
    "from tqdm.notebook import tqdm\n",
    "\n",
    "import json\n",
    "import numpy as np\n",
    "import matplotlib.pyplot as plt\n",
    "import matplotlib.cm as cm\n",
    "from mpl_toolkits.mplot3d import Axes3D\n",
    "\n",
    "import plotly.graph_objects as go\n",
    "\n",
    "import torch\n",
    "\n",
    "import sys\n",
    "sys.path.append('../../modules')\n",
    "from env.gridworld import VanillaGridWorld, GridWorldWithWallsAndTraps\n",
    "from algo.dp import PolicyIteration\n",
    "from policy import EpsilonGreedyPolicy\n",
    "\n",
    "from algo.on_policy_prediction_with_approximation import *"
   ]
  },
  {
   "cell_type": "code",
   "execution_count": 426,
   "metadata": {
    "ExecuteTime": {
     "end_time": "2020-08-31T21:15:49.546568Z",
     "start_time": "2020-08-31T21:15:49.506993Z"
    }
   },
   "outputs": [],
   "source": [
    "env = VanillaGridWorld(num_rows=20, num_cols=20, start_coord=(0, 0), end_coord=(19, 19), mode=0)"
   ]
  },
  {
   "cell_type": "code",
   "execution_count": 427,
   "metadata": {
    "ExecuteTime": {
     "end_time": "2020-08-31T21:15:50.019069Z",
     "start_time": "2020-08-31T21:15:49.952909Z"
    }
   },
   "outputs": [],
   "source": [
    "policy = EpsilonGreedyPolicy(q=np.zeros(env.action_space_shape), epsilon=0)"
   ]
  },
  {
   "cell_type": "code",
   "execution_count": 428,
   "metadata": {
    "ExecuteTime": {
     "end_time": "2020-08-31T21:15:57.649657Z",
     "start_time": "2020-08-31T21:15:57.607449Z"
    }
   },
   "outputs": [],
   "source": [
    "discount_factor = 0.87"
   ]
  },
  {
   "cell_type": "code",
   "execution_count": 429,
   "metadata": {
    "ExecuteTime": {
     "end_time": "2020-08-31T21:16:21.416497Z",
     "start_time": "2020-08-31T21:15:58.869669Z"
    }
   },
   "outputs": [
    {
     "name": "stdout",
     "output_type": "stream",
     "text": [
      "Running DP policy iteration for at most 1000 iterations ...\n"
     ]
    },
    {
     "data": {
      "application/vnd.jupyter.widget-view+json": {
       "model_id": "6797c968f7be4736bffceea3decf881b",
       "version_major": 2,
       "version_minor": 0
      },
      "text/plain": [
       "HBox(children=(IntProgress(value=0, max=1000), HTML(value='')))"
      ]
     },
     "metadata": {},
     "output_type": "display_data"
    },
    {
     "name": "stdout",
     "output_type": "stream",
     "text": [
      "Result: Convergence reached at iteration 40\n"
     ]
    }
   ],
   "source": [
    "pi = PolicyIteration(env=env, policy=policy, discount_factor=discount_factor, truncate_pe=True, pe_tol=None, conv_tol=1e-16)\n",
    "pi.run(max_iterations=1000, which_tqdm='notebook')"
   ]
  },
  {
   "cell_type": "code",
   "execution_count": 431,
   "metadata": {
    "ExecuteTime": {
     "end_time": "2020-08-31T21:18:02.316524Z",
     "start_time": "2020-08-31T21:18:02.080778Z"
    }
   },
   "outputs": [
    {
     "data": {
      "image/png": "[encoded data removed]",
      "text/plain": [
       "<Figure size 288x288 with 1 Axes>"
      ]
     },
     "metadata": {
      "needs_background": "light"
     },
     "output_type": "display_data"
    }
   ],
   "source": [
    "plt.matshow(pi.q.max(axis=-1))\n",
    "plt.show()"
   ]
  },
  {
   "cell_type": "markdown",
   "metadata": {},
   "source": [
    "## On-policy distribution"
   ]
  },
  {
   "cell_type": "code",
   "execution_count": 491,
   "metadata": {
    "ExecuteTime": {
     "end_time": "2020-08-31T21:54:13.236680Z",
     "start_time": "2020-08-31T21:54:11.569673Z"
    },
    "scrolled": true
   },
   "outputs": [
    {
     "data": {
      "application/vnd.jupyter.widget-view+json": {
       "model_id": "",
       "version_major": 2,
       "version_minor": 0
      },
      "text/plain": [
       "HBox(children=(IntProgress(value=0, max=1000), HTML(value='')))"
      ]
     },
     "metadata": {},
     "output_type": "display_data"
    }
   ],
   "source": [
    "state_counts = np.zeros(env.state_space_shape, dtype=np.float64)\n",
    "\n",
    "for _ in tqdm(range(1000), leave=False):\n",
    "    \n",
    "    env.reset()\n",
    "    while True:\n",
    "        \n",
    "        s = env.current_coord\n",
    "        state_counts[s] += 1\n",
    "        \n",
    "        a = policy.act(s)\n",
    "        s_prime, r = env.step(a)\n",
    "        \n",
    "        if env.is_episode_terminated(): \n",
    "            state_counts[env.current_coord] += 1\n",
    "            break\n",
    "            \n",
    "mu = state_counts / np.sum(state_counts)"
   ]
  },
  {
   "cell_type": "code",
   "execution_count": 543,
   "metadata": {
    "ExecuteTime": {
     "end_time": "2020-08-31T22:09:27.642594Z",
     "start_time": "2020-08-31T22:09:27.299668Z"
    },
    "slideshow": {
     "slide_type": "slide"
    }
   },
   "outputs": [
    {
     "data": {
      "application/vnd.plotly.v1+json": {
       "config": {
        "plotlyServerURL": "https://plot.ly"
       },
       "data": [
        {
         "cmid": 0.01,
         "colorscale": [
          [
           0,
           "rgb(0,0,131)"
          ],
          [
           0.2,
           "rgb(0,60,170)"
          ],
          [
           0.4,
           "rgb(5,255,255)"
          ],
          [
           0.6,
           "rgb(255,255,0)"
          ],
          [
           0.8,
           "rgb(250,0,0)"
          ],
          [
           1,
           "rgb(128,0,0)"
          ]
         ],
         "type": "surface",
         "z": [
          [
           0.02564102564102564,
           0.012948717948717948,
           0.006128205128205128,
           0.0029743589743589744,
           0.001358974358974359,
           0.0006666666666666666,
           0.0003076923076923077,
           0.0001282051282051282,
           5.128205128205128e-05,
           2.564102564102564e-05,
           2.564102564102564e-05,
           0,
           0,
           0,
           0,
           0,
           0,
           0,
           0,
           0
          ],
          [
           0.012692307692307692,
           0.013076923076923076,
           0.009820512820512821,
           0.006230769230769231,
           0.004025641025641026,
           0.002076923076923077,
           0.0012564102564102564,
           0.0007435897435897436,
           0.0004871794871794872,
           0.00023076923076923076,
           7.692307692307693e-05,
           2.564102564102564e-05,
           2.564102564102564e-05,
           0,
           0,
           0,
           0,
           0,
           0,
           0
          ],
          [
           0.006435897435897436,
           0.00976923076923077,
           0.010333333333333333,
           0.007923076923076923,
           0.0063076923076923076,
           0.0043076923076923075,
           0.0031538461538461538,
           0.0018461538461538461,
           0.001153846153846154,
           0.0006153846153846154,
           0.0003846153846153846,
           0.00020512820512820512,
           0.00010256410256410256,
           0,
           0,
           0,
           0,
           0,
           0,
           0
          ],
          [
           0.003076923076923077,
           0.006230769230769231,
           0.008435897435897436,
           0.007948717948717949,
           0.007051282051282051,
           0.0053076923076923075,
           0.004435897435897436,
           0.0030512820512820513,
           0.0022307692307692306,
           0.0015128205128205128,
           0.0009487179487179487,
           0.0006923076923076923,
           0.0003076923076923077,
           0.0001794871794871795,
           7.692307692307693e-05,
           2.564102564102564e-05,
           2.564102564102564e-05,
           2.564102564102564e-05,
           0,
           0
          ],
          [
           0.0014871794871794872,
           0.004025641025641026,
           0.006461538461538461,
           0.007282051282051282,
           0.007230769230769231,
           0.005717948717948718,
           0.005282051282051282,
           0.004,
           0.002692307692307692,
           0.002358974358974359,
           0.001717948717948718,
           0.0013846153846153845,
           0.0008717948717948718,
           0.00041025641025641023,
           0.0002564102564102564,
           7.692307692307693e-05,
           5.128205128205128e-05,
           2.564102564102564e-05,
           0,
           0
          ],
          [
           0.0005641025641025641,
           0.0021794871794871794,
           0.004282051282051282,
           0.0055128205128205125,
           0.006717948717948718,
           0.006230769230769231,
           0.006358974358974359,
           0.005384615384615384,
           0.0036923076923076922,
           0.003,
           0.0020256410256410257,
           0.0016666666666666668,
           0.0014102564102564104,
           0.0007435897435897436,
           0.0005384615384615384,
           0.0003076923076923077,
           0.00023076923076923076,
           7.692307692307693e-05,
           2.564102564102564e-05,
           2.564102564102564e-05
          ],
          [
           0.000358974358974359,
           0.0012307692307692308,
           0.0029743589743589744,
           0.004461538461538461,
           0.005692307692307693,
           0.005666666666666667,
           0.006102564102564103,
           0.0061794871794871795,
           0.005205128205128205,
           0.004128205128205128,
           0.0028461538461538463,
           0.0021794871794871794,
           0.002,
           0.0014102564102564104,
           0.0008974358974358974,
           0.0005128205128205128,
           0.0004871794871794872,
           0.00023076923076923076,
           0.00010256410256410256,
           5.128205128205128e-05
          ],
          [
           0.00010256410256410256,
           0.0005897435897435898,
           0.0016923076923076924,
           0.003076923076923077,
           0.004128205128205128,
           0.004794871794871795,
           0.004897435897435898,
           0.005358974358974359,
           0.005948717948717949,
           0.005358974358974359,
           0.004230769230769231,
           0.0031794871794871794,
           0.0025897435897435897,
           0.0019487179487179488,
           0.0014871794871794872,
           0.0008717948717948718,
           0.0007948717948717948,
           0.0005641025641025641,
           0.0003333333333333333,
           0.00020512820512820512
          ],
          [
           7.692307692307693e-05,
           0.0001794871794871795,
           0.0006923076923076923,
           0.0018717948717948717,
           0.003,
           0.0041025641025641026,
           0.004564102564102564,
           0.004615384615384616,
           0.005051282051282051,
           0.005230769230769231,
           0.0045128205128205125,
           0.003948717948717949,
           0.003384615384615385,
           0.002692307692307692,
           0.0019230769230769232,
           0.0014102564102564104,
           0.0010769230769230769,
           0.0008461538461538462,
           0.0006153846153846154,
           0.00041025641025641023
          ],
          [
           7.692307692307693e-05,
           0.0001282051282051282,
           0.0005897435897435898,
           0.0014102564102564104,
           0.0021025641025641025,
           0.0028205128205128207,
           0.003769230769230769,
           0.00441025641025641,
           0.004666666666666667,
           0.005128205128205128,
           0.004487179487179487,
           0.004179487179487179,
           0.0036666666666666666,
           0.003384615384615385,
           0.0024615384615384616,
           0.002205128205128205,
           0.0016923076923076924,
           0.0012307692307692308,
           0.0011282051282051281,
           0.0010256410256410256
          ],
          [
           7.692307692307693e-05,
           5.128205128205128e-05,
           0.00028205128205128203,
           0.0008461538461538462,
           0.0015897435897435897,
           0.0019230769230769232,
           0.002717948717948718,
           0.003282051282051282,
           0.004153846153846154,
           0.004923076923076923,
           0.004948717948717949,
           0.0045128205128205125,
           0.004076923076923077,
           0.003871794871794872,
           0.0029743589743589744,
           0.0025384615384615385,
           0.0021794871794871794,
           0.0014102564102564104,
           0.0012564102564102564,
           0.001641025641025641
          ],
          [
           5.128205128205128e-05,
           2.564102564102564e-05,
           0.0002564102564102564,
           0.00041025641025641023,
           0.0010256410256410256,
           0.0015384615384615385,
           0.002358974358974359,
           0.0027948717948717947,
           0.0034615384615384616,
           0.004,
           0.004692307692307693,
           0.0043076923076923075,
           0.004230769230769231,
           0.0038205128205128203,
           0.0034102564102564104,
           0.002948717948717949,
           0.0027435897435897434,
           0.002307692307692308,
           0.0017948717948717949,
           0.002564102564102564
          ],
          [
           2.564102564102564e-05,
           2.564102564102564e-05,
           0.0001794871794871795,
           0.00046153846153846153,
           0.0008461538461538462,
           0.0011025641025641025,
           0.0016153846153846153,
           0.0019743589743589744,
           0.0025384615384615385,
           0.0032564102564102563,
           0.00441025641025641,
           0.004282051282051282,
           0.00441025641025641,
           0.004051282051282051,
           0.003769230769230769,
           0.0033333333333333335,
           0.0028205128205128207,
           0.0023846153846153848,
           0.0019230769230769232,
           0.0035384615384615385
          ],
          [
           0,
           0,
           5.128205128205128e-05,
           0.0001282051282051282,
           0.0005897435897435898,
           0.0008461538461538462,
           0.0014615384615384616,
           0.0019743589743589744,
           0.0022564102564102562,
           0.002717948717948718,
           0.0035897435897435897,
           0.004128205128205128,
           0.004153846153846154,
           0.004025641025641026,
           0.003948717948717949,
           0.0036666666666666666,
           0.0032307692307692306,
           0.0028205128205128207,
           0.002205128205128205,
           0.004743589743589744
          ],
          [
           0,
           0,
           2.564102564102564e-05,
           7.692307692307693e-05,
           0.000358974358974359,
           0.0005384615384615384,
           0.0009230769230769231,
           0.0013333333333333333,
           0.0017948717948717949,
           0.0023846153846153848,
           0.0030512820512820513,
           0.0038461538461538464,
           0.0037435897435897435,
           0.003923076923076923,
           0.0038461538461538464,
           0.004153846153846154,
           0.0041025641025641026,
           0.0037435897435897435,
           0.0027948717948717947,
           0.006282051282051282
          ],
          [
           0,
           0,
           2.564102564102564e-05,
           0,
           0.0001794871794871795,
           0.00028205128205128203,
           0.0006153846153846154,
           0.0008974358974358974,
           0.001153846153846154,
           0.0014871794871794872,
           0.002282051282051282,
           0.0032307692307692306,
           0.0034102564102564104,
           0.0037435897435897435,
           0.003769230769230769,
           0.0036666666666666666,
           0.0035897435897435897,
           0.0035897435897435897,
           0.0032307692307692306,
           0.007897435897435898
          ],
          [
           0,
           0,
           2.564102564102564e-05,
           2.564102564102564e-05,
           0.00015384615384615385,
           0.0002564102564102564,
           0.00046153846153846153,
           0.0007692307692307692,
           0.0010512820512820513,
           0.0011025641025641025,
           0.0017948717948717949,
           0.0025384615384615385,
           0.003076923076923077,
           0.0031794871794871794,
           0.0035897435897435897,
           0.0036666666666666666,
           0.003871794871794872,
           0.0033076923076923075,
           0.0031794871794871794,
           0.009410256410256411
          ],
          [
           0,
           0,
           0,
           2.564102564102564e-05,
           0.00010256410256410256,
           0.00015384615384615385,
           0.00028205128205128203,
           0.0004358974358974359,
           0.0008461538461538462,
           0.0009743589743589744,
           0.0013076923076923077,
           0.0018717948717948717,
           0.0023846153846153848,
           0.0026153846153846153,
           0.0032564102564102563,
           0.0034871794871794873,
           0.0038205128205128203,
           0.003358974358974359,
           0.0033333333333333335,
           0.011076923076923076
          ],
          [
           0,
           0,
           0,
           0,
           7.692307692307693e-05,
           0.00015384615384615385,
           0.00028205128205128203,
           0.0003846153846153846,
           0.0006153846153846154,
           0.0008974358974358974,
           0.0009743589743589744,
           0.0016666666666666668,
           0.0022307692307692306,
           0.0024871794871794872,
           0.0028205128205128207,
           0.0031538461538461538,
           0.0038205128205128203,
           0.003769230769230769,
           0.003871794871794872,
           0.013153846153846153
          ],
          [
           0,
           0,
           0,
           0,
           0,
           2.564102564102564e-05,
           0.00010256410256410256,
           0.0003076923076923077,
           0.0005897435897435898,
           0.0010512820512820513,
           0.001435897435897436,
           0.002128205128205128,
           0.0031538461538461538,
           0.004333333333333333,
           0.005846153846153846,
           0.0073846153846153844,
           0.009128205128205127,
           0.010692307692307692,
           0.012487179487179487,
           0.02564102564102564
          ]
         ]
        }
       ],
       "layout": {
        "autosize": false,
        "height": 500,
        "margin": {
         "b": 0,
         "l": 0,
         "r": 0,
         "t": 90
        },
        "scene": {
         "xaxis": {
          "title": {
           "text": "S1"
          }
         },
         "yaxis": {
          "title": {
           "text": "S2"
          }
         },
         "zaxis": {
          "title": {
           "text": "Probability"
          }
         }
        },
        "template": {
         "data": {
          "bar": [
           {
            "error_x": {
             "color": "#2a3f5f"
            },
            "error_y": {
             "color": "#2a3f5f"
            },
            "marker": {
             "line": {
              "color": "#E5ECF6",
              "width": 0.5
             }
            },
            "type": "bar"
           }
          ],
          "barpolar": [
           {
            "marker": {
             "line": {
              "color": "#E5ECF6",
              "width": 0.5
             }
            },
            "type": "barpolar"
           }
          ],
          "carpet": [
           {
            "aaxis": {
             "endlinecolor": "#2a3f5f",
             "gridcolor": "white",
             "linecolor": "white",
             "minorgridcolor": "white",
             "startlinecolor": "#2a3f5f"
            },
            "baxis": {
             "endlinecolor": "#2a3f5f",
             "gridcolor": "white",
             "linecolor": "white",
             "minorgridcolor": "white",
             "startlinecolor": "#2a3f5f"
            },
            "type": "carpet"
           }
          ],
          "choropleth": [
           {
            "colorbar": {
             "outlinewidth": 0,
             "ticks": ""
            },
            "type": "choropleth"
           }
          ],
          "contour": [
           {
            "colorbar": {
             "outlinewidth": 0,
             "ticks": ""
            },
            "colorscale": [
             [
              0,
              "#0d0887"
             ],
             [
              0.1111111111111111,
              "#46039f"
             ],
             [
              0.2222222222222222,
              "#7201a8"
             ],
             [
              0.3333333333333333,
              "#9c179e"
             ],
             [
              0.4444444444444444,
              "#bd3786"
             ],
             [
              0.5555555555555556,
              "#d8576b"
             ],
             [
              0.6666666666666666,
              "#ed7953"
             ],
             [
              0.7777777777777778,
              "#fb9f3a"
             ],
             [
              0.8888888888888888,
              "#fdca26"
             ],
             [
              1,
              "#f0f921"
             ]
            ],
            "type": "contour"
           }
          ],
          "contourcarpet": [
           {
            "colorbar": {
             "outlinewidth": 0,
             "ticks": ""
            },
            "type": "contourcarpet"
           }
          ],
          "heatmap": [
           {
            "colorbar": {
             "outlinewidth": 0,
             "ticks": ""
            },
            "colorscale": [
             [
              0,
              "#0d0887"
             ],
             [
              0.1111111111111111,
              "#46039f"
             ],
             [
              0.2222222222222222,
              "#7201a8"
             ],
             [
              0.3333333333333333,
              "#9c179e"
             ],
             [
              0.4444444444444444,
              "#bd3786"
             ],
             [
              0.5555555555555556,
              "#d8576b"
             ],
             [
              0.6666666666666666,
              "#ed7953"
             ],
             [
              0.7777777777777778,
              "#fb9f3a"
             ],
             [
              0.8888888888888888,
              "#fdca26"
             ],
             [
              1,
              "#f0f921"
             ]
            ],
            "type": "heatmap"
           }
          ],
          "heatmapgl": [
           {
            "colorbar": {
             "outlinewidth": 0,
             "ticks": ""
            },
            "colorscale": [
             [
              0,
              "#0d0887"
             ],
             [
              0.1111111111111111,
              "#46039f"
             ],
             [
              0.2222222222222222,
              "#7201a8"
             ],
             [
              0.3333333333333333,
              "#9c179e"
             ],
             [
              0.4444444444444444,
              "#bd3786"
             ],
             [
              0.5555555555555556,
              "#d8576b"
             ],
             [
              0.6666666666666666,
              "#ed7953"
             ],
             [
              0.7777777777777778,
              "#fb9f3a"
             ],
             [
              0.8888888888888888,
              "#fdca26"
             ],
             [
              1,
              "#f0f921"
             ]
            ],
            "type": "heatmapgl"
           }
          ],
          "histogram": [
           {
            "marker": {
             "colorbar": {
              "outlinewidth": 0,
              "ticks": ""
             }
            },
            "type": "histogram"
           }
          ],
          "histogram2d": [
           {
            "colorbar": {
             "outlinewidth": 0,
             "ticks": ""
            },
            "colorscale": [
             [
              0,
              "#0d0887"
             ],
             [
              0.1111111111111111,
              "#46039f"
             ],
             [
              0.2222222222222222,
              "#7201a8"
             ],
             [
              0.3333333333333333,
              "#9c179e"
             ],
             [
              0.4444444444444444,
              "#bd3786"
             ],
             [
              0.5555555555555556,
              "#d8576b"
             ],
             [
              0.6666666666666666,
              "#ed7953"
             ],
             [
              0.7777777777777778,
              "#fb9f3a"
             ],
             [
              0.8888888888888888,
              "#fdca26"
             ],
             [
              1,
              "#f0f921"
             ]
            ],
            "type": "histogram2d"
           }
          ],
          "histogram2dcontour": [
           {
            "colorbar": {
             "outlinewidth": 0,
             "ticks": ""
            },
            "colorscale": [
             [
              0,
              "#0d0887"
             ],
             [
              0.1111111111111111,
              "#46039f"
             ],
             [
              0.2222222222222222,
              "#7201a8"
             ],
             [
              0.3333333333333333,
              "#9c179e"
             ],
             [
              0.4444444444444444,
              "#bd3786"
             ],
             [
              0.5555555555555556,
              "#d8576b"
             ],
             [
              0.6666666666666666,
              "#ed7953"
             ],
             [
              0.7777777777777778,
              "#fb9f3a"
             ],
             [
              0.8888888888888888,
              "#fdca26"
             ],
             [
              1,
              "#f0f921"
             ]
            ],
            "type": "histogram2dcontour"
           }
          ],
          "mesh3d": [
           {
            "colorbar": {
             "outlinewidth": 0,
             "ticks": ""
            },
            "type": "mesh3d"
           }
          ],
          "parcoords": [
           {
            "line": {
             "colorbar": {
              "outlinewidth": 0,
              "ticks": ""
             }
            },
            "type": "parcoords"
           }
          ],
          "pie": [
           {
            "automargin": true,
            "type": "pie"
           }
          ],
          "scatter": [
           {
            "marker": {
             "colorbar": {
              "outlinewidth": 0,
              "ticks": ""
             }
            },
            "type": "scatter"
           }
          ],
          "scatter3d": [
           {
            "line": {
             "colorbar": {
              "outlinewidth": 0,
              "ticks": ""
             }
            },
            "marker": {
             "colorbar": {
              "outlinewidth": 0,
              "ticks": ""
             }
            },
            "type": "scatter3d"
           }
          ],
          "scattercarpet": [
           {
            "marker": {
             "colorbar": {
              "outlinewidth": 0,
              "ticks": ""
             }
            },
            "type": "scattercarpet"
           }
          ],
          "scattergeo": [
           {
            "marker": {
             "colorbar": {
              "outlinewidth": 0,
              "ticks": ""
             }
            },
            "type": "scattergeo"
           }
          ],
          "scattergl": [
           {
            "marker": {
             "colorbar": {
              "outlinewidth": 0,
              "ticks": ""
             }
            },
            "type": "scattergl"
           }
          ],
          "scattermapbox": [
           {
            "marker": {
             "colorbar": {
              "outlinewidth": 0,
              "ticks": ""
             }
            },
            "type": "scattermapbox"
           }
          ],
          "scatterpolar": [
           {
            "marker": {
             "colorbar": {
              "outlinewidth": 0,
              "ticks": ""
             }
            },
            "type": "scatterpolar"
           }
          ],
          "scatterpolargl": [
           {
            "marker": {
             "colorbar": {
              "outlinewidth": 0,
              "ticks": ""
             }
            },
            "type": "scatterpolargl"
           }
          ],
          "scatterternary": [
           {
            "marker": {
             "colorbar": {
              "outlinewidth": 0,
              "ticks": ""
             }
            },
            "type": "scatterternary"
           }
          ],
          "surface": [
           {
            "colorbar": {
             "outlinewidth": 0,
             "ticks": ""
            },
            "colorscale": [
             [
              0,
              "#0d0887"
             ],
             [
              0.1111111111111111,
              "#46039f"
             ],
             [
              0.2222222222222222,
              "#7201a8"
             ],
             [
              0.3333333333333333,
              "#9c179e"
             ],
             [
              0.4444444444444444,
              "#bd3786"
             ],
             [
              0.5555555555555556,
              "#d8576b"
             ],
             [
              0.6666666666666666,
              "#ed7953"
             ],
             [
              0.7777777777777778,
              "#fb9f3a"
             ],
             [
              0.8888888888888888,
              "#fdca26"
             ],
             [
              1,
              "#f0f921"
             ]
            ],
            "type": "surface"
           }
          ],
          "table": [
           {
            "cells": {
             "fill": {
              "color": "#EBF0F8"
             },
             "line": {
              "color": "white"
             }
            },
            "header": {
             "fill": {
              "color": "#C8D4E3"
             },
             "line": {
              "color": "white"
             }
            },
            "type": "table"
           }
          ]
         },
         "layout": {
          "annotationdefaults": {
           "arrowcolor": "#2a3f5f",
           "arrowhead": 0,
           "arrowwidth": 1
          },
          "coloraxis": {
           "colorbar": {
            "outlinewidth": 0,
            "ticks": ""
           }
          },
          "colorscale": {
           "diverging": [
            [
             0,
             "#8e0152"
            ],
            [
             0.1,
             "#c51b7d"
            ],
            [
             0.2,
             "#de77ae"
            ],
            [
             0.3,
             "#f1b6da"
            ],
            [
             0.4,
             "#fde0ef"
            ],
            [
             0.5,
             "#f7f7f7"
            ],
            [
             0.6,
             "#e6f5d0"
            ],
            [
             0.7,
             "#b8e186"
            ],
            [
             0.8,
             "#7fbc41"
            ],
            [
             0.9,
             "#4d9221"
            ],
            [
             1,
             "#276419"
            ]
           ],
           "sequential": [
            [
             0,
             "#0d0887"
            ],
            [
             0.1111111111111111,
             "#46039f"
            ],
            [
             0.2222222222222222,
             "#7201a8"
            ],
            [
             0.3333333333333333,
             "#9c179e"
            ],
            [
             0.4444444444444444,
             "#bd3786"
            ],
            [
             0.5555555555555556,
             "#d8576b"
            ],
            [
             0.6666666666666666,
             "#ed7953"
            ],
            [
             0.7777777777777778,
             "#fb9f3a"
            ],
            [
             0.8888888888888888,
             "#fdca26"
            ],
            [
             1,
             "#f0f921"
            ]
           ],
           "sequentialminus": [
            [
             0,
             "#0d0887"
            ],
            [
             0.1111111111111111,
             "#46039f"
            ],
            [
             0.2222222222222222,
             "#7201a8"
            ],
            [
             0.3333333333333333,
             "#9c179e"
            ],
            [
             0.4444444444444444,
             "#bd3786"
            ],
            [
             0.5555555555555556,
             "#d8576b"
            ],
            [
             0.6666666666666666,
             "#ed7953"
            ],
            [
             0.7777777777777778,
             "#fb9f3a"
            ],
            [
             0.8888888888888888,
             "#fdca26"
            ],
            [
             1,
             "#f0f921"
            ]
           ]
          },
          "colorway": [
           "#636efa",
           "#EF553B",
           "#00cc96",
           "#ab63fa",
           "#FFA15A",
           "#19d3f3",
           "#FF6692",
           "#B6E880",
           "#FF97FF",
           "#FECB52"
          ],
          "font": {
           "color": "#2a3f5f"
          },
          "geo": {
           "bgcolor": "white",
           "lakecolor": "white",
           "landcolor": "#E5ECF6",
           "showlakes": true,
           "showland": true,
           "subunitcolor": "white"
          },
          "hoverlabel": {
           "align": "left"
          },
          "hovermode": "closest",
          "mapbox": {
           "style": "light"
          },
          "paper_bgcolor": "white",
          "plot_bgcolor": "#E5ECF6",
          "polar": {
           "angularaxis": {
            "gridcolor": "white",
            "linecolor": "white",
            "ticks": ""
           },
           "bgcolor": "#E5ECF6",
           "radialaxis": {
            "gridcolor": "white",
            "linecolor": "white",
            "ticks": ""
           }
          },
          "scene": {
           "xaxis": {
            "backgroundcolor": "#E5ECF6",
            "gridcolor": "white",
            "gridwidth": 2,
            "linecolor": "white",
            "showbackground": true,
            "ticks": "",
            "zerolinecolor": "white"
           },
           "yaxis": {
            "backgroundcolor": "#E5ECF6",
            "gridcolor": "white",
            "gridwidth": 2,
            "linecolor": "white",
            "showbackground": true,
            "ticks": "",
            "zerolinecolor": "white"
           },
           "zaxis": {
            "backgroundcolor": "#E5ECF6",
            "gridcolor": "white",
            "gridwidth": 2,
            "linecolor": "white",
            "showbackground": true,
            "ticks": "",
            "zerolinecolor": "white"
           }
          },
          "shapedefaults": {
           "line": {
            "color": "#2a3f5f"
           }
          },
          "ternary": {
           "aaxis": {
            "gridcolor": "white",
            "linecolor": "white",
            "ticks": ""
           },
           "baxis": {
            "gridcolor": "white",
            "linecolor": "white",
            "ticks": ""
           },
           "bgcolor": "#E5ECF6",
           "caxis": {
            "gridcolor": "white",
            "linecolor": "white",
            "ticks": ""
           }
          },
          "title": {
           "x": 0.05
          },
          "xaxis": {
           "automargin": true,
           "gridcolor": "white",
           "linecolor": "white",
           "ticks": "",
           "title": {
            "standoff": 15
           },
           "zerolinecolor": "white",
           "zerolinewidth": 2
          },
          "yaxis": {
           "automargin": true,
           "gridcolor": "white",
           "linecolor": "white",
           "ticks": "",
           "title": {
            "standoff": 15
           },
           "zerolinecolor": "white",
           "zerolinewidth": 2
          }
         }
        },
        "title": {
         "text": "On-policy distribution"
        },
        "width": 500
       }
      },
      "text/html": [
       "<div>\n",
       "        \n",
       "        \n",
       "            <div id=\"978d8dac-0bfa-4533-ad5a-a78503c36ecf\" class=\"plotly-graph-div\" style=\"height:500px; width:500px;\"></div>\n",
       "            <script type=\"text/javascript\">\n",
       "                require([\"plotly\"], function(Plotly) {\n",
       "                    window.PLOTLYENV=window.PLOTLYENV || {};\n",
       "                    \n",
       "                if (document.getElementById(\"978d8dac-0bfa-4533-ad5a-a78503c36ecf\")) {\n",
       "                    Plotly.newPlot(\n",
       "                        '978d8dac-0bfa-4533-ad5a-a78503c36ecf',\n",
       "                        [{\"cmid\": 0.01, \"colorscale\": [[0.0, \"rgb(0,0,131)\"], [0.2, \"rgb(0,60,170)\"], [0.4, \"rgb(5,255,255)\"], [0.6, \"rgb(255,255,0)\"], [0.8, \"rgb(250,0,0)\"], [1.0, \"rgb(128,0,0)\"]], \"type\": \"surface\", \"z\": [[0.02564102564102564, 0.012948717948717948, 0.006128205128205128, 0.0029743589743589744, 0.001358974358974359, 0.0006666666666666666, 0.0003076923076923077, 0.0001282051282051282, 5.128205128205128e-05, 2.564102564102564e-05, 2.564102564102564e-05, 0.0, 0.0, 0.0, 0.0, 0.0, 0.0, 0.0, 0.0, 0.0], [0.012692307692307692, 0.013076923076923076, 0.009820512820512821, 0.006230769230769231, 0.004025641025641026, 0.002076923076923077, 0.0012564102564102564, 0.0007435897435897436, 0.0004871794871794872, 0.00023076923076923076, 7.692307692307693e-05, 2.564102564102564e-05, 2.564102564102564e-05, 0.0, 0.0, 0.0, 0.0, 0.0, 0.0, 0.0], [0.006435897435897436, 0.00976923076923077, 0.010333333333333333, 0.007923076923076923, 0.0063076923076923076, 0.0043076923076923075, 0.0031538461538461538, 0.0018461538461538461, 0.001153846153846154, 0.0006153846153846154, 0.0003846153846153846, 0.00020512820512820512, 0.00010256410256410256, 0.0, 0.0, 0.0, 0.0, 0.0, 0.0, 0.0], [0.003076923076923077, 0.006230769230769231, 0.008435897435897436, 0.007948717948717949, 0.007051282051282051, 0.0053076923076923075, 0.004435897435897436, 0.0030512820512820513, 0.0022307692307692306, 0.0015128205128205128, 0.0009487179487179487, 0.0006923076923076923, 0.0003076923076923077, 0.0001794871794871795, 7.692307692307693e-05, 2.564102564102564e-05, 2.564102564102564e-05, 2.564102564102564e-05, 0.0, 0.0], [0.0014871794871794872, 0.004025641025641026, 0.006461538461538461, 0.007282051282051282, 0.007230769230769231, 0.005717948717948718, 0.005282051282051282, 0.004, 0.002692307692307692, 0.002358974358974359, 0.001717948717948718, 0.0013846153846153845, 0.0008717948717948718, 0.00041025641025641023, 0.0002564102564102564, 7.692307692307693e-05, 5.128205128205128e-05, 2.564102564102564e-05, 0.0, 0.0], [0.0005641025641025641, 0.0021794871794871794, 0.004282051282051282, 0.0055128205128205125, 0.006717948717948718, 0.006230769230769231, 0.006358974358974359, 0.005384615384615384, 0.0036923076923076922, 0.003, 0.0020256410256410257, 0.0016666666666666668, 0.0014102564102564104, 0.0007435897435897436, 0.0005384615384615384, 0.0003076923076923077, 0.00023076923076923076, 7.692307692307693e-05, 2.564102564102564e-05, 2.564102564102564e-05], [0.000358974358974359, 0.0012307692307692308, 0.0029743589743589744, 0.004461538461538461, 0.005692307692307693, 0.005666666666666667, 0.006102564102564103, 0.0061794871794871795, 0.005205128205128205, 0.004128205128205128, 0.0028461538461538463, 0.0021794871794871794, 0.002, 0.0014102564102564104, 0.0008974358974358974, 0.0005128205128205128, 0.0004871794871794872, 0.00023076923076923076, 0.00010256410256410256, 5.128205128205128e-05], [0.00010256410256410256, 0.0005897435897435898, 0.0016923076923076924, 0.003076923076923077, 0.004128205128205128, 0.004794871794871795, 0.004897435897435898, 0.005358974358974359, 0.005948717948717949, 0.005358974358974359, 0.004230769230769231, 0.0031794871794871794, 0.0025897435897435897, 0.0019487179487179488, 0.0014871794871794872, 0.0008717948717948718, 0.0007948717948717948, 0.0005641025641025641, 0.0003333333333333333, 0.00020512820512820512], [7.692307692307693e-05, 0.0001794871794871795, 0.0006923076923076923, 0.0018717948717948717, 0.003, 0.0041025641025641026, 0.004564102564102564, 0.004615384615384616, 0.005051282051282051, 0.005230769230769231, 0.0045128205128205125, 0.003948717948717949, 0.003384615384615385, 0.002692307692307692, 0.0019230769230769232, 0.0014102564102564104, 0.0010769230769230769, 0.0008461538461538462, 0.0006153846153846154, 0.00041025641025641023], [7.692307692307693e-05, 0.0001282051282051282, 0.0005897435897435898, 0.0014102564102564104, 0.0021025641025641025, 0.0028205128205128207, 0.003769230769230769, 0.00441025641025641, 0.004666666666666667, 0.005128205128205128, 0.004487179487179487, 0.004179487179487179, 0.0036666666666666666, 0.003384615384615385, 0.0024615384615384616, 0.002205128205128205, 0.0016923076923076924, 0.0012307692307692308, 0.0011282051282051281, 0.0010256410256410256], [7.692307692307693e-05, 5.128205128205128e-05, 0.00028205128205128203, 0.0008461538461538462, 0.0015897435897435897, 0.0019230769230769232, 0.002717948717948718, 0.003282051282051282, 0.004153846153846154, 0.004923076923076923, 0.004948717948717949, 0.0045128205128205125, 0.004076923076923077, 0.003871794871794872, 0.0029743589743589744, 0.0025384615384615385, 0.0021794871794871794, 0.0014102564102564104, 0.0012564102564102564, 0.001641025641025641], [5.128205128205128e-05, 2.564102564102564e-05, 0.0002564102564102564, 0.00041025641025641023, 0.0010256410256410256, 0.0015384615384615385, 0.002358974358974359, 0.0027948717948717947, 0.0034615384615384616, 0.004, 0.004692307692307693, 0.0043076923076923075, 0.004230769230769231, 0.0038205128205128203, 0.0034102564102564104, 0.002948717948717949, 0.0027435897435897434, 0.002307692307692308, 0.0017948717948717949, 0.002564102564102564], [2.564102564102564e-05, 2.564102564102564e-05, 0.0001794871794871795, 0.00046153846153846153, 0.0008461538461538462, 0.0011025641025641025, 0.0016153846153846153, 0.0019743589743589744, 0.0025384615384615385, 0.0032564102564102563, 0.00441025641025641, 0.004282051282051282, 0.00441025641025641, 0.004051282051282051, 0.003769230769230769, 0.0033333333333333335, 0.0028205128205128207, 0.0023846153846153848, 0.0019230769230769232, 0.0035384615384615385], [0.0, 0.0, 5.128205128205128e-05, 0.0001282051282051282, 0.0005897435897435898, 0.0008461538461538462, 0.0014615384615384616, 0.0019743589743589744, 0.0022564102564102562, 0.002717948717948718, 0.0035897435897435897, 0.004128205128205128, 0.004153846153846154, 0.004025641025641026, 0.003948717948717949, 0.0036666666666666666, 0.0032307692307692306, 0.0028205128205128207, 0.002205128205128205, 0.004743589743589744], [0.0, 0.0, 2.564102564102564e-05, 7.692307692307693e-05, 0.000358974358974359, 0.0005384615384615384, 0.0009230769230769231, 0.0013333333333333333, 0.0017948717948717949, 0.0023846153846153848, 0.0030512820512820513, 0.0038461538461538464, 0.0037435897435897435, 0.003923076923076923, 0.0038461538461538464, 0.004153846153846154, 0.0041025641025641026, 0.0037435897435897435, 0.0027948717948717947, 0.006282051282051282], [0.0, 0.0, 2.564102564102564e-05, 0.0, 0.0001794871794871795, 0.00028205128205128203, 0.0006153846153846154, 0.0008974358974358974, 0.001153846153846154, 0.0014871794871794872, 0.002282051282051282, 0.0032307692307692306, 0.0034102564102564104, 0.0037435897435897435, 0.003769230769230769, 0.0036666666666666666, 0.0035897435897435897, 0.0035897435897435897, 0.0032307692307692306, 0.007897435897435898], [0.0, 0.0, 2.564102564102564e-05, 2.564102564102564e-05, 0.00015384615384615385, 0.0002564102564102564, 0.00046153846153846153, 0.0007692307692307692, 0.0010512820512820513, 0.0011025641025641025, 0.0017948717948717949, 0.0025384615384615385, 0.003076923076923077, 0.0031794871794871794, 0.0035897435897435897, 0.0036666666666666666, 0.003871794871794872, 0.0033076923076923075, 0.0031794871794871794, 0.009410256410256411], [0.0, 0.0, 0.0, 2.564102564102564e-05, 0.00010256410256410256, 0.00015384615384615385, 0.00028205128205128203, 0.0004358974358974359, 0.0008461538461538462, 0.0009743589743589744, 0.0013076923076923077, 0.0018717948717948717, 0.0023846153846153848, 0.0026153846153846153, 0.0032564102564102563, 0.0034871794871794873, 0.0038205128205128203, 0.003358974358974359, 0.0033333333333333335, 0.011076923076923076], [0.0, 0.0, 0.0, 0.0, 7.692307692307693e-05, 0.00015384615384615385, 0.00028205128205128203, 0.0003846153846153846, 0.0006153846153846154, 0.0008974358974358974, 0.0009743589743589744, 0.0016666666666666668, 0.0022307692307692306, 0.0024871794871794872, 0.0028205128205128207, 0.0031538461538461538, 0.0038205128205128203, 0.003769230769230769, 0.003871794871794872, 0.013153846153846153], [0.0, 0.0, 0.0, 0.0, 0.0, 2.564102564102564e-05, 0.00010256410256410256, 0.0003076923076923077, 0.0005897435897435898, 0.0010512820512820513, 0.001435897435897436, 0.002128205128205128, 0.0031538461538461538, 0.004333333333333333, 0.005846153846153846, 0.0073846153846153844, 0.009128205128205127, 0.010692307692307692, 0.012487179487179487, 0.02564102564102564]]}],\n",
       "                        {\"autosize\": false, \"height\": 500, \"margin\": {\"b\": 0, \"l\": 0, \"r\": 0, \"t\": 90}, \"scene\": {\"xaxis\": {\"title\": {\"text\": \"S1\"}}, \"yaxis\": {\"title\": {\"text\": \"S2\"}}, \"zaxis\": {\"title\": {\"text\": \"Probability\"}}}, \"template\": {\"data\": {\"bar\": [{\"error_x\": {\"color\": \"#2a3f5f\"}, \"error_y\": {\"color\": \"#2a3f5f\"}, \"marker\": {\"line\": {\"color\": \"#E5ECF6\", \"width\": 0.5}}, \"type\": \"bar\"}], \"barpolar\": [{\"marker\": {\"line\": {\"color\": \"#E5ECF6\", \"width\": 0.5}}, \"type\": \"barpolar\"}], \"carpet\": [{\"aaxis\": {\"endlinecolor\": \"#2a3f5f\", \"gridcolor\": \"white\", \"linecolor\": \"white\", \"minorgridcolor\": \"white\", \"startlinecolor\": \"#2a3f5f\"}, \"baxis\": {\"endlinecolor\": \"#2a3f5f\", \"gridcolor\": \"white\", \"linecolor\": \"white\", \"minorgridcolor\": \"white\", \"startlinecolor\": \"#2a3f5f\"}, \"type\": \"carpet\"}], \"choropleth\": [{\"colorbar\": {\"outlinewidth\": 0, \"ticks\": \"\"}, \"type\": \"choropleth\"}], \"contour\": [{\"colorbar\": {\"outlinewidth\": 0, \"ticks\": \"\"}, \"colorscale\": [[0.0, \"#0d0887\"], [0.1111111111111111, \"#46039f\"], [0.2222222222222222, \"#7201a8\"], [0.3333333333333333, \"#9c179e\"], [0.4444444444444444, \"#bd3786\"], [0.5555555555555556, \"#d8576b\"], [0.6666666666666666, \"#ed7953\"], [0.7777777777777778, \"#fb9f3a\"], [0.8888888888888888, \"#fdca26\"], [1.0, \"#f0f921\"]], \"type\": \"contour\"}], \"contourcarpet\": [{\"colorbar\": {\"outlinewidth\": 0, \"ticks\": \"\"}, \"type\": \"contourcarpet\"}], \"heatmap\": [{\"colorbar\": {\"outlinewidth\": 0, \"ticks\": \"\"}, \"colorscale\": [[0.0, \"#0d0887\"], [0.1111111111111111, \"#46039f\"], [0.2222222222222222, \"#7201a8\"], [0.3333333333333333, \"#9c179e\"], [0.4444444444444444, \"#bd3786\"], [0.5555555555555556, \"#d8576b\"], [0.6666666666666666, \"#ed7953\"], [0.7777777777777778, \"#fb9f3a\"], [0.8888888888888888, \"#fdca26\"], [1.0, \"#f0f921\"]], \"type\": \"heatmap\"}], \"heatmapgl\": [{\"colorbar\": {\"outlinewidth\": 0, \"ticks\": \"\"}, \"colorscale\": [[0.0, \"#0d0887\"], [0.1111111111111111, \"#46039f\"], [0.2222222222222222, \"#7201a8\"], [0.3333333333333333, \"#9c179e\"], [0.4444444444444444, \"#bd3786\"], [0.5555555555555556, \"#d8576b\"], [0.6666666666666666, \"#ed7953\"], [0.7777777777777778, \"#fb9f3a\"], [0.8888888888888888, \"#fdca26\"], [1.0, \"#f0f921\"]], \"type\": \"heatmapgl\"}], \"histogram\": [{\"marker\": {\"colorbar\": {\"outlinewidth\": 0, \"ticks\": \"\"}}, \"type\": \"histogram\"}], \"histogram2d\": [{\"colorbar\": {\"outlinewidth\": 0, \"ticks\": \"\"}, \"colorscale\": [[0.0, \"#0d0887\"], [0.1111111111111111, \"#46039f\"], [0.2222222222222222, \"#7201a8\"], [0.3333333333333333, \"#9c179e\"], [0.4444444444444444, \"#bd3786\"], [0.5555555555555556, \"#d8576b\"], [0.6666666666666666, \"#ed7953\"], [0.7777777777777778, \"#fb9f3a\"], [0.8888888888888888, \"#fdca26\"], [1.0, \"#f0f921\"]], \"type\": \"histogram2d\"}], \"histogram2dcontour\": [{\"colorbar\": {\"outlinewidth\": 0, \"ticks\": \"\"}, \"colorscale\": [[0.0, \"#0d0887\"], [0.1111111111111111, \"#46039f\"], [0.2222222222222222, \"#7201a8\"], [0.3333333333333333, \"#9c179e\"], [0.4444444444444444, \"#bd3786\"], [0.5555555555555556, \"#d8576b\"], [0.6666666666666666, \"#ed7953\"], [0.7777777777777778, \"#fb9f3a\"], [0.8888888888888888, \"#fdca26\"], [1.0, \"#f0f921\"]], \"type\": \"histogram2dcontour\"}], \"mesh3d\": [{\"colorbar\": {\"outlinewidth\": 0, \"ticks\": \"\"}, \"type\": \"mesh3d\"}], \"parcoords\": [{\"line\": {\"colorbar\": {\"outlinewidth\": 0, \"ticks\": \"\"}}, \"type\": \"parcoords\"}], \"pie\": [{\"automargin\": true, \"type\": \"pie\"}], \"scatter\": [{\"marker\": {\"colorbar\": {\"outlinewidth\": 0, \"ticks\": \"\"}}, \"type\": \"scatter\"}], \"scatter3d\": [{\"line\": {\"colorbar\": {\"outlinewidth\": 0, \"ticks\": \"\"}}, \"marker\": {\"colorbar\": {\"outlinewidth\": 0, \"ticks\": \"\"}}, \"type\": \"scatter3d\"}], \"scattercarpet\": [{\"marker\": {\"colorbar\": {\"outlinewidth\": 0, \"ticks\": \"\"}}, \"type\": \"scattercarpet\"}], \"scattergeo\": [{\"marker\": {\"colorbar\": {\"outlinewidth\": 0, \"ticks\": \"\"}}, \"type\": \"scattergeo\"}], \"scattergl\": [{\"marker\": {\"colorbar\": {\"outlinewidth\": 0, \"ticks\": \"\"}}, \"type\": \"scattergl\"}], \"scattermapbox\": [{\"marker\": {\"colorbar\": {\"outlinewidth\": 0, \"ticks\": \"\"}}, \"type\": \"scattermapbox\"}], \"scatterpolar\": [{\"marker\": {\"colorbar\": {\"outlinewidth\": 0, \"ticks\": \"\"}}, \"type\": \"scatterpolar\"}], \"scatterpolargl\": [{\"marker\": {\"colorbar\": {\"outlinewidth\": 0, \"ticks\": \"\"}}, \"type\": \"scatterpolargl\"}], \"scatterternary\": [{\"marker\": {\"colorbar\": {\"outlinewidth\": 0, \"ticks\": \"\"}}, \"type\": \"scatterternary\"}], \"surface\": [{\"colorbar\": {\"outlinewidth\": 0, \"ticks\": \"\"}, \"colorscale\": [[0.0, \"#0d0887\"], [0.1111111111111111, \"#46039f\"], [0.2222222222222222, \"#7201a8\"], [0.3333333333333333, \"#9c179e\"], [0.4444444444444444, \"#bd3786\"], [0.5555555555555556, \"#d8576b\"], [0.6666666666666666, \"#ed7953\"], [0.7777777777777778, \"#fb9f3a\"], [0.8888888888888888, \"#fdca26\"], [1.0, \"#f0f921\"]], \"type\": \"surface\"}], \"table\": [{\"cells\": {\"fill\": {\"color\": \"#EBF0F8\"}, \"line\": {\"color\": \"white\"}}, \"header\": {\"fill\": {\"color\": \"#C8D4E3\"}, \"line\": {\"color\": \"white\"}}, \"type\": \"table\"}]}, \"layout\": {\"annotationdefaults\": {\"arrowcolor\": \"#2a3f5f\", \"arrowhead\": 0, \"arrowwidth\": 1}, \"coloraxis\": {\"colorbar\": {\"outlinewidth\": 0, \"ticks\": \"\"}}, \"colorscale\": {\"diverging\": [[0, \"#8e0152\"], [0.1, \"#c51b7d\"], [0.2, \"#de77ae\"], [0.3, \"#f1b6da\"], [0.4, \"#fde0ef\"], [0.5, \"#f7f7f7\"], [0.6, \"#e6f5d0\"], [0.7, \"#b8e186\"], [0.8, \"#7fbc41\"], [0.9, \"#4d9221\"], [1, \"#276419\"]], \"sequential\": [[0.0, \"#0d0887\"], [0.1111111111111111, \"#46039f\"], [0.2222222222222222, \"#7201a8\"], [0.3333333333333333, \"#9c179e\"], [0.4444444444444444, \"#bd3786\"], [0.5555555555555556, \"#d8576b\"], [0.6666666666666666, \"#ed7953\"], [0.7777777777777778, \"#fb9f3a\"], [0.8888888888888888, \"#fdca26\"], [1.0, \"#f0f921\"]], \"sequentialminus\": [[0.0, \"#0d0887\"], [0.1111111111111111, \"#46039f\"], [0.2222222222222222, \"#7201a8\"], [0.3333333333333333, \"#9c179e\"], [0.4444444444444444, \"#bd3786\"], [0.5555555555555556, \"#d8576b\"], [0.6666666666666666, \"#ed7953\"], [0.7777777777777778, \"#fb9f3a\"], [0.8888888888888888, \"#fdca26\"], [1.0, \"#f0f921\"]]}, \"colorway\": [\"#636efa\", \"#EF553B\", \"#00cc96\", \"#ab63fa\", \"#FFA15A\", \"#19d3f3\", \"#FF6692\", \"#B6E880\", \"#FF97FF\", \"#FECB52\"], \"font\": {\"color\": \"#2a3f5f\"}, \"geo\": {\"bgcolor\": \"white\", \"lakecolor\": \"white\", \"landcolor\": \"#E5ECF6\", \"showlakes\": true, \"showland\": true, \"subunitcolor\": \"white\"}, \"hoverlabel\": {\"align\": \"left\"}, \"hovermode\": \"closest\", \"mapbox\": {\"style\": \"light\"}, \"paper_bgcolor\": \"white\", \"plot_bgcolor\": \"#E5ECF6\", \"polar\": {\"angularaxis\": {\"gridcolor\": \"white\", \"linecolor\": \"white\", \"ticks\": \"\"}, \"bgcolor\": \"#E5ECF6\", \"radialaxis\": {\"gridcolor\": \"white\", \"linecolor\": \"white\", \"ticks\": \"\"}}, \"scene\": {\"xaxis\": {\"backgroundcolor\": \"#E5ECF6\", \"gridcolor\": \"white\", \"gridwidth\": 2, \"linecolor\": \"white\", \"showbackground\": true, \"ticks\": \"\", \"zerolinecolor\": \"white\"}, \"yaxis\": {\"backgroundcolor\": \"#E5ECF6\", \"gridcolor\": \"white\", \"gridwidth\": 2, \"linecolor\": \"white\", \"showbackground\": true, \"ticks\": \"\", \"zerolinecolor\": \"white\"}, \"zaxis\": {\"backgroundcolor\": \"#E5ECF6\", \"gridcolor\": \"white\", \"gridwidth\": 2, \"linecolor\": \"white\", \"showbackground\": true, \"ticks\": \"\", \"zerolinecolor\": \"white\"}}, \"shapedefaults\": {\"line\": {\"color\": \"#2a3f5f\"}}, \"ternary\": {\"aaxis\": {\"gridcolor\": \"white\", \"linecolor\": \"white\", \"ticks\": \"\"}, \"baxis\": {\"gridcolor\": \"white\", \"linecolor\": \"white\", \"ticks\": \"\"}, \"bgcolor\": \"#E5ECF6\", \"caxis\": {\"gridcolor\": \"white\", \"linecolor\": \"white\", \"ticks\": \"\"}}, \"title\": {\"x\": 0.05}, \"xaxis\": {\"automargin\": true, \"gridcolor\": \"white\", \"linecolor\": \"white\", \"ticks\": \"\", \"title\": {\"standoff\": 15}, \"zerolinecolor\": \"white\", \"zerolinewidth\": 2}, \"yaxis\": {\"automargin\": true, \"gridcolor\": \"white\", \"linecolor\": \"white\", \"ticks\": \"\", \"title\": {\"standoff\": 15}, \"zerolinecolor\": \"white\", \"zerolinewidth\": 2}}}, \"title\": {\"text\": \"On-policy distribution\"}, \"width\": 500},\n",
       "                        {\"responsive\": true}\n",
       "                    ).then(function(){\n",
       "                            \n",
       "var gd = document.getElementById('978d8dac-0bfa-4533-ad5a-a78503c36ecf');\n",
       "var x = new MutationObserver(function (mutations, observer) {{\n",
       "        var display = window.getComputedStyle(gd).display;\n",
       "        if (!display || display === 'none') {{\n",
       "            console.log([gd, 'removed!']);\n",
       "            Plotly.purge(gd);\n",
       "            observer.disconnect();\n",
       "        }}\n",
       "}});\n",
       "\n",
       "// Listen for the removal of the full notebook cells\n",
       "var notebookContainer = gd.closest('#notebook-container');\n",
       "if (notebookContainer) {{\n",
       "    x.observe(notebookContainer, {childList: true});\n",
       "}}\n",
       "\n",
       "// Listen for the clearing of the current output cell\n",
       "var outputEl = gd.closest('.output');\n",
       "if (outputEl) {{\n",
       "    x.observe(outputEl, {childList: true});\n",
       "}}\n",
       "\n",
       "                        })\n",
       "                };\n",
       "                });\n",
       "            </script>\n",
       "        </div>"
      ]
     },
     "metadata": {},
     "output_type": "display_data"
    }
   ],
   "source": [
    "fig = go.Figure(data=[go.Surface(\n",
    "    z=mu,\n",
    "    colorscale='jet', \n",
    "    cmid=0.01\n",
    ")])\n",
    "\n",
    "fig.update_layout(title='On-policy distribution', autosize=False,\n",
    "                  scene = dict(\n",
    "                    xaxis_title='S1',\n",
    "                    yaxis_title='S2',\n",
    "                    zaxis_title='Probability'),\n",
    "                  width=500, height=500,\n",
    "                  margin=dict(l=0, r=0, b=0, t=90))\n",
    "\n",
    "# fig.write_html(\"on_policy_distribution.html\")"
   ]
  },
  {
   "cell_type": "markdown",
   "metadata": {},
   "source": [
    "## Training"
   ]
  },
  {
   "cell_type": "code",
   "execution_count": 434,
   "metadata": {
    "ExecuteTime": {
     "end_time": "2020-08-31T21:18:07.532076Z",
     "start_time": "2020-08-31T21:18:07.493953Z"
    }
   },
   "outputs": [],
   "source": [
    "# np.random.seed(42)"
   ]
  },
  {
   "cell_type": "code",
   "execution_count": 435,
   "metadata": {
    "ExecuteTime": {
     "end_time": "2020-08-31T21:18:09.310334Z",
     "start_time": "2020-08-31T21:18:07.705547Z"
    }
   },
   "outputs": [
    {
     "data": {
      "application/vnd.jupyter.widget-view+json": {
       "model_id": "",
       "version_major": 2,
       "version_minor": 0
      },
      "text/plain": [
       "HBox(children=(IntProgress(value=0, max=1000), HTML(value='')))"
      ]
     },
     "metadata": {},
     "output_type": "display_data"
    }
   ],
   "source": [
    "# tabular_mc = MCPredictor(\n",
    "#     env=env, \n",
    "#     policy=policy, \n",
    "#     discount_factor=discount_factor, \n",
    "#     vrepr=Table(env.state_space_shape), \n",
    "#     vtrue=pi.q.max(axis=-1), \n",
    "#     on_policy_dist=mu\n",
    "# )\n",
    "# tabular_mc_errors = tabular_mc.run(1000)"
   ]
  },
  {
   "cell_type": "code",
   "execution_count": 436,
   "metadata": {
    "ExecuteTime": {
     "end_time": "2020-08-31T21:18:25.467955Z",
     "start_time": "2020-08-31T21:18:09.312806Z"
    }
   },
   "outputs": [
    {
     "data": {
      "application/vnd.jupyter.widget-view+json": {
       "model_id": "",
       "version_major": 2,
       "version_minor": 0
      },
      "text/plain": [
       "HBox(children=(IntProgress(value=0, max=1000), HTML(value='')))"
      ]
     },
     "metadata": {},
     "output_type": "display_data"
    }
   ],
   "source": [
    "# gradient_mc_linear = MCPredictor(\n",
    "#     env=env, \n",
    "#     policy=policy, \n",
    "#     discount_factor=discount_factor, \n",
    "#     vrepr=LinearApproximator(\n",
    "#         lr=1e-2, \n",
    "#         fc=LinearFeatureConstructor(num_raw_features=2, lowers=(0, 0), uppers=(19, 19)), \n",
    "#         state_space_shape=env.state_space_shape\n",
    "#     ), \n",
    "#     vtrue=pi.q.max(axis=-1), \n",
    "#     on_policy_dist=mu\n",
    "# )\n",
    "# gradient_mc_linear_errors = gradient_mc_linear.run(1000)"
   ]
  },
  {
   "cell_type": "code",
   "execution_count": 437,
   "metadata": {
    "ExecuteTime": {
     "end_time": "2020-08-31T21:18:42.906493Z",
     "start_time": "2020-08-31T21:18:25.471137Z"
    }
   },
   "outputs": [
    {
     "data": {
      "application/vnd.jupyter.widget-view+json": {
       "model_id": "",
       "version_major": 2,
       "version_minor": 0
      },
      "text/plain": [
       "HBox(children=(IntProgress(value=0, max=1000), HTML(value='')))"
      ]
     },
     "metadata": {},
     "output_type": "display_data"
    }
   ],
   "source": [
    "# gradient_mc_polynomial = MCPredictor(\n",
    "#     env=env, \n",
    "#     policy=policy, \n",
    "#     discount_factor=discount_factor, \n",
    "#     vrepr=LinearApproximator(\n",
    "#         lr=1e-2, \n",
    "#         fc=PolynomialFeatureContructor(num_raw_features=2, order=4, lowers=(0, 0), uppers=(19, 19)), \n",
    "#         state_space_shape=env.state_space_shape\n",
    "#     ), \n",
    "#     vtrue=pi.q.max(axis=-1), \n",
    "#     on_policy_dist=mu\n",
    "# )\n",
    "# gradient_mc_polynomial_errors = gradient_mc_polynomial.run(1000)"
   ]
  },
  {
   "cell_type": "code",
   "execution_count": 438,
   "metadata": {
    "ExecuteTime": {
     "end_time": "2020-08-31T21:18:57.358483Z",
     "start_time": "2020-08-31T21:18:42.909495Z"
    }
   },
   "outputs": [
    {
     "data": {
      "application/vnd.jupyter.widget-view+json": {
       "model_id": "",
       "version_major": 2,
       "version_minor": 0
      },
      "text/plain": [
       "HBox(children=(IntProgress(value=0, max=1000), HTML(value='')))"
      ]
     },
     "metadata": {},
     "output_type": "display_data"
    }
   ],
   "source": [
    "# gradient_mc_fourier = MCPredictor(\n",
    "#     env=env, \n",
    "#     policy=policy, \n",
    "#     discount_factor=discount_factor, \n",
    "#     vrepr=LinearApproximator(\n",
    "#         lr=1e-2, \n",
    "#         fc=FourierFeatureConstructor(num_raw_features=2, order=4, lowers=(0, 0), uppers=(19, 19)), \n",
    "#         state_space_shape=env.state_space_shape\n",
    "#     ), \n",
    "#     vtrue=pi.q.max(axis=-1), \n",
    "#     on_policy_dist=mu\n",
    "# )\n",
    "# gradient_mc_fourier_errors = gradient_mc_fourier.run(1000)"
   ]
  },
  {
   "cell_type": "code",
   "execution_count": 439,
   "metadata": {
    "ExecuteTime": {
     "end_time": "2020-08-31T21:18:57.422905Z",
     "start_time": "2020-08-31T21:18:57.361150Z"
    }
   },
   "outputs": [],
   "source": [
    "# with open('errors.json', 'w+') as json_f:\n",
    "#     json.dump({\n",
    "#         'tabular_mc_errors' : tabular_mc_errors,\n",
    "#         'gradient_mc_linear_errors' : gradient_mc_linear_errors,\n",
    "#         'gradient_mc_polynomial_errors' : gradient_mc_polynomial_errors,\n",
    "#         'gradient_mc_fourier_errors' : gradient_mc_fourier_errors\n",
    "#     }, json_f)"
   ]
  },
  {
   "cell_type": "code",
   "execution_count": 443,
   "metadata": {
    "ExecuteTime": {
     "end_time": "2020-08-31T21:19:27.904312Z",
     "start_time": "2020-08-31T21:19:27.846141Z"
    }
   },
   "outputs": [],
   "source": [
    "with open('errors.json', 'r') as json_f:\n",
    "    errors_dict = json.load(json_f)\n",
    "    tabular_mc_errors = errors_dict['tabular_mc_errors']\n",
    "    gradient_mc_linear_errors = errors_dict['gradient_mc_linear_errors']\n",
    "    gradient_mc_polynomial_errors = errors_dict['gradient_mc_polynomial_errors']\n",
    "    gradient_mc_fourier_errors = errors_dict['gradient_mc_fourier_errors']"
   ]
  },
  {
   "cell_type": "code",
   "execution_count": 444,
   "metadata": {
    "ExecuteTime": {
     "end_time": "2020-08-31T21:19:28.101324Z",
     "start_time": "2020-08-31T21:19:28.056957Z"
    }
   },
   "outputs": [],
   "source": [
    "def plot_errors(errors, label):\n",
    "    plt.plot(range(1, len(errors)+1), errors, linewidth=1.5, alpha=1, label=label)"
   ]
  },
  {
   "cell_type": "code",
   "execution_count": 544,
   "metadata": {
    "ExecuteTime": {
     "end_time": "2020-09-01T21:10:25.028759Z",
     "start_time": "2020-09-01T21:10:21.189696Z"
    }
   },
   "outputs": [
    {
     "data": {
      "image/png": "[encoded data removed]",
      "text/plain": [
       "<Figure size 504x504 with 1 Axes>"
      ]
     },
     "metadata": {
      "needs_background": "light"
     },
     "output_type": "display_data"
    }
   ],
   "source": [
    "plt.figure(figsize=(7, 7))\n",
    "\n",
    "plot_errors(gradient_mc_linear_errors, label='Gradient MC (Linear Features)')\n",
    "plot_errors(gradient_mc_polynomial_errors, label='Gradient MC (Polynomial Features)')\n",
    "plot_errors(gradient_mc_fourier_errors, label='Gradient MC (Fourier Features)')\n",
    "plot_errors(tabular_mc_errors, label='Tabular MC')\n",
    "\n",
    "plt.xlabel('Number of episodes seen'); plt.ylabel('Root Value Error')\n",
    "plt.legend()\n",
    "\n",
    "plt.xscale('log')\n",
    "plt.grid()\n",
    "\n",
    "plt.savefig('errors_over_time.png', dpi=300, bbox_inches = 'tight', pad_inches = 0)"
   ]
  },
  {
   "cell_type": "markdown",
   "metadata": {},
   "source": [
    "## Visualize learned value functions"
   ]
  },
  {
   "cell_type": "code",
   "execution_count": 446,
   "metadata": {
    "ExecuteTime": {
     "end_time": "2020-08-31T21:19:31.035683Z",
     "start_time": "2020-08-31T21:19:30.993982Z"
    }
   },
   "outputs": [],
   "source": [
    "num_contours = 50"
   ]
  },
  {
   "cell_type": "code",
   "execution_count": 447,
   "metadata": {
    "ExecuteTime": {
     "end_time": "2020-08-31T21:19:31.815188Z",
     "start_time": "2020-08-31T21:19:31.770335Z"
    }
   },
   "outputs": [],
   "source": [
    "xs, ys = np.arange(env.state_space_shape[0]), np.arange(env.state_space_shape[1])\n",
    "xxs, yys = np.meshgrid(xs, ys)"
   ]
  },
  {
   "cell_type": "code",
   "execution_count": 464,
   "metadata": {
    "ExecuteTime": {
     "end_time": "2020-08-31T21:23:19.391117Z",
     "start_time": "2020-08-31T21:23:19.335131Z"
    }
   },
   "outputs": [],
   "source": [
    "def common():\n",
    "   \n",
    "    ax = plt.gca()\n",
    "\n",
    "    ax.set_xticks(np.arange(0, 20, 3))\n",
    "    ax.set_yticks(np.arange(0, 20, 3))\n",
    "    ax.set_zlim(-9, 0)\n",
    "    \n",
    "    ax.set_xlabel(r'$s_1$')\n",
    "    ax.set_ylabel(r'$s_2$')\n",
    "    ax.set_zlabel('Value')\n",
    "    \n",
    "    ax.view_init(elev=30, azim=240)"
   ]
  },
  {
   "cell_type": "code",
   "execution_count": 465,
   "metadata": {
    "ExecuteTime": {
     "end_time": "2020-08-31T21:23:22.521483Z",
     "start_time": "2020-08-31T21:23:19.519610Z"
    },
    "scrolled": false
   },
   "outputs": [
    {
     "data": {
      "image/png": "[encoded data removed]",
      "text/plain": [
       "<Figure size 1440x360 with 5 Axes>"
      ]
     },
     "metadata": {
      "needs_background": "light"
     },
     "output_type": "display_data"
    }
   ],
   "source": [
    "fig = plt.figure(figsize=(20, 20/4))\n",
    "\n",
    "ax = fig.add_subplot(151, projection='3d')\n",
    "ax.plot_surface(xxs, yys, pi.q.max(axis=-1), cmap='viridis', vmax=0, vmin=-10)\n",
    "ax.set_title('Policy Evaluation\\nGround Truth')\n",
    "common()\n",
    "\n",
    "ax = fig.add_subplot(152, projection='3d')\n",
    "ax.plot_surface(xxs, yys, tabular_mc.vrepr.v, cmap='viridis', vmax=0, vmin=-10)\n",
    "ax.set_title('Tabular MC')\n",
    "common()\n",
    "\n",
    "ax = fig.add_subplot(153, projection='3d')\n",
    "ax.plot_surface(xxs, yys, gradient_mc_linear.vrepr.v, cmap='viridis', vmax=0, vmin=-10)\n",
    "ax.set_title('Gradient MC\\n(Linear Features + Bias)')\n",
    "common()\n",
    "\n",
    "ax = fig.add_subplot(154, projection='3d')\n",
    "ax.plot_surface(xxs, yys, gradient_mc_polynomial.vrepr.v, cmap='viridis', vmax=0, vmin=-10)\n",
    "ax.set_title('Gradient MC\\n(Polynomial Features)')\n",
    "common()\n",
    "\n",
    "ax = fig.add_subplot(155, projection='3d')\n",
    "ax.plot_surface(xxs, yys, gradient_mc_fourier.vrepr.v, cmap='viridis', vmax=0, vmin=-10)\n",
    "ax.set_title('Gradient MC\\n(Fourier Features)')\n",
    "common()\n",
    "\n",
    "# plt.tight_layout()\n",
    "plt.savefig('learned_values.png', dpi=300, bbox_inches = 'tight', pad_inches = 0)"
   ]
  },
  {
   "cell_type": "code",
   "execution_count": null,
   "metadata": {},
   "outputs": [],
   "source": []
  },
  {
   "cell_type": "code",
   "execution_count": null,
   "metadata": {},
   "outputs": [],
   "source": []
  },
  {
   "cell_type": "code",
   "execution_count": null,
   "metadata": {},
   "outputs": [],
   "source": []
  }
 ],
 "metadata": {
  "kernelspec": {
   "display_name": "Python 3",
   "language": "python",
   "name": "python3"
  },
  "language_info": {
   "codemirror_mode": {
    "name": "ipython",
    "version": 3
   },
   "file_extension": ".py",
   "mimetype": "text/x-python",
   "name": "python",
   "nbconvert_exporter": "python",
   "pygments_lexer": "ipython3",
   "version": "3.6.9"
  },
  "toc": {
   "base_numbering": 1,
   "nav_menu": {},
   "number_sections": false,
   "sideBar": true,
   "skip_h1_title": false,
   "title_cell": "Table of Contents",
   "title_sidebar": "Contents",
   "toc_cell": false,
   "toc_position": {},
   "toc_section_display": true,
   "toc_window_display": true
  }
 },
 "nbformat": 4,
 "nbformat_minor": 2
}
