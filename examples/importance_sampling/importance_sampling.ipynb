{
 "cells": [
  {
   "cell_type": "markdown",
   "metadata": {},
   "source": [
    "# Monte-Carlo with importance sampling"
   ]
  },
  {
   "cell_type": "markdown",
   "metadata": {},
   "source": [
    "## Setup"
   ]
  },
  {
   "cell_type": "code",
   "execution_count": 302,
   "metadata": {
    "ExecuteTime": {
     "end_time": "2020-08-10T17:12:06.706202Z",
     "start_time": "2020-08-10T17:12:05.402485Z"
    }
   },
   "outputs": [],
   "source": [
    "import numpy as np\n",
    "from scipy.stats import norm\n",
    "import matplotlib.pyplot as plt\n",
    "import seaborn as sns"
   ]
  },
  {
   "cell_type": "markdown",
   "metadata": {},
   "source": [
    "The math behind Monte-Carlo integration:\n",
    "\n",
    "$$\n",
    "\\begin{align}\n",
    "\\mathbb{E}_{X \\sim p}\\left[ f(X) \\right] \n",
    "\\approx \\sum_{n=1}^{N} f(x_i) \\text{, where } x_i's \\text{ are random samples from distribution } p \n",
    "\\end{align}\n",
    "$$\n",
    "\n",
    "The math behind Monte-Carlo integration with ordinary importance sampling:\n",
    "\n",
    "$$\n",
    "\\begin{align}\n",
    "\\mathbb{E}_{X \\sim p}\\left[ f(X) \\right] \n",
    "&= \\int_{-\\infty}^{\\infty} p(x) f(x) dx \\notag \\\\\n",
    "&= \\int_{-\\infty}^{\\infty} q(x) \\frac{p(x)}{q(x)}  f(x) dx \\notag \\\\\n",
    "&= \\mathbb{E}_{X \\sim q} \\left[ \\frac{p(x)}{q(x)}  f(x) \\right] \\notag \\\\ \n",
    "&\\approx \\frac{1}{N} \\sum_{n=1}^{N} \\frac{p(x_i)}{q(x_i)} f(x_i) \\text{, where } x_i's \\text{ are random samples from distribution } q\n",
    "\\end{align}\n",
    "$$\n",
    "\n",
    "Monte-Carlo integration with weighted importance sampling (I don't understand why though):\n",
    "\n",
    "$$\n",
    "\\begin{align}\n",
    "\\mathbb{E}_{X \\sim p}\\left[ f(X) \\right] \\approx \\frac{1}{\\sum_{n=1}^{N}\\frac{p(x_i)}{q(x_i)}} \\sum_{n=1}^{N} \\frac{p(x_i)}{q(x_i)} f(x_i) \\text{, where } x_i's \\text{ are random samples from distribution } q\n",
    "\\end{align}\n",
    "$$"
   ]
  },
  {
   "cell_type": "code",
   "execution_count": 112,
   "metadata": {
    "ExecuteTime": {
     "end_time": "2020-08-10T16:58:23.389608Z",
     "start_time": "2020-08-10T16:58:23.385714Z"
    }
   },
   "outputs": [],
   "source": [
    "def f(x):\n",
    "    return x ** 2"
   ]
  },
  {
   "cell_type": "code",
   "execution_count": 113,
   "metadata": {
    "ExecuteTime": {
     "end_time": "2020-08-10T16:58:24.730190Z",
     "start_time": "2020-08-10T16:58:24.720796Z"
    }
   },
   "outputs": [],
   "source": [
    "class NormalDistribution:\n",
    "    \n",
    "    def __init__(self, loc, scale):\n",
    "        self.loc = loc\n",
    "        self.scale = scale\n",
    "        \n",
    "    def sample(self, size, seed=None):\n",
    "        return norm.rvs(loc=self.loc, scale=self.scale, size=size, random_state=seed)\n",
    "    \n",
    "    def density(self, x):\n",
    "        return norm.pdf(x, loc=self.loc, scale=self.scale)"
   ]
  },
  {
   "cell_type": "code",
   "execution_count": 647,
   "metadata": {
    "ExecuteTime": {
     "end_time": "2020-08-10T18:00:33.488350Z",
     "start_time": "2020-08-10T18:00:33.479002Z"
    }
   },
   "outputs": [],
   "source": [
    "loc1=0; loc2=2\n",
    "p = NormalDistribution(loc=loc1, scale=1)\n",
    "q = NormalDistribution(loc=loc2, scale=1)"
   ]
  },
  {
   "cell_type": "markdown",
   "metadata": {},
   "source": [
    "## Properties of ordinary and weighted IS"
   ]
  },
  {
   "cell_type": "code",
   "execution_count": 648,
   "metadata": {
    "ExecuteTime": {
     "end_time": "2020-08-10T18:00:34.231776Z",
     "start_time": "2020-08-10T18:00:34.228208Z"
    }
   },
   "outputs": [],
   "source": [
    "from tqdm.notebook import tqdm"
   ]
  },
  {
   "cell_type": "code",
   "execution_count": 649,
   "metadata": {
    "ExecuteTime": {
     "end_time": "2020-08-10T18:00:48.360637Z",
     "start_time": "2020-08-10T18:00:34.967530Z"
    }
   },
   "outputs": [
    {
     "data": {
      "application/vnd.jupyter.widget-view+json": {
       "model_id": "224de6bebfbf409eb8ec30f55b25aedf",
       "version_major": 2,
       "version_minor": 0
      },
      "text/plain": [
       "HBox(children=(IntProgress(value=0, max=20), HTML(value='')))"
      ]
     },
     "metadata": {},
     "output_type": "display_data"
    },
    {
     "name": "stdout",
     "output_type": "stream",
     "text": [
      "\n"
     ]
    }
   ],
   "source": [
    "mc_means_of_means, mc_vars_of_means = [], []\n",
    "mcis_means_of_means, mcis_vars_of_means = [], []\n",
    "mcisw_means_of_means, mcisw_vars_of_means = [], []\n",
    "\n",
    "stepsize=10\n",
    "stepsize2=100\n",
    "Ns = np.concatenate([np.arange(10, 100+stepsize, stepsize), np.arange(100, 1000+stepsize2, stepsize2)])\n",
    "for N in tqdm(Ns):\n",
    "    \n",
    "    p_samples = p.sample((10000, N))\n",
    "    function_values = f(p_samples)\n",
    "    mc_means = np.mean(function_values, axis=-1)\n",
    "        \n",
    "    mc_means_of_means.append(np.mean(mc_means))\n",
    "    mc_vars_of_means.append(np.var(mc_means))\n",
    "    \n",
    "    # =========\n",
    "    \n",
    "    q_samples = q.sample((10000, N))\n",
    "\n",
    "    weights = p.density(q_samples) / q.density(q_samples)\n",
    "    function_values = f(q_samples)\n",
    "\n",
    "    mcis_means = np.mean(weights * function_values, axis=-1)\n",
    "    mcis_weighted_means = np.sum(weights * function_values, axis=-1) / np.sum(weights, axis=-1)\n",
    "        \n",
    "    mcis_means_of_means.append(np.mean(mcis_means))\n",
    "    mcis_vars_of_means.append(np.var(mcis_means))\n",
    "    \n",
    "    mcisw_means_of_means.append(np.mean(mcis_weighted_means))\n",
    "    mcisw_vars_of_means.append(np.var(mcis_weighted_means))"
   ]
  },
  {
   "cell_type": "code",
   "execution_count": 651,
   "metadata": {
    "ExecuteTime": {
     "end_time": "2020-08-10T18:00:52.134803Z",
     "start_time": "2020-08-10T18:00:52.128984Z"
    }
   },
   "outputs": [],
   "source": [
    "mc_means_of_means, mc_vars_of_means = np.array(mc_means_of_means), np.array(mc_vars_of_means)\n",
    "mcis_means_of_means, mcis_vars_of_means = np.array(mcis_means_of_means), np.array(mcis_vars_of_means)\n",
    "mcisw_means_of_means, mcisw_vars_of_means = np.array(mcisw_means_of_means), np.array(mcisw_vars_of_means)"
   ]
  },
  {
   "cell_type": "code",
   "execution_count": 655,
   "metadata": {
    "ExecuteTime": {
     "end_time": "2020-08-10T18:01:53.809412Z",
     "start_time": "2020-08-10T18:01:51.771265Z"
    }
   },
   "outputs": [
    {
     "data": {
      "image/png": "[encoded data removed]",
      "text/plain": [
       "<Figure size 1080x360 with 3 Axes>"
      ]
     },
     "metadata": {
      "needs_background": "light"
     },
     "output_type": "display_data"
    }
   ],
   "source": [
    "label1 = 'Ground truth'\n",
    "label2 = 'Mean of sampling distribution'\n",
    "label3 = 'Variance of sampling distribution'\n",
    "ylim_lower, ylim_upper = -2, 4\n",
    "xlabel = 'Number of samples'; ylabel='Estimated value of the integral'\n",
    "\n",
    "fig = plt.figure(figsize=(15, 5))\n",
    "\n",
    "fig.add_subplot(131)\n",
    "\n",
    "plt.plot([0, np.max(Ns)], [1, 1], color='red', label=label1)\n",
    "\n",
    "plt.plot(Ns, mc_means_of_means, label=label2)\n",
    "plt.fill_between(Ns, mc_means_of_means-mc_vars_of_means, mc_means_of_means+mc_vars_of_means, alpha=0.3, label=label3)\n",
    "plt.ylim(ylim_lower, ylim_upper)\n",
    "plt.legend()\n",
    "plt.title(r'Monte Carlo with samples from $p$', y=1.05)\n",
    "plt.xlabel(xlabel); plt.ylabel(ylabel)\n",
    "\n",
    "fig.add_subplot(132)\n",
    "\n",
    "plt.plot([0, np.max(Ns)], [1, 1], color='red', label=label1)\n",
    "plt.plot(Ns, mcis_means_of_means, label=label2)\n",
    "plt.fill_between(Ns, mcis_means_of_means-mcis_vars_of_means, mcis_means_of_means+mcis_vars_of_means, alpha=0.3, label=label3)\n",
    "plt.ylim(ylim_lower, ylim_upper)\n",
    "plt.legend()\n",
    "plt.title(r'Monte Carlo + ordinary IS with samples from $q$', y=1.05)\n",
    "plt.xlabel(xlabel); plt.ylabel(ylabel)\n",
    "\n",
    "fig.add_subplot(133)\n",
    "\n",
    "plt.plot([0, np.max(Ns)], [1, 1], color='red', label=label1)\n",
    "plt.plot(Ns, mcisw_means_of_means, label=label2)\n",
    "plt.fill_between(Ns, mcisw_means_of_means-mcisw_vars_of_means, mcisw_means_of_means+mcisw_vars_of_means, alpha=0.3, label=label3)\n",
    "plt.ylim(ylim_lower, ylim_upper)\n",
    "plt.legend()\n",
    "plt.title(r'Monte Carlo + weighted IS with samples from $q$', y=1.05)\n",
    "plt.xlabel(xlabel); plt.ylabel(ylabel)\n",
    "\n",
    "plt.suptitle(r'Estimating the value of the integral $\\int_{-\\infty}^{\\infty} p(x) f(x) dx$', y=1.07, fontsize=15)\n",
    "plt.figtext(\n",
    "    0.5, -0.05,\n",
    "    r\"* Note that $p(x)$ is a normal distribution with mean 0 and standard deviation 1, $q(x)$ is a normal distribution with mean 2 and standard deviation 1, and $f(x) = x^2$.\", \n",
    "    horizontalalignment='center'\n",
    ") \n",
    "\n",
    "plt.tight_layout()\n",
    "plt.savefig('importance_sampling_comparison.png', dpi=300, bbox_inches = 'tight', pad_inches = 0)"
   ]
  },
  {
   "cell_type": "code",
   "execution_count": null,
   "metadata": {},
   "outputs": [],
   "source": []
  },
  {
   "cell_type": "code",
   "execution_count": null,
   "metadata": {},
   "outputs": [],
   "source": []
  }
 ],
 "metadata": {
  "kernelspec": {
   "display_name": "Python 3",
   "language": "python",
   "name": "python3"
  },
  "language_info": {
   "codemirror_mode": {
    "name": "ipython",
    "version": 3
   },
   "file_extension": ".py",
   "mimetype": "text/x-python",
   "name": "python",
   "nbconvert_exporter": "python",
   "pygments_lexer": "ipython3",
   "version": "3.6.9"
  },
  "toc": {
   "base_numbering": 1,
   "nav_menu": {},
   "number_sections": false,
   "sideBar": true,
   "skip_h1_title": false,
   "title_cell": "Table of Contents",
   "title_sidebar": "Contents",
   "toc_cell": false,
   "toc_position": {},
   "toc_section_display": true,
   "toc_window_display": false
  }
 },
 "nbformat": 4,
 "nbformat_minor": 2
}
