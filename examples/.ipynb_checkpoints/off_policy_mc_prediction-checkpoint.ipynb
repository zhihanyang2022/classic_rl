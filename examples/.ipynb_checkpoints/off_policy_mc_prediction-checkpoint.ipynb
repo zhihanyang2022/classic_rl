{
 "cells": [
  {
   "cell_type": "markdown",
   "metadata": {},
   "source": [
    "# Off-policy monte-carlo methods"
   ]
  },
  {
   "cell_type": "markdown",
   "metadata": {},
   "source": [
    "Todos:\n",
    "- change optimal_q to target q\n",
    "- change comparison to policy.q to target q"
   ]
  },
  {
   "cell_type": "code",
   "execution_count": 98,
   "metadata": {
    "ExecuteTime": {
     "end_time": "2020-07-16T17:02:41.578439Z",
     "start_time": "2020-07-16T17:02:41.494708Z"
    }
   },
   "outputs": [],
   "source": [
    "%reload_ext autoreload\n",
    "%autoreload 2"
   ]
  },
  {
   "cell_type": "code",
   "execution_count": 99,
   "metadata": {
    "ExecuteTime": {
     "end_time": "2020-07-16T17:02:41.735640Z",
     "start_time": "2020-07-16T17:02:41.665334Z"
    }
   },
   "outputs": [],
   "source": [
    "import numpy as np\n",
    "import matplotlib.pyplot as plt\n",
    "from gridworld import GridWorld\n",
    "from policy import DeterministicPolicy, BTPolicy\n",
    "from policy_iteration_agent import DynamicProgrammingAgent\n",
    "from tqdm import tqdm"
   ]
  },
  {
   "cell_type": "code",
   "execution_count": 127,
   "metadata": {
    "ExecuteTime": {
     "end_time": "2020-07-16T21:59:43.754726Z",
     "start_time": "2020-07-16T21:59:43.458818Z"
    }
   },
   "outputs": [],
   "source": [
    "env = GridWorld(num_rows=3, num_cols=3, start_coord=(0, 0), end_coord=(2, 2))\n",
    "\n",
    "true_q= np.array([\n",
    "    [[-5, -4, -4, -5], [-4, -3, -3, -5], [-3, -3, -2, -4]],\n",
    "    [[-5, -3, -3, -4], [-4, -2, -2, -4], [-3, -2, -1, -3]],\n",
    "    [[-4, -2, -3, -3], [-3, -1, -2, -3], [0, 0, 0, 0]]\n",
    "])\n",
    "\n",
    "policy = DeterministicPolicy(q=true_q)"
   ]
  },
  {
   "cell_type": "code",
   "execution_count": 128,
   "metadata": {
    "ExecuteTime": {
     "end_time": "2020-07-16T21:59:43.958279Z",
     "start_time": "2020-07-16T21:59:43.760123Z"
    }
   },
   "outputs": [
    {
     "data": {
      "text/plain": [
       "array([[[-5, -4, -4, -5],\n",
       "        [-4, -3, -3, -5],\n",
       "        [-3, -3, -2, -4]],\n",
       "\n",
       "       [[-5, -3, -3, -4],\n",
       "        [-4, -2, -2, -4],\n",
       "        [-3, -2, -1, -3]],\n",
       "\n",
       "       [[-4, -2, -3, -3],\n",
       "        [-3, -1, -2, -3],\n",
       "        [ 0,  0,  0,  0]]])"
      ]
     },
     "execution_count": 128,
     "metadata": {},
     "output_type": "execute_result"
    }
   ],
   "source": [
    "policy.q"
   ]
  },
  {
   "cell_type": "code",
   "execution_count": 129,
   "metadata": {
    "ExecuteTime": {
     "end_time": "2020-07-16T21:59:45.010960Z",
     "start_time": "2020-07-16T21:59:44.943901Z"
    }
   },
   "outputs": [],
   "source": [
    "dp_agent = DynamicProgrammingAgent(\n",
    "    env=env, policy=policy, tol=1e-3, mode='prediction', q_init=np.zeros(true_q.shape)\n",
    ")"
   ]
  },
  {
   "cell_type": "code",
   "execution_count": 130,
   "metadata": {
    "ExecuteTime": {
     "end_time": "2020-07-16T21:59:45.580889Z",
     "start_time": "2020-07-16T21:59:45.523457Z"
    }
   },
   "outputs": [
    {
     "data": {
      "text/plain": [
       "array([[[0., 0., 0., 0.],\n",
       "        [0., 0., 0., 0.],\n",
       "        [0., 0., 0., 0.]],\n",
       "\n",
       "       [[0., 0., 0., 0.],\n",
       "        [0., 0., 0., 0.],\n",
       "        [0., 0., 0., 0.]],\n",
       "\n",
       "       [[0., 0., 0., 0.],\n",
       "        [0., 0., 0., 0.],\n",
       "        [0., 0., 0., 0.]]])"
      ]
     },
     "execution_count": 130,
     "metadata": {},
     "output_type": "execute_result"
    }
   ],
   "source": [
    "dp_agent.q"
   ]
  },
  {
   "cell_type": "code",
   "execution_count": 138,
   "metadata": {
    "ExecuteTime": {
     "end_time": "2020-07-16T22:00:19.812651Z",
     "start_time": "2020-07-16T22:00:19.745916Z"
    }
   },
   "outputs": [],
   "source": [
    "dp_agent.train??"
   ]
  },
  {
   "cell_type": "code",
   "execution_count": 131,
   "metadata": {
    "ExecuteTime": {
     "end_time": "2020-07-16T21:59:46.158437Z",
     "start_time": "2020-07-16T21:59:46.080446Z"
    }
   },
   "outputs": [
    {
     "name": "stdout",
     "output_type": "stream",
     "text": [
      "===== Convergence reached for DP prediction =====\n"
     ]
    }
   ],
   "source": [
    "dp_agent.train(num_iterations=1)"
   ]
  },
  {
   "cell_type": "code",
   "execution_count": 132,
   "metadata": {
    "ExecuteTime": {
     "end_time": "2020-07-16T21:59:50.739765Z",
     "start_time": "2020-07-16T21:59:50.677666Z"
    }
   },
   "outputs": [
    {
     "data": {
      "text/plain": [
       "array([[[-5., -4., -4., -5.],\n",
       "        [-4., -3., -3., -5.],\n",
       "        [-3., -3., -2., -4.]],\n",
       "\n",
       "       [[-5., -3., -3., -4.],\n",
       "        [-4., -2., -2., -4.],\n",
       "        [-3., -2., -1., -3.]],\n",
       "\n",
       "       [[-4., -2., -3., -3.],\n",
       "        [-3., -1., -2., -3.],\n",
       "        [ 0.,  0.,  0.,  0.]]])"
      ]
     },
     "execution_count": 132,
     "metadata": {},
     "output_type": "execute_result"
    }
   ],
   "source": [
    "dp_agent.q"
   ]
  },
  {
   "cell_type": "code",
   "execution_count": null,
   "metadata": {},
   "outputs": [],
   "source": []
  },
  {
   "cell_type": "code",
   "execution_count": 909,
   "metadata": {
    "ExecuteTime": {
     "end_time": "2020-07-15T22:43:27.335738Z",
     "start_time": "2020-07-15T22:43:27.304457Z"
    }
   },
   "outputs": [],
   "source": [
    "class OPMCPredictionAgent:\n",
    "    \n",
    "    \"Off-policy monte carlo prediction agent for gridworld tasks.\"\n",
    "    \n",
    "    def __init__(self, env, policy, mode, tol, q_init=None, optimal_q=None):\n",
    "        \n",
    "        self.env = env\n",
    "        self.policy = policy\n",
    "        self.mode = mode\n",
    "        self.tol = tol\n",
    "        \n",
    "        if self.mode == 'prediction':\n",
    "            \n",
    "            assert q_init is not None\n",
    "            assert optimal_q is None\n",
    "            self.q_init = q_init\n",
    "        \n",
    "        elif self.mode == 'control':\n",
    "            \n",
    "            assert q_init is None\n",
    "            assert optimal_q is not None\n",
    "            self.optimal_q = optimal_q\n",
    "        \n",
    "    def init_q(self):\n",
    "        \n",
    "        if self.mode == 'prediction':\n",
    "            self.q = self.q_init.copy()\n",
    "        \n",
    "        elif self.mode == 'control':\n",
    "            self.q = self.policy.q\n",
    "        \n",
    "    def init_c(self):\n",
    "        self.c = np.zeros((self.env.num_rows, self.env.num_cols, self.env.num_actions))\n",
    "        \n",
    "    def init_num_updates(self):\n",
    "        self.num_updates = np.zeros((self.env.num_rows, self.env.num_cols))\n",
    "        \n",
    "    def sample_trajectory(self):\n",
    "        \n",
    "        self.env.reset()\n",
    "        \n",
    "        states, actions, rewards = [], [], []\n",
    "        \n",
    "        s = self.env.current_coord\n",
    "        while not self.env.episode_terminated:\n",
    "            \n",
    "            a = self.policy.act_softly(s)\n",
    "            \n",
    "            s_prime, r = self.env.step(a)\n",
    "            \n",
    "            states.append(s); actions.append(a); rewards.append(r)\n",
    "            \n",
    "            s = s_prime\n",
    "            \n",
    "        return states, actions, rewards\n",
    "    \n",
    "    @property\n",
    "    def converged(self):\n",
    "        if self.mode == 'prediction':\n",
    "            return np.max(np.abs(self.q - self.policy.q)) < self.tol\n",
    "        elif self.mode == 'control':\n",
    "            return np.max(np.abs(self.q - self.optimal_q)) < self.tol\n",
    "        \n",
    "    def train(self, num_iterations):\n",
    "        \n",
    "        self.init_q()\n",
    "        self.init_c()\n",
    "        self.init_num_updates()\n",
    "        \n",
    "        self.iterations = []\n",
    "        self.losses = []\n",
    "\n",
    "        for i in tqdm(range(1, num_iterations+1)):\n",
    "            \n",
    "            states, actions, rewards = self.sample_trajectory()\n",
    "            \n",
    "            G = 0\n",
    "            W = 1\n",
    "            \n",
    "            for t in np.arange(len(states) - 1, -1, -1):\n",
    "                \n",
    "                s, a, r = states[t], actions[t], rewards[t]\n",
    "                sa = s + (a, )\n",
    "\n",
    "                G = G + r\n",
    "                \n",
    "                self.c[sa] = self.c[sa] + W\n",
    "                self.q[sa] = self.q[sa] + (W / (self.c[sa])) * (G - self.q[sa])\n",
    "                \n",
    "                self.num_updates[s] += 1\n",
    "                            \n",
    "                if self.mode == 'control':\n",
    "                    self.policy.q = self.q.copy()\n",
    "                    \n",
    "                pi_a_given_s = self.policy.calc_pi_a_given_s(a, s)\n",
    "                b_a_given_s = self.policy.calc_b_a_given_s(a, s)\n",
    "                \n",
    "                W = W * (pi_a_given_s / b_a_given_s)\n",
    "                \n",
    "                if pi_a_given_s == 0: break\n",
    "                \n",
    "            if self.mode == 'prediction':\n",
    "                max_error = np.mean(np.abs(self.policy.q - self.q))\n",
    "            elif self.mode == 'control':\n",
    "                max_error = np.mean(np.abs(self.optimal_q - self.q))\n",
    "            self.iterations.append(i)\n",
    "            self.losses.append(max_error)\n",
    "\n",
    "            if self.converged:\n",
    "                print(f'Converged after {i} iterations!') \n",
    "                return\n",
    "        \n",
    "        if not self.converged:\n",
    "            print('Warning, not converged!')\n",
    "                \n",
    "    def plot_learning_curve(self):\n",
    "        plt.plot(self.iterations, self.losses)\n",
    "        plt.xlabel('Iteration'); plt.ylabel('Mean Absolute Difference')\n",
    "        plt.grid()\n",
    "        plt.show()\n",
    "        \n",
    "    def plot_num_updates_matrix(self):\n",
    "        plt.matshow(self.num_updates, cmap='coolwarm')\n",
    "        for (i, j), z in np.ndenumerate(self.num_updates):\n",
    "            plt.text(j, i, '{:0.1f}'.format(z), ha='center', va='center',\n",
    "                    bbox=dict(boxstyle='round', facecolor='white', edgecolor='0.3'))\n",
    "        plt.title('Number of updates')\n",
    "        plt.show()"
   ]
  },
  {
   "cell_type": "markdown",
   "metadata": {},
   "source": [
    "## Prediction"
   ]
  },
  {
   "cell_type": "code",
   "execution_count": 529,
   "metadata": {
    "ExecuteTime": {
     "end_time": "2020-07-14T22:13:11.185261Z",
     "start_time": "2020-07-14T22:13:10.807937Z"
    }
   },
   "outputs": [
    {
     "data": {
      "application/vnd.jupyter.widget-view+json": {
       "model_id": "8671d25d0a324bf3952f8993434de568",
       "version_major": 2,
       "version_minor": 0
      },
      "text/plain": [
       "HBox(children=(IntProgress(value=0, max=500), HTML(value='')))"
      ]
     },
     "metadata": {},
     "output_type": "display_data"
    },
    {
     "name": "stdout",
     "output_type": "stream",
     "text": [
      "Converged after 183 iterations!\n",
      "\n"
     ]
    },
    {
     "data": {
      "image/png": "[encoded data removed]",
      "text/plain": [
       "<Figure size 432x288 with 1 Axes>"
      ]
     },
     "metadata": {
      "needs_background": "light"
     },
     "output_type": "display_data"
    },
    {
     "data": {
      "image/png": "[encoded data removed]",
      "text/plain": [
       "<Figure size 288x288 with 1 Axes>"
      ]
     },
     "metadata": {
      "needs_background": "light"
     },
     "output_type": "display_data"
    }
   ],
   "source": [
    "env = GridWorld(num_rows=3, num_cols=3, start_coord=(0, 0), end_coord=(2, 2))\n",
    "\n",
    "true_q = np.array([\n",
    "    [[-5, -4, -4, -5], [-4, -3, -3, -5], [-3, -3, -2, -4]],\n",
    "    [[-5, -3, -3, -4], [-4, -2, -2, -4], [-3, -2, -1, -3]],\n",
    "    [[-4, -2, -3, -3], [-3, -1, -2, -3], [0, 0, 0, 0]]\n",
    "])\n",
    "policy = EpsilonSoftPolicy(epsilon=0.2, q=true_q)\n",
    "\n",
    "q_init = np.random.uniform(size=true_q.shape)\n",
    "q_init[2, 2] = 0\n",
    "agent = OPMCPredictionAgent(env=env, policy=policy, tol=1e-3, q_init=q_init, mode='prediction')\n",
    "\n",
    "agent.train(num_iterations=500)\n",
    "agent.plot_learning_curve()\n",
    "agent.plot_num_updates_matrix()"
   ]
  },
  {
   "cell_type": "markdown",
   "metadata": {},
   "source": [
    "Create policy along with its true q-table. Note that the q-table does not have to be the optimal q-table."
   ]
  },
  {
   "cell_type": "code",
   "execution_count": 530,
   "metadata": {
    "ExecuteTime": {
     "end_time": "2020-07-14T22:13:18.211237Z",
     "start_time": "2020-07-14T22:13:17.845633Z"
    }
   },
   "outputs": [
    {
     "data": {
      "application/vnd.jupyter.widget-view+json": {
       "model_id": "f1d4cf2cb09c4f3ea7b27ebc3ea0721a",
       "version_major": 2,
       "version_minor": 0
      },
      "text/plain": [
       "HBox(children=(IntProgress(value=0), HTML(value='')))"
      ]
     },
     "metadata": {},
     "output_type": "display_data"
    },
    {
     "name": "stdout",
     "output_type": "stream",
     "text": [
      "Converged after 73 iterations!\n",
      "\n"
     ]
    },
    {
     "data": {
      "image/png": "[encoded data removed]",
      "text/plain": [
       "<Figure size 432x288 with 1 Axes>"
      ]
     },
     "metadata": {
      "needs_background": "light"
     },
     "output_type": "display_data"
    },
    {
     "data": {
      "image/png": "[encoded data removed]",
      "text/plain": [
       "<Figure size 1152x230.4 with 1 Axes>"
      ]
     },
     "metadata": {
      "needs_background": "light"
     },
     "output_type": "display_data"
    }
   ],
   "source": [
    "env = GridWorld(num_rows=1, num_cols=5, start_coord=(0, 0), end_coord=(0, 4))\n",
    "\n",
    "true_q = np.array([\n",
    "    [[-5, -4, -5, -5], [-4, -3, -4, -5], [-3, -2, -3, -4], [-2, -1, -2, -3], [0, 0, 0, 0]],\n",
    "])\n",
    "\n",
    "policy = EpsilonSoftPolicy(epsilon=0.3, q=true_q)\n",
    "\n",
    "q_init = np.random.uniform(size=true_q.shape)\n",
    "q_init[0, 4] = 0\n",
    "agent = OPMCPredictionAgent(env=env, policy=policy, tol=1e-3, q_init=q_init, mode='prediction')\n",
    "\n",
    "agent.train(num_iterations=100)\n",
    "agent.plot_learning_curve()\n",
    "agent.plot_num_updates_matrix()"
   ]
  },
  {
   "cell_type": "markdown",
   "metadata": {},
   "source": [
    "## Control"
   ]
  },
  {
   "cell_type": "markdown",
   "metadata": {},
   "source": [
    "Initialization:\n",
    "\n",
    "1. We start with an arbitrarily initialized value function.\n",
    "2. We derive a policy from that value function.\n",
    "\n",
    "In the control problem, we follow the GPI framework:\n",
    "3. Note that the value function by which a policy act may not necessarily be its true value function. Therefore, we estimate the value function of this policy.\n",
    "4. We improve upon the policy"
   ]
  },
  {
   "cell_type": "code",
   "execution_count": 534,
   "metadata": {
    "ExecuteTime": {
     "end_time": "2020-07-14T22:13:33.213416Z",
     "start_time": "2020-07-14T22:13:30.200881Z"
    },
    "scrolled": true
   },
   "outputs": [
    {
     "name": "stdout",
     "output_type": "stream",
     "text": [
      "\n"
     ]
    },
    {
     "data": {
      "application/vnd.jupyter.widget-view+json": {
       "model_id": "a75da83d01764a579e9064c41a26a6a3",
       "version_major": 2,
       "version_minor": 0
      },
      "text/plain": [
       "HBox(children=(IntProgress(value=0, max=10000), HTML(value='')))"
      ]
     },
     "metadata": {},
     "output_type": "display_data"
    },
    {
     "name": "stdout",
     "output_type": "stream",
     "text": [
      "Converged after 7951 iterations!\n"
     ]
    }
   ],
   "source": [
    "# create the environment\n",
    "\n",
    "env = GridWorld(num_rows=3, num_cols=3, start_coord=(0, 0), end_coord=(2, 2))\n",
    "\n",
    "# initialize q-table and policy\n",
    "\n",
    "initial_q = np.zeros((3, 3, 4)) - 5\n",
    "initial_q[2, 2] = 0\n",
    "policy = EpsilonSoftPolicy(epsilon=0.3, q=initial_q)\n",
    "\n",
    "# although the optimal q-table is not available in practice, here we create it to measure performance\n",
    "\n",
    "optimal_q = np.array([\n",
    "    [[-5, -4, -4, -5], [-4, -3, -3, -5], [-3, -3, -2, -4]],\n",
    "    [[-5, -3, -3, -4], [-4, -2, -2, -4], [-3, -2, -1, -3]],\n",
    "    [[-4, -2, -3, -3], [-3, -1, -2, -3], [0, 0, 0, 0]]\n",
    "])  # TODO: generate this using dynamic programming\n",
    "\n",
    "# create agent\n",
    "# - q_init argument is not allowed because the agent's q-table is directly copied from the policy's q-table\n",
    "\n",
    "agent = OPMCPredictionAgent(env=env, policy=policy, tol=3e-1, optimal_q=optimal_q, mode='control')\n",
    "\n",
    "agent.train(num_iterations=10000)"
   ]
  },
  {
   "cell_type": "code",
   "execution_count": 535,
   "metadata": {
    "ExecuteTime": {
     "end_time": "2020-07-14T22:13:34.077026Z",
     "start_time": "2020-07-14T22:13:34.068512Z"
    }
   },
   "outputs": [
    {
     "data": {
      "text/plain": [
       "array([[[-5.        , -4.        , -4.00710989, -5.        ],\n",
       "        [-4.        , -3.        , -3.        , -5.        ],\n",
       "        [-3.        , -3.        , -2.        , -4.        ]],\n",
       "\n",
       "       [[-5.        , -3.        , -3.08502159, -4.09310058],\n",
       "        [-4.        , -2.        , -2.03112074, -4.        ],\n",
       "        [-3.        , -2.        , -1.        , -3.        ]],\n",
       "\n",
       "       [[-4.        , -2.08056462, -3.        , -3.28545941],\n",
       "        [-3.        , -1.        , -2.        , -3.        ],\n",
       "        [ 0.        ,  0.        ,  0.        ,  0.        ]]])"
      ]
     },
     "execution_count": 535,
     "metadata": {},
     "output_type": "execute_result"
    }
   ],
   "source": [
    "agent.q"
   ]
  },
  {
   "cell_type": "code",
   "execution_count": 536,
   "metadata": {
    "ExecuteTime": {
     "end_time": "2020-07-14T22:13:35.835830Z",
     "start_time": "2020-07-14T22:13:35.707405Z"
    }
   },
   "outputs": [
    {
     "data": {
      "image/png": "[encoded data removed]",
      "text/plain": [
       "<Figure size 432x288 with 1 Axes>"
      ]
     },
     "metadata": {
      "needs_background": "light"
     },
     "output_type": "display_data"
    }
   ],
   "source": [
    "agent.plot_learning_curve()"
   ]
  },
  {
   "cell_type": "markdown",
   "metadata": {},
   "source": [
    "### Example"
   ]
  },
  {
   "cell_type": "code",
   "execution_count": 563,
   "metadata": {
    "ExecuteTime": {
     "end_time": "2020-07-14T22:43:42.944450Z",
     "start_time": "2020-07-14T22:43:42.937653Z"
    }
   },
   "outputs": [],
   "source": [
    "env = GridWorld(num_rows=2, num_cols=2, start_coord=(0, 0), end_coord=(1, 1))\n",
    "\n",
    "initial_q = np.array([\n",
    "    [[0.7, 0.9, 0.1, 0.2], [0.1, 0.3, 0.6, 0.9]],\n",
    "    [[0.9, 0.1, 0.8, 0.6], [0, 0, 0, 0]]\n",
    "])\n",
    "policy = EpsilonSoftPolicy(epsilon=0.3, q=initial_q)\n",
    "\n",
    "optimal_q = np.zeros_like(initial_q)\n",
    "\n",
    "agent = OPMCPredictionAgent(env=env, policy=policy, tol=3e-1, optimal_q=optimal_q, mode='control')"
   ]
  },
  {
   "cell_type": "code",
   "execution_count": 582,
   "metadata": {
    "ExecuteTime": {
     "end_time": "2020-07-14T22:46:00.666470Z",
     "start_time": "2020-07-14T22:46:00.622125Z"
    }
   },
   "outputs": [
    {
     "data": {
      "application/vnd.jupyter.widget-view+json": {
       "model_id": "1eb8e549ad9943b490338557bcbb791f",
       "version_major": 2,
       "version_minor": 0
      },
      "text/plain": [
       "HBox(children=(IntProgress(value=0, max=1), HTML(value='')))"
      ]
     },
     "metadata": {},
     "output_type": "display_data"
    },
    {
     "name": "stdout",
     "output_type": "stream",
     "text": [
      "\n",
      "Warning, not converged!\n"
     ]
    }
   ],
   "source": [
    "agent.train(num_iterations=1)"
   ]
  },
  {
   "cell_type": "code",
   "execution_count": 583,
   "metadata": {
    "ExecuteTime": {
     "end_time": "2020-07-14T22:46:05.828458Z",
     "start_time": "2020-07-14T22:46:05.821495Z"
    }
   },
   "outputs": [
    {
     "data": {
      "text/plain": [
       "array([[[ 0.7,  0.9,  0.1,  0.2],\n",
       "        [ 0.1,  0.3, -1. ,  0.9]],\n",
       "\n",
       "       [[ 0.9,  0.1,  0.8,  0.6],\n",
       "        [ 0. ,  0. ,  0. ,  0. ]]])"
      ]
     },
     "execution_count": 583,
     "metadata": {},
     "output_type": "execute_result"
    }
   ],
   "source": [
    "agent.q"
   ]
  },
  {
   "cell_type": "code",
   "execution_count": null,
   "metadata": {},
   "outputs": [],
   "source": []
  },
  {
   "cell_type": "code",
   "execution_count": null,
   "metadata": {},
   "outputs": [],
   "source": []
  }
 ],
 "metadata": {
  "kernelspec": {
   "display_name": "Python 3",
   "language": "python",
   "name": "python3"
  },
  "language_info": {
   "codemirror_mode": {
    "name": "ipython",
    "version": 3
   },
   "file_extension": ".py",
   "mimetype": "text/x-python",
   "name": "python",
   "nbconvert_exporter": "python",
   "pygments_lexer": "ipython3",
   "version": "3.6.9"
  },
  "toc": {
   "base_numbering": 1,
   "nav_menu": {},
   "number_sections": false,
   "sideBar": true,
   "skip_h1_title": false,
   "title_cell": "Table of Contents",
   "title_sidebar": "Contents",
   "toc_cell": false,
   "toc_position": {
    "height": "calc(100% - 180px)",
    "left": "10px",
    "top": "150px",
    "width": "165px"
   },
   "toc_section_display": true,
   "toc_window_display": true
  }
 },
 "nbformat": 4,
 "nbformat_minor": 2
}
