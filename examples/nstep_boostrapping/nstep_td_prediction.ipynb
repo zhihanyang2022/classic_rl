{
 "cells": [
  {
   "cell_type": "code",
   "execution_count": 264,
   "metadata": {
    "ExecuteTime": {
     "end_time": "2020-08-05T21:27:21.889849Z",
     "start_time": "2020-08-05T21:27:21.609731Z"
    }
   },
   "outputs": [],
   "source": [
    "%reload_ext autoreload\n",
    "%autoreload 2"
   ]
  },
  {
   "cell_type": "code",
   "execution_count": 265,
   "metadata": {
    "ExecuteTime": {
     "end_time": "2020-08-05T21:27:22.203370Z",
     "start_time": "2020-08-05T21:27:21.915381Z"
    }
   },
   "outputs": [],
   "source": [
    "import sys\n",
    "sys.path.append('../../modules')\n",
    "\n",
    "import json\n",
    "\n",
    "import numpy as np\n",
    "from scipy.signal import savgol_filter\n",
    "import pandas as pd\n",
    "import matplotlib.pyplot as plt\n",
    "from matplotlib import cm\n",
    "\n",
    "from env.gridworld import GridWorldWithWallsAndTraps\n",
    "from policy import EpsilonGreedyPolicy\n",
    "from algo.dp import PolicyIteration, PolicyEvaluation\n",
    "from algo.td import NStepTDPrediction"
   ]
  },
  {
   "cell_type": "code",
   "execution_count": 266,
   "metadata": {
    "ExecuteTime": {
     "end_time": "2020-08-05T21:27:22.443152Z",
     "start_time": "2020-08-05T21:27:22.206208Z"
    }
   },
   "outputs": [],
   "source": [
    "nrows, ncols = 1, 15"
   ]
  },
  {
   "cell_type": "code",
   "execution_count": 267,
   "metadata": {
    "ExecuteTime": {
     "end_time": "2020-08-05T21:27:22.678272Z",
     "start_time": "2020-08-05T21:27:22.445831Z"
    }
   },
   "outputs": [],
   "source": [
    "grid_type_array = pd.read_csv(\"corridor.csv\").fillna(0).to_numpy()[:nrows, 1:ncols+1]"
   ]
  },
  {
   "cell_type": "code",
   "execution_count": 268,
   "metadata": {
    "ExecuteTime": {
     "end_time": "2020-08-05T21:27:22.906563Z",
     "start_time": "2020-08-05T21:27:22.679931Z"
    }
   },
   "outputs": [
    {
     "data": {
      "text/plain": [
       "array([[1., 0., 0., 0., 0., 0., 0., 0., 0., 0., 0., 0., 0., 0., 4.]])"
      ]
     },
     "execution_count": 268,
     "metadata": {},
     "output_type": "execute_result"
    }
   ],
   "source": [
    "grid_type_array"
   ]
  },
  {
   "cell_type": "code",
   "execution_count": 269,
   "metadata": {
    "ExecuteTime": {
     "end_time": "2020-08-05T21:27:23.145010Z",
     "start_time": "2020-08-05T21:27:22.908431Z"
    }
   },
   "outputs": [],
   "source": [
    "env = GridWorldWithWallsAndTraps(grid_type_array)"
   ]
  },
  {
   "cell_type": "code",
   "execution_count": 270,
   "metadata": {
    "ExecuteTime": {
     "end_time": "2020-08-05T21:27:23.358467Z",
     "start_time": "2020-08-05T21:27:23.147256Z"
    }
   },
   "outputs": [],
   "source": [
    "mode='greedy'"
   ]
  },
  {
   "cell_type": "code",
   "execution_count": 271,
   "metadata": {
    "ExecuteTime": {
     "end_time": "2020-08-05T21:27:23.601878Z",
     "start_time": "2020-08-05T21:27:23.361943Z"
    }
   },
   "outputs": [],
   "source": [
    "if mode == 'greedy':\n",
    "    repeat_policy = np.zeros((nrows, ncols)) + 1\n",
    "    epsilon = 0\n",
    "elif mode == 'epsilon-greedy':\n",
    "    repeat_policy = np.zeros((nrows, ncols)) + 1\n",
    "    epsilon = 0.8\n",
    "elif mode == 'random':\n",
    "    repeat_policy = np.zeros((nrows, ncols))\n",
    "    epsilon = 1"
   ]
  },
  {
   "cell_type": "code",
   "execution_count": 272,
   "metadata": {
    "ExecuteTime": {
     "end_time": "2020-08-05T21:27:23.834040Z",
     "start_time": "2020-08-05T21:27:23.604453Z"
    }
   },
   "outputs": [],
   "source": [
    "q_init = np.zeros(env.action_space_shape)\n",
    "for (i, j), val in np.ndenumerate(repeat_policy):\n",
    "    q_init[i, j, int(val)] = 1"
   ]
  },
  {
   "cell_type": "code",
   "execution_count": 273,
   "metadata": {
    "ExecuteTime": {
     "end_time": "2020-08-05T21:27:24.055139Z",
     "start_time": "2020-08-05T21:27:23.836287Z"
    }
   },
   "outputs": [],
   "source": [
    "policy = EpsilonGreedyPolicy(q=q_init, epsilon=epsilon)"
   ]
  },
  {
   "cell_type": "markdown",
   "metadata": {},
   "source": [
    "## Policy evaluation baseline"
   ]
  },
  {
   "cell_type": "code",
   "execution_count": 274,
   "metadata": {
    "ExecuteTime": {
     "end_time": "2020-08-05T21:27:24.399030Z",
     "start_time": "2020-08-05T21:27:24.057210Z"
    }
   },
   "outputs": [
    {
     "name": "stdout",
     "output_type": "stream",
     "text": [
      "==========\n",
      "Running DP policy evaluation ...\n",
      "Result: Convergence reached.\n",
      "==========\n"
     ]
    }
   ],
   "source": [
    "algo = PolicyEvaluation(\n",
    "    env=env, \n",
    "    policy=policy, \n",
    "    discount_factor=0.95,\n",
    "    truncate_pe=False, pe_tol=1e-3,\n",
    ")\n",
    "algo.run()"
   ]
  },
  {
   "cell_type": "code",
   "execution_count": 275,
   "metadata": {
    "ExecuteTime": {
     "end_time": "2020-08-05T21:27:24.719563Z",
     "start_time": "2020-08-05T21:27:24.404401Z"
    }
   },
   "outputs": [
    {
     "data": {
      "image/png": "[encoded data removed]",
      "text/plain": [
       "<Figure size 1152x144 with 1 Axes>"
      ]
     },
     "metadata": {
      "needs_background": "light"
     },
     "output_type": "display_data"
    }
   ],
   "source": [
    "plt.matshow(algo.q.max(axis=-1))\n",
    "plt.show()"
   ]
  },
  {
   "cell_type": "markdown",
   "metadata": {},
   "source": [
    "## N-step TD prediction"
   ]
  },
  {
   "cell_type": "code",
   "execution_count": 276,
   "metadata": {
    "ExecuteTime": {
     "end_time": "2020-08-05T21:27:25.580135Z",
     "start_time": "2020-08-05T21:27:24.721432Z"
    }
   },
   "outputs": [
    {
     "data": {
      "application/vnd.jupyter.widget-view+json": {
       "model_id": "",
       "version_major": 2,
       "version_minor": 0
      },
      "text/plain": [
       "HBox(children=(IntProgress(value=0, max=500), HTML(value='')))"
      ]
     },
     "metadata": {},
     "output_type": "display_data"
    },
    {
     "name": "stdout",
     "output_type": "stream",
     "text": [
      "\r"
     ]
    }
   ],
   "source": [
    "td = NStepTDPrediction(\n",
    "    env=env, policy=policy, \n",
    "    alpha=0.1, n=3, gamma=0.95, use_td_errors=True, true_v=algo.q.max(axis=-1)\n",
    ")\n",
    "\n",
    "td_rms_errors = td.run(max_iterations=500, which_tqdm='notebook', seed=30)"
   ]
  },
  {
   "cell_type": "code",
   "execution_count": 277,
   "metadata": {
    "ExecuteTime": {
     "end_time": "2020-08-05T21:27:26.420397Z",
     "start_time": "2020-08-05T21:27:25.582330Z"
    }
   },
   "outputs": [
    {
     "data": {
      "application/vnd.jupyter.widget-view+json": {
       "model_id": "",
       "version_major": 2,
       "version_minor": 0
      },
      "text/plain": [
       "HBox(children=(IntProgress(value=0, max=500), HTML(value='')))"
      ]
     },
     "metadata": {},
     "output_type": "display_data"
    },
    {
     "name": "stdout",
     "output_type": "stream",
     "text": [
      "\r"
     ]
    }
   ],
   "source": [
    "td2 = NStepTDPrediction(\n",
    "    env=env, policy=policy, \n",
    "    alpha=0.1, n=3, gamma=0.95, use_td_errors=False, true_v=algo.q.max(axis=-1)\n",
    ")\n",
    "\n",
    "td_rms_errors2 = td2.run(max_iterations=500, which_tqdm='notebook', seed=30)"
   ]
  },
  {
   "cell_type": "code",
   "execution_count": 280,
   "metadata": {
    "ExecuteTime": {
     "end_time": "2020-08-05T21:27:35.656586Z",
     "start_time": "2020-08-05T21:27:34.868815Z"
    }
   },
   "outputs": [
    {
     "data": {
      "image/png": "[encoded data removed]",
      "text/plain": [
       "<Figure size 720x216 with 1 Axes>"
      ]
     },
     "metadata": {
      "needs_background": "light"
     },
     "output_type": "display_data"
    }
   ],
   "source": [
    "fig = plt.figure(figsize=(10,  3))\n",
    "\n",
    "plt.plot(td_rms_errors, label='Using the sum of TD errors')\n",
    "if mode == 'greedy':\n",
    "    plt.plot(td_rms_errors2, '--', label='Using the n-step error')\n",
    "else:\n",
    "    plt.plot(td_rms_errors2, label='Using the n-step error')\n",
    "\n",
    "plt.grid()\n",
    "plt.ylim(0-1, np.max(td_rms_errors2)+1)\n",
    "\n",
    "plt.xlabel('Episodes')\n",
    "plt.ylabel('RMS Error')\n",
    "plt.legend()\n",
    "\n",
    "plt.suptitle(f'Evaluation of the {mode} policy (epsilon = {epsilon}) using 2 n-step algorithms')\n",
    "plt.savefig(f'{mode}.png', dpi=300, bbox_inches = 'tight', pad_inches = 0)"
   ]
  },
  {
   "cell_type": "markdown",
   "metadata": {
    "ExecuteTime": {
     "end_time": "2020-08-03T19:47:00.348709Z",
     "start_time": "2020-08-03T19:47:00.303741Z"
    }
   },
   "source": [
    "https://amreis.github.io/ml/reinf-learn/2019/10/14/reinforcement-learning-an-introduction-exercise-6-1.html"
   ]
  },
  {
   "cell_type": "code",
   "execution_count": null,
   "metadata": {},
   "outputs": [],
   "source": []
  },
  {
   "cell_type": "code",
   "execution_count": null,
   "metadata": {},
   "outputs": [],
   "source": []
  },
  {
   "cell_type": "code",
   "execution_count": null,
   "metadata": {},
   "outputs": [],
   "source": []
  },
  {
   "cell_type": "code",
   "execution_count": null,
   "metadata": {},
   "outputs": [],
   "source": []
  }
 ],
 "metadata": {
  "kernelspec": {
   "display_name": "Python 3",
   "language": "python",
   "name": "python3"
  },
  "language_info": {
   "codemirror_mode": {
    "name": "ipython",
    "version": 3
   },
   "file_extension": ".py",
   "mimetype": "text/x-python",
   "name": "python",
   "nbconvert_exporter": "python",
   "pygments_lexer": "ipython3",
   "version": "3.6.9"
  },
  "toc": {
   "base_numbering": 1,
   "nav_menu": {},
   "number_sections": false,
   "sideBar": true,
   "skip_h1_title": false,
   "title_cell": "Table of Contents",
   "title_sidebar": "Contents",
   "toc_cell": false,
   "toc_position": {},
   "toc_section_display": true,
   "toc_window_display": true
  }
 },
 "nbformat": 4,
 "nbformat_minor": 2
}
