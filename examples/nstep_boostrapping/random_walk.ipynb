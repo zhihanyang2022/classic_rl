{
 "cells": [
  {
   "cell_type": "code",
   "execution_count": 94,
   "metadata": {
    "ExecuteTime": {
     "end_time": "2020-08-06T04:05:29.883031Z",
     "start_time": "2020-08-06T04:05:29.877701Z"
    }
   },
   "outputs": [],
   "source": [
    "import numpy as np\n",
    "import matplotlib.pyplot as plt\n",
    "import seaborn as sns"
   ]
  },
  {
   "cell_type": "code",
   "execution_count": 95,
   "metadata": {
    "ExecuteTime": {
     "end_time": "2020-08-06T04:05:29.893615Z",
     "start_time": "2020-08-06T04:05:29.887993Z"
    }
   },
   "outputs": [],
   "source": [
    "num_non_terminal_states = 19"
   ]
  },
  {
   "cell_type": "code",
   "execution_count": 96,
   "metadata": {
    "ExecuteTime": {
     "end_time": "2020-08-06T04:05:29.903977Z",
     "start_time": "2020-08-06T04:05:29.900179Z"
    }
   },
   "outputs": [],
   "source": [
    "states = np.arange(num_non_terminal_states)"
   ]
  },
  {
   "cell_type": "code",
   "execution_count": 97,
   "metadata": {
    "ExecuteTime": {
     "end_time": "2020-08-06T04:05:29.928549Z",
     "start_time": "2020-08-06T04:05:29.909339Z"
    }
   },
   "outputs": [
    {
     "data": {
      "text/plain": [
       "array([ 0,  1,  2,  3,  4,  5,  6,  7,  8,  9, 10, 11, 12, 13, 14, 15, 16,\n",
       "       17, 18])"
      ]
     },
     "execution_count": 97,
     "metadata": {},
     "output_type": "execute_result"
    }
   ],
   "source": [
    "states"
   ]
  },
  {
   "cell_type": "code",
   "execution_count": 98,
   "metadata": {
    "ExecuteTime": {
     "end_time": "2020-08-06T04:05:29.938165Z",
     "start_time": "2020-08-06T04:05:29.931790Z"
    }
   },
   "outputs": [],
   "source": [
    "starting_state = num_non_terminal_states // 2"
   ]
  },
  {
   "cell_type": "code",
   "execution_count": 99,
   "metadata": {
    "ExecuteTime": {
     "end_time": "2020-08-06T04:05:35.449253Z",
     "start_time": "2020-08-06T04:05:29.947086Z"
    }
   },
   "outputs": [],
   "source": [
    "lengths = []\n",
    "for i in range(10000):\n",
    "    current_state = starting_state\n",
    "    trajectory = [current_state]\n",
    "    while current_state != -1 and current_state != np.max(states)+1:\n",
    "        if np.random.uniform() > 0.5:\n",
    "            current_state += 1\n",
    "        else:\n",
    "            current_state -= 1\n",
    "        trajectory.append(current_state)\n",
    "    lengths.append(len(trajectory))"
   ]
  },
  {
   "cell_type": "code",
   "execution_count": 100,
   "metadata": {
    "ExecuteTime": {
     "end_time": "2020-08-06T04:05:35.715100Z",
     "start_time": "2020-08-06T04:05:35.451260Z"
    }
   },
   "outputs": [
    {
     "data": {
      "image/png": "[encoded data removed]",
      "text/plain": [
       "<Figure size 864x72 with 1 Axes>"
      ]
     },
     "metadata": {
      "needs_background": "light"
     },
     "output_type": "display_data"
    }
   ],
   "source": [
    "plt.figure(figsize=(12, 1))\n",
    "sns.boxplot(lengths)\n",
    "plt.title(f'Boxplot of {len(lengths)} walk lengths for a {int(num_non_terminal_states)}-state random walk', y=1.03)\n",
    "plt.savefig(f'random_walk_with_{int(num_non_terminal_states)}_states_boxplot.png', dpi=300, bbox_inches='tight', pad_inches=0)"
   ]
  },
  {
   "cell_type": "code",
   "execution_count": null,
   "metadata": {},
   "outputs": [],
   "source": []
  }
 ],
 "metadata": {
  "kernelspec": {
   "display_name": "Python 3",
   "language": "python",
   "name": "python3"
  },
  "language_info": {
   "codemirror_mode": {
    "name": "ipython",
    "version": 3
   },
   "file_extension": ".py",
   "mimetype": "text/x-python",
   "name": "python",
   "nbconvert_exporter": "python",
   "pygments_lexer": "ipython3",
   "version": "3.6.9"
  },
  "toc": {
   "base_numbering": 1,
   "nav_menu": {},
   "number_sections": true,
   "sideBar": true,
   "skip_h1_title": false,
   "title_cell": "Table of Contents",
   "title_sidebar": "Contents",
   "toc_cell": false,
   "toc_position": {},
   "toc_section_display": true,
   "toc_window_display": false
  }
 },
 "nbformat": 4,
 "nbformat_minor": 2
}
