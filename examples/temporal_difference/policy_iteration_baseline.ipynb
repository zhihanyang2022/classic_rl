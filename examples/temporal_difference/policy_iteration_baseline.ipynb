{
 "cells": [
  {
   "cell_type": "markdown",
   "metadata": {},
   "source": [
    "# SARSA"
   ]
  },
  {
   "cell_type": "code",
   "execution_count": 1,
   "metadata": {
    "ExecuteTime": {
     "end_time": "2020-07-28T15:49:00.390405Z",
     "start_time": "2020-07-28T15:49:00.360247Z"
    }
   },
   "outputs": [],
   "source": [
    "%reload_ext autoreload\n",
    "%autoreload 2"
   ]
  },
  {
   "cell_type": "code",
   "execution_count": 1,
   "metadata": {
    "ExecuteTime": {
     "end_time": "2020-07-28T19:58:51.503834Z",
     "start_time": "2020-07-28T19:58:48.837552Z"
    }
   },
   "outputs": [],
   "source": [
    "import sys\n",
    "sys.path.append('../../modules')\n",
    "\n",
    "import json\n",
    "\n",
    "import numpy as np\n",
    "from scipy.signal import savgol_filter\n",
    "import pandas as pd\n",
    "import matplotlib.pyplot as plt\n",
    "from matplotlib import cm\n",
    "\n",
    "from env.gridworld import GridWorldWithWallsAndTraps\n",
    "from policy import EpsilonGreedyPolicy\n",
    "from algo.dp import PolicyIteration"
   ]
  },
  {
   "cell_type": "code",
   "execution_count": 2,
   "metadata": {
    "ExecuteTime": {
     "end_time": "2020-07-28T19:58:52.419462Z",
     "start_time": "2020-07-28T19:58:52.412498Z"
    }
   },
   "outputs": [],
   "source": [
    "nrows, ncols = 5, 15"
   ]
  },
  {
   "cell_type": "code",
   "execution_count": 3,
   "metadata": {
    "ExecuteTime": {
     "end_time": "2020-07-28T19:58:53.123479Z",
     "start_time": "2020-07-28T19:58:53.088496Z"
    }
   },
   "outputs": [],
   "source": [
    "grid_type_array = pd.read_csv(\"grid_type_arrays/cliff.csv\").fillna(0).to_numpy()[:nrows, 1:ncols+1]"
   ]
  },
  {
   "cell_type": "code",
   "execution_count": 4,
   "metadata": {
    "ExecuteTime": {
     "end_time": "2020-07-28T19:58:53.337917Z",
     "start_time": "2020-07-28T19:58:53.328135Z"
    }
   },
   "outputs": [
    {
     "data": {
      "text/plain": [
       "array([[0., 0., 0., 0., 0., 0., 0., 0., 0., 0., 0., 0., 0., 0., 0.],\n",
       "       [0., 0., 0., 0., 0., 0., 0., 0., 0., 0., 0., 0., 0., 0., 0.],\n",
       "       [0., 0., 0., 0., 0., 0., 0., 0., 0., 0., 0., 0., 0., 0., 0.],\n",
       "       [0., 0., 0., 0., 0., 0., 0., 0., 0., 0., 0., 0., 0., 0., 0.],\n",
       "       [1., 3., 3., 3., 3., 3., 3., 3., 3., 3., 3., 3., 3., 3., 4.]])"
      ]
     },
     "execution_count": 4,
     "metadata": {},
     "output_type": "execute_result"
    }
   ],
   "source": [
    "grid_type_array"
   ]
  },
  {
   "cell_type": "code",
   "execution_count": 24,
   "metadata": {
    "ExecuteTime": {
     "end_time": "2020-07-28T20:05:55.429188Z",
     "start_time": "2020-07-28T20:05:53.681020Z"
    },
    "scrolled": true
   },
   "outputs": [
    {
     "name": "stdout",
     "output_type": "stream",
     "text": [
      "Running DP policy iteration for at most 10000 iterations ...\n"
     ]
    },
    {
     "data": {
      "application/vnd.jupyter.widget-view+json": {
       "model_id": "96aa74eedb8b492bb2c81543c5a1a77d",
       "version_major": 2,
       "version_minor": 0
      },
      "text/plain": [
       "HBox(children=(IntProgress(value=0, max=10000), HTML(value='')))"
      ]
     },
     "metadata": {},
     "output_type": "display_data"
    },
    {
     "name": "stdout",
     "output_type": "stream",
     "text": [
      "Result: Convergence reached at iteration 20\n"
     ]
    }
   ],
   "source": [
    "env = GridWorldWithWallsAndTraps(grid_type_array, trap_reward=-100)\n",
    "\n",
    "q_initial_estimate = np.random.uniform(size=env.shape)\n",
    "q_initial_estimate[env.end_coord] = 0\n",
    "if len(env.wall_coords) > 0:\n",
    "    q_initial_estimate[np.array(env.wall_coords)] = 0\n",
    "\n",
    "policy = EpsilonGreedyPolicy(q=q_initial_estimate, epsilon=0)\n",
    "\n",
    "algo = PolicyIteration(\n",
    "    env=env, policy=policy, \n",
    "    discount_factor=1,\n",
    "    truncate_pe=True, pe_tol=None,\n",
    "    conv_tol=1e-16\n",
    ")\n",
    "\n",
    "algo.run(max_iterations=10000, which_tqdm='notebook')"
   ]
  },
  {
   "cell_type": "code",
   "execution_count": 25,
   "metadata": {
    "ExecuteTime": {
     "end_time": "2020-07-28T20:05:56.910267Z",
     "start_time": "2020-07-28T20:05:56.904582Z"
    }
   },
   "outputs": [],
   "source": [
    "optimal_policy = algo.q.argmax(axis=-1)"
   ]
  },
  {
   "cell_type": "code",
   "execution_count": 18,
   "metadata": {
    "ExecuteTime": {
     "end_time": "2020-07-28T20:04:58.039523Z",
     "start_time": "2020-07-28T20:04:58.032306Z"
    }
   },
   "outputs": [],
   "source": [
    "np.save('optimal_policy_for_epsilon_greedy_policy.npy', optimal_policy)"
   ]
  },
  {
   "cell_type": "code",
   "execution_count": 26,
   "metadata": {
    "ExecuteTime": {
     "end_time": "2020-07-28T20:05:58.073154Z",
     "start_time": "2020-07-28T20:05:58.067256Z"
    }
   },
   "outputs": [],
   "source": [
    "np.save('optimal_policy_for_greedy_policy.npy', optimal_policy)"
   ]
  },
  {
   "cell_type": "code",
   "execution_count": 27,
   "metadata": {
    "ExecuteTime": {
     "end_time": "2020-07-28T20:05:58.515289Z",
     "start_time": "2020-07-28T20:05:58.504932Z"
    }
   },
   "outputs": [
    {
     "data": {
      "text/plain": [
       "array([[1, 1, 1, 1, 1, 1, 1, 1, 1, 1, 1, 1, 1, 1, 2],\n",
       "       [1, 1, 1, 1, 1, 1, 1, 1, 1, 1, 1, 1, 1, 1, 2],\n",
       "       [1, 1, 1, 1, 1, 1, 1, 1, 1, 1, 1, 1, 1, 1, 2],\n",
       "       [1, 1, 1, 1, 1, 1, 1, 1, 1, 1, 1, 1, 1, 1, 2],\n",
       "       [0, 0, 0, 0, 0, 0, 0, 0, 0, 0, 0, 0, 0, 1, 0]])"
      ]
     },
     "execution_count": 27,
     "metadata": {},
     "output_type": "execute_result"
    }
   ],
   "source": [
    "optimal_policy"
   ]
  },
  {
   "cell_type": "code",
   "execution_count": null,
   "metadata": {},
   "outputs": [],
   "source": []
  }
 ],
 "metadata": {
  "kernelspec": {
   "display_name": "Python 3",
   "language": "python",
   "name": "python3"
  },
  "language_info": {
   "codemirror_mode": {
    "name": "ipython",
    "version": 3
   },
   "file_extension": ".py",
   "mimetype": "text/x-python",
   "name": "python",
   "nbconvert_exporter": "python",
   "pygments_lexer": "ipython3",
   "version": "3.6.9"
  },
  "toc": {
   "base_numbering": 1,
   "nav_menu": {},
   "number_sections": false,
   "sideBar": true,
   "skip_h1_title": false,
   "title_cell": "Table of Contents",
   "title_sidebar": "Contents",
   "toc_cell": false,
   "toc_position": {},
   "toc_section_display": true,
   "toc_window_display": true
  }
 },
 "nbformat": 4,
 "nbformat_minor": 2
}
