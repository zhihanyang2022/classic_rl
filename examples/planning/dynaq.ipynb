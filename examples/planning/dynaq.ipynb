{
 "cells": [
  {
   "cell_type": "markdown",
   "metadata": {},
   "source": [
    "# Dyna-Q"
   ]
  },
  {
   "cell_type": "code",
   "execution_count": 1,
   "metadata": {
    "ExecuteTime": {
     "end_time": "2020-08-20T05:18:38.064254Z",
     "start_time": "2020-08-20T05:18:38.034323Z"
    }
   },
   "outputs": [],
   "source": [
    "%reload_ext autoreload\n",
    "%autoreload 2"
   ]
  },
  {
   "cell_type": "code",
   "execution_count": 20,
   "metadata": {
    "ExecuteTime": {
     "end_time": "2020-08-20T05:19:36.661486Z",
     "start_time": "2020-08-20T05:19:36.632164Z"
    }
   },
   "outputs": [],
   "source": [
    "import sys\n",
    "sys.path.append('../../modules')\n",
    "\n",
    "import json\n",
    "\n",
    "import random\n",
    "import numpy as np\n",
    "from scipy.signal import savgol_filter\n",
    "import pandas as pd\n",
    "import matplotlib.pyplot as plt\n",
    "from matplotlib import cm\n",
    "\n",
    "from env.gridworld import VanillaGridWorld\n",
    "from policy import EpsilonGreedyPolicy\n",
    "\n",
    "from algo.planning import QLearningBase\n",
    "\n",
    "from algo.planning_cbs.cb_handler import CallbackHandler\n",
    "from algo.planning_cbs.dynaq import DynaQ\n",
    "from algo.planning_cbs.episode_length_tracker import EpisodeLengthTracker\n",
    "from algo.planning_cbs.value_function_tracker import ValueFunctionTracker"
   ]
  },
  {
   "cell_type": "code",
   "execution_count": 21,
   "metadata": {
    "ExecuteTime": {
     "end_time": "2020-08-20T05:19:37.007310Z",
     "start_time": "2020-08-20T05:19:36.974906Z"
    }
   },
   "outputs": [],
   "source": [
    "npy_save_dir = 'dynaq_online_performance'\n",
    "img_save_dir = '/Users/yangzhihan/Desktop/projects/deeprl_notes_site/images/2020-08-11-dynaq'"
   ]
  },
  {
   "cell_type": "markdown",
   "metadata": {},
   "source": [
    "## Run the algorithm"
   ]
  },
  {
   "cell_type": "code",
   "execution_count": 34,
   "metadata": {
    "ExecuteTime": {
     "end_time": "2020-08-20T05:20:23.304233Z",
     "start_time": "2020-08-20T05:20:23.255755Z"
    }
   },
   "outputs": [],
   "source": [
    "planning_ratios = [0, 1, 20]"
   ]
  },
  {
   "cell_type": "code",
   "execution_count": 35,
   "metadata": {
    "ExecuteTime": {
     "end_time": "2020-08-20T05:20:33.147964Z",
     "start_time": "2020-08-20T05:20:27.251195Z"
    },
    "code_folding": []
   },
   "outputs": [
    {
     "data": {
      "application/vnd.jupyter.widget-view+json": {
       "model_id": "",
       "version_major": 2,
       "version_minor": 0
      },
      "text/plain": [
       "HBox(children=(IntProgress(value=0), HTML(value='')))"
      ]
     },
     "metadata": {},
     "output_type": "display_data"
    },
    {
     "name": "stdout",
     "output_type": "stream",
     "text": [
      "\r"
     ]
    },
    {
     "data": {
      "application/vnd.jupyter.widget-view+json": {
       "model_id": "",
       "version_major": 2,
       "version_minor": 0
      },
      "text/plain": [
       "HBox(children=(IntProgress(value=0), HTML(value='')))"
      ]
     },
     "metadata": {},
     "output_type": "display_data"
    },
    {
     "name": "stdout",
     "output_type": "stream",
     "text": [
      "\r"
     ]
    },
    {
     "data": {
      "application/vnd.jupyter.widget-view+json": {
       "model_id": "",
       "version_major": 2,
       "version_minor": 0
      },
      "text/plain": [
       "HBox(children=(IntProgress(value=0), HTML(value='')))"
      ]
     },
     "metadata": {},
     "output_type": "display_data"
    },
    {
     "name": "stdout",
     "output_type": "stream",
     "text": [
      "\r"
     ]
    }
   ],
   "source": [
    "for planning_ratio in planning_ratios:\n",
    "    \n",
    "    dynaq_cb = DynaQ(planning_ratio)\n",
    "    el_tracker = EpisodeLengthTracker()\n",
    "    q_tracker = ValueFunctionTracker()\n",
    "    cb_handler = CallbackHandler(cbs=[dynaq_cb, el_tracker, q_tracker])\n",
    "\n",
    "    np.random.seed(30)\n",
    "    random.seed(30)\n",
    "    \n",
    "    env = VanillaGridWorld(num_rows=10, num_cols=10, start_coord=(0, 0), end_coord=(9, 9), mode=1)\n",
    "    policy = EpsilonGreedyPolicy(q=np.zeros(env.action_space_shape), epsilon=0.1)\n",
    "\n",
    "    algo = QLearningBase(\n",
    "        env=env, policy=policy, alpha=0.1, gamma=0.99, cb_handler=cb_handler\n",
    "    )\n",
    "\n",
    "    algo.run(max_iterations=100, which_tqdm='notebook')\n",
    "    \n",
    "    np.save(f'{npy_save_dir}/dynaq_{planning_ratio}_online_trajectory_lengths.npy', np.array(el_tracker.values))"
   ]
  },
  {
   "cell_type": "code",
   "execution_count": 36,
   "metadata": {
    "ExecuteTime": {
     "end_time": "2020-08-20T05:20:35.194669Z",
     "start_time": "2020-08-20T05:20:35.163775Z"
    }
   },
   "outputs": [],
   "source": [
    "num_planning_steps_0 = np.load(f'{npy_save_dir}/dynaq_0_online_trajectory_lengths.npy')\n",
    "num_planning_steps_1 = np.load(f'{npy_save_dir}/dynaq_1_online_trajectory_lengths.npy')\n",
    "num_planning_steps_20 = np.load(f'{npy_save_dir}/dynaq_20_online_trajectory_lengths.npy')"
   ]
  },
  {
   "cell_type": "code",
   "execution_count": 37,
   "metadata": {
    "ExecuteTime": {
     "end_time": "2020-08-20T05:20:35.591764Z",
     "start_time": "2020-08-20T05:20:35.564231Z"
    }
   },
   "outputs": [
    {
     "name": "stdout",
     "output_type": "stream",
     "text": [
      "18\n",
      "18\n",
      "18\n"
     ]
    }
   ],
   "source": [
    "print(num_planning_steps_0.min())\n",
    "print(num_planning_steps_1.min())\n",
    "print(num_planning_steps_20.min())"
   ]
  },
  {
   "cell_type": "markdown",
   "metadata": {},
   "source": [
    "## Visualize online performance"
   ]
  },
  {
   "cell_type": "code",
   "execution_count": 38,
   "metadata": {
    "ExecuteTime": {
     "end_time": "2020-08-20T05:20:36.333333Z",
     "start_time": "2020-08-20T05:20:36.308079Z"
    }
   },
   "outputs": [],
   "source": [
    "def smooth(y, box_pts):\n",
    "    box = np.ones(box_pts)/box_pts\n",
    "    y_smooth = np.convolve(y, box, mode='valid')\n",
    "    return y_smooth"
   ]
  },
  {
   "cell_type": "code",
   "execution_count": 39,
   "metadata": {
    "ExecuteTime": {
     "end_time": "2020-08-20T05:20:37.297844Z",
     "start_time": "2020-08-20T05:20:36.512731Z"
    }
   },
   "outputs": [
    {
     "data": {
      "image/png": "[encoded data removed]",
      "text/plain": [
       "<Figure size 432x288 with 1 Axes>"
      ]
     },
     "metadata": {
      "needs_background": "light"
     },
     "output_type": "display_data"
    }
   ],
   "source": [
    "plt.rcParams.update({'font.size': 12})\n",
    "\n",
    "window_size = 10\n",
    "\n",
    "plt.plot(smooth(num_planning_steps_0, window_size), label='planning ratio = 0')\n",
    "plt.plot(smooth(num_planning_steps_1, window_size), label='planning ratio = 1')\n",
    "plt.plot(smooth(num_planning_steps_20, window_size), label='planning ratio = 20')\n",
    "plt.plot([0, len(num_planning_steps_0)-window_size], [19, 19], label='optimal')\n",
    "\n",
    "plt.grid()\n",
    "\n",
    "plt.xlabel('Number of episodes'); plt.ylabel('Episode length')\n",
    "plt.legend()\n",
    "\n",
    "plt.savefig(f'{img_save_dir}/dynaq_online_performance.png', dpi=300, bbox_inches = 'tight', pad_inches = 0)"
   ]
  },
  {
   "cell_type": "markdown",
   "metadata": {},
   "source": [
    "## Effect of no planning vs. planning"
   ]
  },
  {
   "cell_type": "code",
   "execution_count": 40,
   "metadata": {
    "ExecuteTime": {
     "end_time": "2020-08-20T05:20:38.042830Z",
     "start_time": "2020-08-20T05:20:38.018044Z"
    }
   },
   "outputs": [],
   "source": [
    "# after the first action has been taken in the second episode + planning for one state-action pair\n",
    "q = q_tracker.after_first_episode_q\n",
    "learned_policy = q.argmax(axis=-1)"
   ]
  },
  {
   "cell_type": "code",
   "execution_count": 41,
   "metadata": {
    "ExecuteTime": {
     "end_time": "2020-08-20T05:20:38.385042Z",
     "start_time": "2020-08-20T05:20:38.347297Z"
    }
   },
   "outputs": [],
   "source": [
    "ix_to_str = {\n",
    "    0 : r'$\\uparrow$',\n",
    "    1 : r'$\\rightarrow$',\n",
    "    2 : r'$\\downarrow$',\n",
    "    3 : r'$\\leftarrow$'\n",
    "}"
   ]
  },
  {
   "cell_type": "code",
   "execution_count": 42,
   "metadata": {
    "ExecuteTime": {
     "end_time": "2020-08-20T05:20:40.265670Z",
     "start_time": "2020-08-20T05:20:38.777140Z"
    }
   },
   "outputs": [
    {
     "data": {
      "image/png": "[encoded data removed]",
      "text/plain": [
       "<Figure size 1080x504 with 1 Axes>"
      ]
     },
     "metadata": {},
     "output_type": "display_data"
    }
   ],
   "source": [
    "plt.figure(figsize=(15, 7))\n",
    "\n",
    "plt.matshow(np.zeros_like(learned_policy), fignum=1, vmin=-1, vmax=1, cmap='seismic')\n",
    "\n",
    "for (i, j), z in np.ndenumerate(learned_policy):\n",
    "    \n",
    "    if not np.all(q[i, j][0] == q[i, j]):\n",
    "\n",
    "        # sanity check: start\n",
    "        \n",
    "        env.current_coord = (i, j)\n",
    "        while True:\n",
    "            env.step(learned_policy[env.current_coord])\n",
    "            if env.is_episode_terminated():\n",
    "                break\n",
    "                \n",
    "        # sanity check: end\n",
    "            \n",
    "        plt.text(\n",
    "            j, i, ix_to_str[int(z)], \n",
    "            ha='center', va='center', color='black', fontsize=15, weight='bold',\n",
    "            bbox=dict(boxstyle='round', facecolor='gold', edgecolor='0')\n",
    "        )\n",
    "        \n",
    "    if (i, j) == (0, 0):\n",
    "        \n",
    "        plt.text(\n",
    "            j, i, 'S',\n",
    "            ha='center', va='center', color='black', fontsize=30, weight='bold',\n",
    "        )\n",
    "        \n",
    "    elif (i, j) == (9, 9):\n",
    "        \n",
    "        plt.text(\n",
    "            j, i, 'T',\n",
    "            ha='center', va='center', color='black', fontsize=30, weight='bold',\n",
    "        )\n",
    "\n",
    "plt.xticks([]); plt.yticks([])\n",
    "\n",
    "ax = plt.gca()\n",
    "ax.set_xticks(np.arange(-.5, 10, 1), minor=True);\n",
    "ax.set_yticks(np.arange(-.5, 10, 1), minor=True);\n",
    "ax.grid(which='minor', color='black', linestyle='-', linewidth=1)\n",
    "    \n",
    "plt.savefig(f'{img_save_dir}/dynaq_n20_after_first_episode_policy.png', dpi=300, bbox_inches = 'tight', pad_inches = 0.1)"
   ]
  },
  {
   "cell_type": "code",
   "execution_count": 43,
   "metadata": {
    "ExecuteTime": {
     "end_time": "2020-08-20T05:20:41.196649Z",
     "start_time": "2020-08-20T05:20:41.171218Z"
    }
   },
   "outputs": [],
   "source": [
    "# halfway through the second episode; in Q-learning, the second episode propagate values one state-action pair backward\n",
    "q = q_tracker.after_second_episode_q\n",
    "learned_policy = q.argmax(axis=-1)"
   ]
  },
  {
   "cell_type": "code",
   "execution_count": 44,
   "metadata": {
    "ExecuteTime": {
     "end_time": "2020-08-20T05:20:45.623248Z",
     "start_time": "2020-08-20T05:20:43.970195Z"
    }
   },
   "outputs": [
    {
     "data": {
      "image/png": "[encoded data removed]",
      "text/plain": [
       "<Figure size 1080x504 with 1 Axes>"
      ]
     },
     "metadata": {},
     "output_type": "display_data"
    }
   ],
   "source": [
    "plt.figure(figsize=(15, 7))\n",
    "\n",
    "plt.matshow(np.zeros_like(learned_policy), fignum=1, vmin=-1, vmax=1, cmap='seismic')\n",
    "\n",
    "for (i, j), z in np.ndenumerate(learned_policy):\n",
    "    \n",
    "    if not np.all(q[i, j][0] == q[i, j]):\n",
    "\n",
    "        # sanity check: start\n",
    "        \n",
    "        env.current_coord = (i, j)\n",
    "        while True:\n",
    "            env.step(learned_policy[env.current_coord])\n",
    "            if env.is_episode_terminated():\n",
    "                break\n",
    "                \n",
    "        # sanity check: end\n",
    "            \n",
    "        plt.text(\n",
    "            j, i, ix_to_str[int(z)], \n",
    "            ha='center', va='center', color='black', fontsize=15, weight='bold',\n",
    "            bbox=dict(boxstyle='round', facecolor='gold', edgecolor='0')\n",
    "        )\n",
    "        \n",
    "    if (i, j) == (0, 0):\n",
    "        \n",
    "        plt.text(\n",
    "            j, i, 'S',\n",
    "            ha='center', va='center', color='black', fontsize=30, weight='bold',\n",
    "        )\n",
    "        \n",
    "    elif (i, j) == (9, 9):\n",
    "        \n",
    "        plt.text(\n",
    "            j, i, 'T',\n",
    "            ha='center', va='center', color='black', fontsize=30, weight='bold',\n",
    "        )\n",
    "\n",
    "plt.xticks([]); plt.yticks([])\n",
    "\n",
    "ax = plt.gca()\n",
    "ax.set_xticks(np.arange(-.5, 10, 1), minor=True);\n",
    "ax.set_yticks(np.arange(-.5, 10, 1), minor=True);\n",
    "ax.grid(which='minor', color='black', linestyle='-', linewidth=1)\n",
    "    \n",
    "plt.savefig(f'{img_save_dir}/dynaq_n20_after_second_episode_policy.png', dpi=300, bbox_inches = 'tight', pad_inches = 0.1)"
   ]
  },
  {
   "cell_type": "markdown",
   "metadata": {},
   "source": [
    "## Efficiency of policy learning"
   ]
  },
  {
   "cell_type": "code",
   "execution_count": 45,
   "metadata": {
    "ExecuteTime": {
     "end_time": "2020-08-20T05:20:49.773446Z",
     "start_time": "2020-08-20T05:20:49.747832Z"
    }
   },
   "outputs": [],
   "source": [
    "learned_policies = []\n",
    "for q in q_tracker.during_second_episode_qs:\n",
    "    learned_policies.append(q.argmax(axis=-1))"
   ]
  },
  {
   "cell_type": "code",
   "execution_count": 46,
   "metadata": {
    "ExecuteTime": {
     "end_time": "2020-08-20T05:20:50.254554Z",
     "start_time": "2020-08-20T05:20:50.228125Z"
    }
   },
   "outputs": [
    {
     "data": {
      "text/plain": [
       "59"
      ]
     },
     "execution_count": 46,
     "metadata": {},
     "output_type": "execute_result"
    }
   ],
   "source": [
    "len(q_tracker.during_second_episode_qs)"
   ]
  },
  {
   "cell_type": "code",
   "execution_count": 47,
   "metadata": {
    "ExecuteTime": {
     "end_time": "2020-08-20T05:20:52.133845Z",
     "start_time": "2020-08-20T05:20:52.105713Z"
    }
   },
   "outputs": [],
   "source": [
    "num_qs_updated_total = 0\n",
    "num_qs_updated_total_s = []\n",
    "num_actions_updated_total = 0\n",
    "num_actions_updated_total_s = []\n",
    "for i, (q, p) in enumerate(zip(q_tracker.during_second_episode_qs, learned_policies)):\n",
    "    if i != 0:\n",
    "        \n",
    "        num_qs_updated = np.sum(q != q_tracker.during_second_episode_qs[i-1])\n",
    "        num_qs_updated_total += num_qs_updated\n",
    "        num_qs_updated_total_s.append(num_qs_updated_total)\n",
    "        \n",
    "        num_actions_updated = np.sum(p != learned_policies[i-1])\n",
    "        num_actions_updated_total += num_actions_updated\n",
    "        num_actions_updated_total_s.append(num_actions_updated_total)"
   ]
  },
  {
   "cell_type": "code",
   "execution_count": 49,
   "metadata": {
    "ExecuteTime": {
     "end_time": "2020-08-20T05:20:59.883131Z",
     "start_time": "2020-08-20T05:20:59.242299Z"
    }
   },
   "outputs": [
    {
     "data": {
      "image/png": "[encoded data removed]",
      "text/plain": [
       "<Figure size 432x288 with 1 Axes>"
      ]
     },
     "metadata": {
      "needs_background": "light"
     },
     "output_type": "display_data"
    }
   ],
   "source": [
    "plt.plot(np.arange(1, len(num_qs_updated_total_s)+1)*20, num_qs_updated_total_s, label='Q')\n",
    "plt.plot(np.arange(1, len(num_qs_updated_total_s)+1)*20, num_actions_updated_total_s, label='Policy')\n",
    "\n",
    "plt.xlabel('Number of planning steps')\n",
    "plt.ylabel('Cumulative # of effective updates')\n",
    "plt.legend()\n",
    "\n",
    "plt.grid()\n",
    "plt.savefig(f'{img_save_dir}/dynaq_n20_efficiency.png', dpi=300, bbox_inches = 'tight', pad_inches = 0)"
   ]
  },
  {
   "cell_type": "code",
   "execution_count": null,
   "metadata": {},
   "outputs": [],
   "source": []
  }
 ],
 "metadata": {
  "kernelspec": {
   "display_name": "Python 3",
   "language": "python",
   "name": "python3"
  },
  "language_info": {
   "codemirror_mode": {
    "name": "ipython",
    "version": 3
   },
   "file_extension": ".py",
   "mimetype": "text/x-python",
   "name": "python",
   "nbconvert_exporter": "python",
   "pygments_lexer": "ipython3",
   "version": "3.6.9"
  },
  "toc": {
   "base_numbering": 1,
   "nav_menu": {},
   "number_sections": false,
   "sideBar": true,
   "skip_h1_title": false,
   "title_cell": "Table of Contents",
   "title_sidebar": "Contents",
   "toc_cell": false,
   "toc_position": {},
   "toc_section_display": true,
   "toc_window_display": true
  }
 },
 "nbformat": 4,
 "nbformat_minor": 2
}
