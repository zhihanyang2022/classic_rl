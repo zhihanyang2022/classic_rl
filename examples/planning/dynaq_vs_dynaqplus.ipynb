{
 "cells": [
  {
   "cell_type": "markdown",
   "metadata": {},
   "source": [
    "# Dyna-Q vs. Dyna-Q+"
   ]
  },
  {
   "cell_type": "code",
   "execution_count": 690,
   "metadata": {
    "ExecuteTime": {
     "end_time": "2020-08-20T05:12:28.998307Z",
     "start_time": "2020-08-20T05:12:27.565393Z"
    }
   },
   "outputs": [],
   "source": [
    "%reload_ext autoreload\n",
    "%autoreload 2"
   ]
  },
  {
   "cell_type": "code",
   "execution_count": 691,
   "metadata": {
    "ExecuteTime": {
     "end_time": "2020-08-20T05:12:30.217949Z",
     "start_time": "2020-08-20T05:12:30.144814Z"
    }
   },
   "outputs": [],
   "source": [
    "import sys\n",
    "sys.path.append('../../modules')\n",
    "\n",
    "import json\n",
    "\n",
    "import random\n",
    "import numpy as np\n",
    "from scipy.signal import savgol_filter\n",
    "import pandas as pd\n",
    "import matplotlib.pyplot as plt\n",
    "from matplotlib import cm\n",
    "from tqdm.notebook import tqdm\n",
    "\n",
    "from env.gridworld import GridWorldWithWallsAndTraps\n",
    "from policy import EpsilonGreedyPolicy\n",
    "\n",
    "from algo.planning import QLearningBase\n",
    "\n",
    "from algo.planning_cbs.cb_handler import CallbackHandler\n",
    "from algo.planning_cbs.dynaq import DynaQ\n",
    "from algo.planning_cbs.dynaqplus import DynaQPlus\n",
    "from algo.planning_cbs.episode_length_tracker import EpisodeLengthTracker\n",
    "from algo.planning_cbs.value_function_tracker import ValueFunctionTracker"
   ]
  },
  {
   "cell_type": "code",
   "execution_count": 692,
   "metadata": {
    "ExecuteTime": {
     "end_time": "2020-08-20T05:12:30.778242Z",
     "start_time": "2020-08-20T05:12:30.711051Z"
    }
   },
   "outputs": [],
   "source": [
    "img_save_dir = \"/Users/yangzhihan/Desktop/projects/deeprl_notes_site/images/2020-08-11-dynaq\""
   ]
  },
  {
   "cell_type": "code",
   "execution_count": 693,
   "metadata": {
    "ExecuteTime": {
     "end_time": "2020-08-20T05:12:31.198202Z",
     "start_time": "2020-08-20T05:12:31.125725Z"
    }
   },
   "outputs": [],
   "source": [
    "grid_type_array_1 = np.array([\n",
    "    [0, 0, 0, 0, 0, 0, 0, 0, 4],\n",
    "    [0, 0, 0, 0, 0, 0, 0, 0, 0],\n",
    "    [0, 0, 0, 0, 0, 0, 0, 0, 0],\n",
    "    [0, 2, 2, 2, 2, 2, 2, 2, 2],\n",
    "    [0, 0, 0, 1, 0, 0, 0, 0, 0],\n",
    "])\n",
    "\n",
    "grid_type_array_2 = np.array([\n",
    "    [0, 0, 0, 0, 0, 0, 0, 0, 4],\n",
    "    [0, 0, 0, 0, 0, 0, 0, 0, 0],\n",
    "    [0, 0, 0, 0, 0, 0, 0, 0, 0],\n",
    "    [0, 2, 2, 2, 2, 2, 2, 2, 0],\n",
    "    [0, 0, 0, 1, 0, 0, 0, 0, 0],\n",
    "])"
   ]
  },
  {
   "cell_type": "code",
   "execution_count": 694,
   "metadata": {
    "ExecuteTime": {
     "end_time": "2020-08-20T05:12:33.728357Z",
     "start_time": "2020-08-20T05:12:31.519105Z"
    }
   },
   "outputs": [
    {
     "data": {
      "image/png": "[encoded data removed]",
      "text/plain": [
       "<Figure size 518.4x288 with 1 Axes>"
      ]
     },
     "metadata": {
      "needs_background": "light"
     },
     "output_type": "display_data"
    }
   ],
   "source": [
    "plt.matshow(grid_type_array_1, cmap='gray')\n",
    "\n",
    "for (i, j), z in np.ndenumerate(grid_type_array_1):\n",
    "    \n",
    "    if z == 0:\n",
    "        text = 'Empty'\n",
    "    elif z == 1:\n",
    "        text = 'Start'\n",
    "    elif z == 2:\n",
    "        text = 'Wall'\n",
    "    elif z == 4:\n",
    "        text = 'Terminal'\n",
    "    \n",
    "    plt.text(\n",
    "        j, i, text,\n",
    "        ha='center', va='center', color='orange', fontsize=9, weight='bold',\n",
    "    )\n",
    "\n",
    "ax = plt.gca()\n",
    "ax.set_xticks(np.arange(-.5, 9, 1), minor=True);\n",
    "ax.set_yticks(np.arange(-.5, 5, 1), minor=True);\n",
    "ax.grid(which='minor', color='white', linestyle='-', linewidth=2)\n",
    "\n",
    "plt.savefig(f'{img_save_path}/shortcut_maze_1.png', dpi=300, bbox_inches = 'tight', pad_inches = 0.1)"
   ]
  },
  {
   "cell_type": "code",
   "execution_count": 695,
   "metadata": {
    "ExecuteTime": {
     "end_time": "2020-08-20T05:12:35.929343Z",
     "start_time": "2020-08-20T05:12:33.734387Z"
    }
   },
   "outputs": [
    {
     "data": {
      "image/png": "[encoded data removed]",
      "text/plain": [
       "<Figure size 518.4x288 with 1 Axes>"
      ]
     },
     "metadata": {
      "needs_background": "light"
     },
     "output_type": "display_data"
    }
   ],
   "source": [
    "plt.matshow(grid_type_array_2, cmap='gray')\n",
    "\n",
    "for (i, j), z in np.ndenumerate(grid_type_array_2):\n",
    "    \n",
    "    if z == 0:\n",
    "        text = 'Empty'\n",
    "    elif z == 1:\n",
    "        text = 'Start'\n",
    "    elif z == 2:\n",
    "        text = 'Wall'\n",
    "    elif z == 4:\n",
    "        text = 'Terminal'\n",
    "    \n",
    "    plt.text(\n",
    "        j, i, text,\n",
    "        ha='center', va='center', color='orange', fontsize=9, weight='bold',\n",
    "    )\n",
    "\n",
    "ax = plt.gca()\n",
    "ax.set_xticks(np.arange(-.5, 9, 1), minor=True);\n",
    "ax.set_yticks(np.arange(-.5, 5, 1), minor=True);\n",
    "ax.grid(which='minor', color='white', linestyle='-', linewidth=2)\n",
    "\n",
    "plt.savefig(f'{img_save_path}/shortcut_maze_2.png', dpi=300, bbox_inches = 'tight', pad_inches = 0.1)"
   ]
  },
  {
   "cell_type": "code",
   "execution_count": 696,
   "metadata": {
    "ExecuteTime": {
     "end_time": "2020-08-20T05:12:36.960332Z",
     "start_time": "2020-08-20T05:12:36.869499Z"
    }
   },
   "outputs": [],
   "source": [
    "reward_array = np.zeros_like(grid_type_array_1)\n",
    "reward_array[0, -1] = 1"
   ]
  },
  {
   "cell_type": "code",
   "execution_count": 697,
   "metadata": {
    "ExecuteTime": {
     "end_time": "2020-08-20T05:12:37.353795Z",
     "start_time": "2020-08-20T05:12:37.262473Z"
    }
   },
   "outputs": [
    {
     "data": {
      "text/plain": [
       "array([[0, 0, 0, 0, 0, 0, 0, 0, 1],\n",
       "       [0, 0, 0, 0, 0, 0, 0, 0, 0],\n",
       "       [0, 0, 0, 0, 0, 0, 0, 0, 0],\n",
       "       [0, 0, 0, 0, 0, 0, 0, 0, 0],\n",
       "       [0, 0, 0, 0, 0, 0, 0, 0, 0]])"
      ]
     },
     "execution_count": 697,
     "metadata": {},
     "output_type": "execute_result"
    }
   ],
   "source": [
    "reward_array"
   ]
  },
  {
   "cell_type": "code",
   "execution_count": 698,
   "metadata": {
    "ExecuteTime": {
     "end_time": "2020-08-20T05:12:37.577874Z",
     "start_time": "2020-08-20T05:12:37.498694Z"
    }
   },
   "outputs": [],
   "source": [
    "int_to_action_dict = {\n",
    "    0 : 'up',\n",
    "    1 : 'right',\n",
    "    2 : 'down',\n",
    "    3 : 'left'\n",
    "}"
   ]
  },
  {
   "cell_type": "markdown",
   "metadata": {},
   "source": [
    "## Run the algorithm"
   ]
  },
  {
   "cell_type": "code",
   "execution_count": 699,
   "metadata": {
    "ExecuteTime": {
     "end_time": "2020-08-20T05:12:38.245644Z",
     "start_time": "2020-08-20T05:12:38.176120Z"
    }
   },
   "outputs": [],
   "source": [
    "env_1 = GridWorldWithWallsAndTraps(grid_type_array_1, reward_array, int_to_action_dict)\n",
    "env_2 = GridWorldWithWallsAndTraps(grid_type_array_2, reward_array, int_to_action_dict)"
   ]
  },
  {
   "cell_type": "code",
   "execution_count": 700,
   "metadata": {
    "ExecuteTime": {
     "end_time": "2020-08-20T05:12:38.857156Z",
     "start_time": "2020-08-20T05:12:38.790619Z"
    }
   },
   "outputs": [],
   "source": [
    "planning_ratio = 10"
   ]
  },
  {
   "cell_type": "code",
   "execution_count": 703,
   "metadata": {
    "ExecuteTime": {
     "end_time": "2020-08-20T05:13:20.349561Z",
     "start_time": "2020-08-20T05:13:15.822987Z"
    }
   },
   "outputs": [
    {
     "data": {
      "application/vnd.jupyter.widget-view+json": {
       "model_id": "",
       "version_major": 2,
       "version_minor": 0
      },
      "text/plain": [
       "HBox(children=(IntProgress(value=0), HTML(value='')))"
      ]
     },
     "metadata": {},
     "output_type": "display_data"
    },
    {
     "data": {
      "application/vnd.jupyter.widget-view+json": {
       "model_id": "",
       "version_major": 2,
       "version_minor": 0
      },
      "text/plain": [
       "HBox(children=(IntProgress(value=0, max=200), HTML(value='')))"
      ]
     },
     "metadata": {},
     "output_type": "display_data"
    }
   ],
   "source": [
    "cb_handler = CallbackHandler(cbs=[\n",
    "    DynaQ(planning_ratio), \n",
    "    EpisodeLengthTracker(),\n",
    "])\n",
    "\n",
    "random.seed(42)\n",
    "np.random.seed(42)\n",
    "\n",
    "algo1 = QLearningBase(\n",
    "    env=env_1, \n",
    "    policy=EpsilonGreedyPolicy(q=np.zeros(env_1.action_space_shape), epsilon=0.1), \n",
    "    alpha=1,  # seems like a very large learning rate to me; necessary to replicate the book's result\n",
    "    gamma=0.95, \n",
    "    cb_handler=cb_handler\n",
    ")\n",
    "\n",
    "algo1.run(max_iterations=100)\n",
    "\n",
    "algo1.env = env_2\n",
    "\n",
    "algo1.run(max_iterations=200)"
   ]
  },
  {
   "cell_type": "code",
   "execution_count": 704,
   "metadata": {
    "ExecuteTime": {
     "end_time": "2020-08-20T05:13:22.474315Z",
     "start_time": "2020-08-20T05:13:20.689920Z"
    }
   },
   "outputs": [
    {
     "data": {
      "image/png": "[encoded data removed]",
      "text/plain": [
       "<Figure size 518.4x288 with 1 Axes>"
      ]
     },
     "metadata": {
      "needs_background": "light"
     },
     "output_type": "display_data"
    }
   ],
   "source": [
    "algo1.plot_value_function_and_policy(f'{img_save_dir}/dynaq_shortcut_maze_2_policy.png')"
   ]
  },
  {
   "cell_type": "markdown",
   "metadata": {},
   "source": [
    "## Dyna-Q+ learned policy"
   ]
  },
  {
   "cell_type": "code",
   "execution_count": 705,
   "metadata": {
    "ExecuteTime": {
     "end_time": "2020-08-20T05:13:26.271774Z",
     "start_time": "2020-08-20T05:13:26.203494Z"
    }
   },
   "outputs": [],
   "source": [
    "planning_ratio = 10\n",
    "k = 1e-3"
   ]
  },
  {
   "cell_type": "code",
   "execution_count": 706,
   "metadata": {
    "ExecuteTime": {
     "end_time": "2020-08-20T05:13:32.363040Z",
     "start_time": "2020-08-20T05:13:27.627592Z"
    }
   },
   "outputs": [
    {
     "data": {
      "application/vnd.jupyter.widget-view+json": {
       "model_id": "",
       "version_major": 2,
       "version_minor": 0
      },
      "text/plain": [
       "HBox(children=(IntProgress(value=0), HTML(value='')))"
      ]
     },
     "metadata": {},
     "output_type": "display_data"
    },
    {
     "data": {
      "application/vnd.jupyter.widget-view+json": {
       "model_id": "",
       "version_major": 2,
       "version_minor": 0
      },
      "text/plain": [
       "HBox(children=(IntProgress(value=0, max=200), HTML(value='')))"
      ]
     },
     "metadata": {},
     "output_type": "display_data"
    }
   ],
   "source": [
    "random.seed(42)\n",
    "np.random.seed(42)\n",
    "\n",
    "algo2 = QLearningBase(\n",
    "    env=env_1, \n",
    "    policy=EpsilonGreedyPolicy(q=np.zeros(env_1.action_space_shape), epsilon=0.1), \n",
    "    alpha=1,  # seems like a very large learning rate to me; necessary to replicate the book's result\n",
    "    gamma=0.95, \n",
    "    cb_handler=CallbackHandler(\n",
    "        cbs=[\n",
    "            DynaQPlus(planning_ratio, k, env_1), \n",
    "            EpisodeLengthTracker(),\n",
    "        ]\n",
    "    )\n",
    ")\n",
    "\n",
    "algo2.run(100)\n",
    "\n",
    "algo2.env = env_2\n",
    "\n",
    "algo2.run(200)"
   ]
  },
  {
   "cell_type": "code",
   "execution_count": 707,
   "metadata": {
    "ExecuteTime": {
     "end_time": "2020-08-20T05:13:35.579199Z",
     "start_time": "2020-08-20T05:13:33.679414Z"
    }
   },
   "outputs": [
    {
     "data": {
      "image/png": "[encoded data removed]",
      "text/plain": [
       "<Figure size 518.4x288 with 1 Axes>"
      ]
     },
     "metadata": {
      "needs_background": "light"
     },
     "output_type": "display_data"
    }
   ],
   "source": [
    "algo2.plot_value_function_and_policy(f'{img_save_dir}/dynaqplus_shortcut_maze_2_policy.png')"
   ]
  },
  {
   "cell_type": "markdown",
   "metadata": {},
   "source": [
    "# Performance comparison"
   ]
  },
  {
   "cell_type": "code",
   "execution_count": 708,
   "metadata": {
    "ExecuteTime": {
     "end_time": "2020-08-20T05:13:39.350164Z",
     "start_time": "2020-08-20T05:13:39.281169Z"
    }
   },
   "outputs": [],
   "source": [
    "def smooth(y, box_pts):\n",
    "    box = np.ones(box_pts)/box_pts\n",
    "    y_smooth = np.convolve(y, box, mode='valid')\n",
    "    return y_smooth"
   ]
  },
  {
   "cell_type": "code",
   "execution_count": 709,
   "metadata": {
    "ExecuteTime": {
     "end_time": "2020-08-20T05:13:40.378043Z",
     "start_time": "2020-08-20T05:13:39.598652Z"
    }
   },
   "outputs": [
    {
     "data": {
      "image/png": "[encoded data removed]",
      "text/plain": [
       "<Figure size 432x288 with 1 Axes>"
      ]
     },
     "metadata": {
      "needs_background": "light"
     },
     "output_type": "display_data"
    }
   ],
   "source": [
    "plt.plot(smooth(algo1.cb_handler.cbs[1].values, 3), label='Dyna-Q')\n",
    "plt.plot(smooth(algo2.cb_handler.cbs[1].values, 3), label='Dyna-Q+')\n",
    "plt.ylim(0, 70)\n",
    "plt.axvline(x=100, color='black', label='Env. swapped')\n",
    "plt.axhline(y=15, color='red', label='Old optimal')\n",
    "plt.axhline(y=9, color='green', label='New optimal')\n",
    "plt.legend()\n",
    "plt.xlabel('Episodes'); plt.ylabel('Trajectory length');\n",
    "plt.savefig(f'{img_save_path}/dynaq_vs_dynaqplus_trajectory_length.png', dpi=300, bbox_inches='tight', pad_inches=0)"
   ]
  }
 ],
 "metadata": {
  "kernelspec": {
   "display_name": "Python 3",
   "language": "python",
   "name": "python3"
  },
  "language_info": {
   "codemirror_mode": {
    "name": "ipython",
    "version": 3
   },
   "file_extension": ".py",
   "mimetype": "text/x-python",
   "name": "python",
   "nbconvert_exporter": "python",
   "pygments_lexer": "ipython3",
   "version": "3.6.9"
  },
  "toc": {
   "base_numbering": 1,
   "nav_menu": {},
   "number_sections": false,
   "sideBar": true,
   "skip_h1_title": false,
   "title_cell": "Table of Contents",
   "title_sidebar": "Contents",
   "toc_cell": false,
   "toc_position": {
    "height": "calc(100% - 180px)",
    "left": "10px",
    "top": "150px",
    "width": "226.771px"
   },
   "toc_section_display": true,
   "toc_window_display": true
  }
 },
 "nbformat": 4,
 "nbformat_minor": 2
}
