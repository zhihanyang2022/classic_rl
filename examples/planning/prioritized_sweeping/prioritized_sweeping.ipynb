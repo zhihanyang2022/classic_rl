{
 "cells": [
  {
   "cell_type": "markdown",
   "metadata": {},
   "source": [
    "# Prioritized sweeping"
   ]
  },
  {
   "cell_type": "code",
   "execution_count": 1,
   "metadata": {
    "ExecuteTime": {
     "end_time": "2020-08-24T15:08:28.090270Z",
     "start_time": "2020-08-24T15:08:28.051019Z"
    }
   },
   "outputs": [],
   "source": [
    "%reload_ext autoreload\n",
    "%autoreload 2"
   ]
  },
  {
   "cell_type": "code",
   "execution_count": 2,
   "metadata": {
    "ExecuteTime": {
     "end_time": "2020-08-24T15:08:31.921868Z",
     "start_time": "2020-08-24T15:08:28.093633Z"
    }
   },
   "outputs": [],
   "source": [
    "import sys\n",
    "sys.path.append('../../../modules')\n",
    "\n",
    "import json\n",
    "\n",
    "import random\n",
    "import numpy as np\n",
    "from scipy.signal import savgol_filter\n",
    "import pandas as pd\n",
    "import matplotlib.pyplot as plt\n",
    "from matplotlib import cm\n",
    "\n",
    "from env.gridworld import VanillaGridWorld\n",
    "from policy import EpsilonGreedyPolicy\n",
    "\n",
    "from algo.planning import QLearningBase\n",
    "\n",
    "from algo.planning_cbs.cb_handler import CallbackHandler\n",
    "from algo.planning_cbs.dynaq import DynaQ\n",
    "from algo.planning_cbs.prioritized_sweeping import PrioritizedSweeping\n",
    "from algo.planning_cbs.episode_length_tracker import EpisodeLengthTracker"
   ]
  },
  {
   "cell_type": "code",
   "execution_count": 3,
   "metadata": {
    "ExecuteTime": {
     "end_time": "2020-08-24T15:08:31.973822Z",
     "start_time": "2020-08-24T15:08:31.944524Z"
    }
   },
   "outputs": [],
   "source": [
    "npy_save_dir = 'files'\n",
    "img_save_dir = '/Users/yangzhihan/Desktop/projects/deeprl_notes_site/images/2020-08-20-prioritized-sweeping'"
   ]
  },
  {
   "cell_type": "markdown",
   "metadata": {},
   "source": [
    "## Run the algorithm"
   ]
  },
  {
   "cell_type": "code",
   "execution_count": 29,
   "metadata": {
    "ExecuteTime": {
     "end_time": "2020-08-24T15:12:35.303048Z",
     "start_time": "2020-08-24T15:12:35.258465Z"
    }
   },
   "outputs": [],
   "source": [
    "planning_ratio = 3"
   ]
  },
  {
   "cell_type": "code",
   "execution_count": 30,
   "metadata": {
    "ExecuteTime": {
     "end_time": "2020-08-24T15:12:35.689601Z",
     "start_time": "2020-08-24T15:12:35.654976Z"
    }
   },
   "outputs": [],
   "source": [
    "env = VanillaGridWorld(num_rows=10, num_cols=10, start_coord=(0, 0), end_coord=(9, 9), mode=1)"
   ]
  },
  {
   "cell_type": "code",
   "execution_count": 25,
   "metadata": {
    "ExecuteTime": {
     "end_time": "2020-08-24T15:10:07.966753Z",
     "start_time": "2020-08-24T15:10:07.074843Z"
    },
    "code_folding": []
   },
   "outputs": [
    {
     "data": {
      "application/vnd.jupyter.widget-view+json": {
       "model_id": "",
       "version_major": 2,
       "version_minor": 0
      },
      "text/plain": [
       "HBox(children=(IntProgress(value=0), HTML(value='')))"
      ]
     },
     "metadata": {},
     "output_type": "display_data"
    },
    {
     "name": "stdout",
     "output_type": "stream",
     "text": [
      "\r"
     ]
    }
   ],
   "source": [
    "np.random.seed(30)\n",
    "random.seed(30)\n",
    "\n",
    "algo1 = QLearningBase(\n",
    "    env=env, \n",
    "    policy=EpsilonGreedyPolicy(q=np.zeros(env.action_space_shape), epsilon=0.1), \n",
    "    alpha=1, \n",
    "    gamma=0.95, \n",
    "    cb_handler=CallbackHandler(\n",
    "        cbs=[\n",
    "            DynaQ(planning_ratio),\n",
    "            EpisodeLengthTracker(),\n",
    "        ]\n",
    "    )\n",
    ")\n",
    "\n",
    "algo1.run(max_iterations=100, which_tqdm='notebook')\n",
    "\n",
    "#np.save(f'{npy_save_dir}/prioritized_sweeping_{planning_ratio}_online_trajectory_lengths.npy', np.array(el_tracker.values))"
   ]
  },
  {
   "cell_type": "code",
   "execution_count": 93,
   "metadata": {
    "ExecuteTime": {
     "end_time": "2020-08-24T16:28:46.678627Z",
     "start_time": "2020-08-24T16:28:45.917946Z"
    }
   },
   "outputs": [
    {
     "data": {
      "application/vnd.jupyter.widget-view+json": {
       "model_id": "",
       "version_major": 2,
       "version_minor": 0
      },
      "text/plain": [
       "HBox(children=(IntProgress(value=0), HTML(value='')))"
      ]
     },
     "metadata": {},
     "output_type": "display_data"
    },
    {
     "name": "stdout",
     "output_type": "stream",
     "text": [
      "\r"
     ]
    }
   ],
   "source": [
    "np.random.seed(30)\n",
    "random.seed(30)\n",
    "\n",
    "algo2 = QLearningBase(\n",
    "    env=env, \n",
    "    policy=EpsilonGreedyPolicy(q=np.zeros(env.action_space_shape), epsilon=0.1), \n",
    "    alpha=1, \n",
    "    gamma=0.95, \n",
    "    cb_handler=CallbackHandler(\n",
    "        cbs=[\n",
    "            PrioritizedSweeping(planning_ratio, td_error_threshold=1e-2),\n",
    "            EpisodeLengthTracker(),\n",
    "        ]\n",
    "    )\n",
    ")\n",
    "\n",
    "algo2.run(max_iterations=100, which_tqdm='notebook')\n",
    "\n",
    "#np.save(f'{npy_save_dir}/prioritized_sweeping_{planning_ratio}_online_trajectory_lengths.npy', np.array(el_tracker.values))"
   ]
  },
  {
   "cell_type": "code",
   "execution_count": 74,
   "metadata": {
    "ExecuteTime": {
     "end_time": "2020-08-24T16:19:16.951339Z",
     "start_time": "2020-08-24T16:19:16.917683Z"
    }
   },
   "outputs": [
    {
     "data": {
      "text/plain": [
       "(18, 18)"
      ]
     },
     "execution_count": 74,
     "metadata": {},
     "output_type": "execute_result"
    }
   ],
   "source": [
    "np.min(algo1.cb_handler.cbs[1].values), np.min(algo2.cb_handler.cbs[1].values)"
   ]
  },
  {
   "cell_type": "code",
   "execution_count": 75,
   "metadata": {
    "ExecuteTime": {
     "end_time": "2020-08-24T16:19:17.332500Z",
     "start_time": "2020-08-24T16:19:17.304612Z"
    }
   },
   "outputs": [],
   "source": [
    "num_values = len(algo1.cb_handler.cbs[1].values)"
   ]
  },
  {
   "cell_type": "code",
   "execution_count": 76,
   "metadata": {
    "ExecuteTime": {
     "end_time": "2020-08-24T16:19:17.919866Z",
     "start_time": "2020-08-24T16:19:17.645424Z"
    }
   },
   "outputs": [
    {
     "data": {
      "image/png": "[encoded data removed]",
      "text/plain": [
       "<Figure size 432x288 with 1 Axes>"
      ]
     },
     "metadata": {
      "needs_background": "light"
     },
     "output_type": "display_data"
    }
   ],
   "source": [
    "plt.scatter(np.arange(num_values), algo1.cb_handler.cbs[1].values, label='Un-prioritized')\n",
    "plt.scatter(np.arange(num_values), algo2.cb_handler.cbs[1].values, label='Prioritized')\n",
    "plt.legend()\n",
    "plt.ylim(0, 800)\n",
    "plt.xlim(0, 20)\n",
    "plt.show()"
   ]
  },
  {
   "cell_type": "code",
   "execution_count": 94,
   "metadata": {
    "ExecuteTime": {
     "end_time": "2020-08-24T16:28:48.814663Z",
     "start_time": "2020-08-24T16:28:48.781208Z"
    }
   },
   "outputs": [
    {
     "data": {
      "text/plain": [
       "1558"
      ]
     },
     "execution_count": 94,
     "metadata": {},
     "output_type": "execute_result"
    }
   ],
   "source": [
    "len(algo2.cb_handler.cbs[0].qs)"
   ]
  },
  {
   "cell_type": "code",
   "execution_count": 95,
   "metadata": {
    "ExecuteTime": {
     "end_time": "2020-08-24T16:28:49.914704Z",
     "start_time": "2020-08-24T16:28:49.880805Z"
    }
   },
   "outputs": [
    {
     "data": {
      "text/plain": [
       "1.0"
      ]
     },
     "execution_count": 95,
     "metadata": {},
     "output_type": "execute_result"
    }
   ],
   "source": [
    "np.max(algo2.cb_handler.cbs[0].priorities)"
   ]
  },
  {
   "cell_type": "code",
   "execution_count": 79,
   "metadata": {
    "ExecuteTime": {
     "end_time": "2020-08-24T16:19:21.254263Z",
     "start_time": "2020-08-24T16:19:19.282019Z"
    }
   },
   "outputs": [],
   "source": [
    "with open('prioritized_sweeping_first_two_episodes_qs.json', 'w+') as json_f:\n",
    "    json.dump([arr.tolist() for arr in algo2.cb_handler.cbs[0].qs], json_f)"
   ]
  },
  {
   "cell_type": "code",
   "execution_count": 80,
   "metadata": {
    "ExecuteTime": {
     "end_time": "2020-08-24T16:19:21.315177Z",
     "start_time": "2020-08-24T16:19:21.262233Z"
    }
   },
   "outputs": [],
   "source": [
    "with open('states.json', 'w+') as json_f:\n",
    "    json.dump(np.array(algo2.cb_handler.cbs[0].states).tolist(), json_f)"
   ]
  },
  {
   "cell_type": "code",
   "execution_count": 81,
   "metadata": {
    "ExecuteTime": {
     "end_time": "2020-08-24T16:19:21.501882Z",
     "start_time": "2020-08-24T16:19:21.320078Z"
    }
   },
   "outputs": [],
   "source": [
    "with open('actions.json', 'w+') as json_f:\n",
    "    json.dump(np.array(algo2.cb_handler.cbs[0].actions).tolist(), json_f)"
   ]
  },
  {
   "cell_type": "code",
   "execution_count": 82,
   "metadata": {
    "ExecuteTime": {
     "end_time": "2020-08-24T16:19:21.604072Z",
     "start_time": "2020-08-24T16:19:21.513233Z"
    }
   },
   "outputs": [],
   "source": [
    "with open('next_states.json', 'w+') as json_f:\n",
    "    json.dump(np.array(algo2.cb_handler.cbs[0].next_states).tolist(), json_f)"
   ]
  },
  {
   "cell_type": "code",
   "execution_count": 83,
   "metadata": {
    "ExecuteTime": {
     "end_time": "2020-08-24T16:19:21.668855Z",
     "start_time": "2020-08-24T16:19:21.608366Z"
    }
   },
   "outputs": [],
   "source": [
    "with open('argmax_next_actions.json', 'w+') as json_f:\n",
    "    json.dump(np.array(algo2.cb_handler.cbs[0].argmax_next_actions).tolist(), json_f)"
   ]
  },
  {
   "cell_type": "code",
   "execution_count": 84,
   "metadata": {
    "ExecuteTime": {
     "end_time": "2020-08-24T16:19:21.717712Z",
     "start_time": "2020-08-24T16:19:21.678944Z"
    }
   },
   "outputs": [],
   "source": [
    "with open('q_statuses.json', 'w+') as json_f:\n",
    "    json.dump(np.array(algo2.cb_handler.cbs[0].q_statuses).tolist(), json_f)"
   ]
  },
  {
   "cell_type": "code",
   "execution_count": 96,
   "metadata": {
    "ExecuteTime": {
     "end_time": "2020-08-24T16:28:56.869135Z",
     "start_time": "2020-08-24T16:28:54.944771Z"
    }
   },
   "outputs": [],
   "source": [
    "with open('priorities.json', 'w+') as json_f:\n",
    "    json.dump(np.array(algo2.cb_handler.cbs[0].priorities).tolist(), json_f)"
   ]
  },
  {
   "cell_type": "markdown",
   "metadata": {},
   "source": [
    "## Visualize online performance"
   ]
  },
  {
   "cell_type": "code",
   "execution_count": 33,
   "metadata": {
    "ExecuteTime": {
     "end_time": "2020-08-20T16:39:42.996161Z",
     "start_time": "2020-08-20T16:39:42.968721Z"
    }
   },
   "outputs": [],
   "source": [
    "def smooth(y, box_pts):\n",
    "    box = np.ones(box_pts)/box_pts\n",
    "    \\\n",
    "    y_smooth = np.convolve(y, box, mode='valid')\n",
    "    return y_smooth"
   ]
  },
  {
   "cell_type": "code",
   "execution_count": 39,
   "metadata": {
    "ExecuteTime": {
     "end_time": "2020-08-20T05:20:37.297844Z",
     "start_time": "2020-08-20T05:20:36.512731Z"
    }
   },
   "outputs": [
    {
     "data": {
      "image/png": "[encoded data removed]",
      "text/plain": [
       "<Figure size 432x288 with 1 Axes>"
      ]
     },
     "metadata": {
      "needs_background": "light"
     },
     "output_type": "display_data"
    }
   ],
   "source": [
    "plt.rcParams.update({'font.size': 12})\n",
    "\n",
    "window_size = 10\n",
    "\n",
    "plt.plot(smooth(num_planning_steps_0, window_size), label='planning ratio = 0')\n",
    "plt.plot(smooth(num_planning_steps_1, window_size), label='planning ratio = 1')\n",
    "plt.plot(smooth(num_planning_steps_20, window_size), label='planning ratio = 20')\n",
    "plt.plot([0, len(num_planning_steps_0)-window_size], [19, 19], label='optimal')\n",
    "\n",
    "plt.grid()\n",
    "\n",
    "plt.xlabel('Number of episodes'); plt.ylabel('Episode length')\n",
    "plt.legend()\n",
    "\n",
    "plt.savefig(f'{img_save_dir}/dynaq_online_performance.png', dpi=300, bbox_inches = 'tight', pad_inches = 0)"
   ]
  },
  {
   "cell_type": "markdown",
   "metadata": {},
   "source": [
    "## Effect of no planning vs. planning"
   ]
  },
  {
   "cell_type": "code",
   "execution_count": 152,
   "metadata": {
    "ExecuteTime": {
     "end_time": "2020-08-20T16:59:58.897584Z",
     "start_time": "2020-08-20T16:59:58.869649Z"
    }
   },
   "outputs": [],
   "source": [
    "# after the first action has been taken in the second episode + planning for one state-action pair\n",
    "q = algo2.cb_handler.cbs[2].after_first_episode_q\n",
    "learned_policy = q.argmax(axis=-1)"
   ]
  },
  {
   "cell_type": "code",
   "execution_count": 153,
   "metadata": {
    "ExecuteTime": {
     "end_time": "2020-08-20T16:59:59.421161Z",
     "start_time": "2020-08-20T16:59:59.396456Z"
    }
   },
   "outputs": [],
   "source": [
    "ix_to_str = {\n",
    "    0 : r'$\\uparrow$',\n",
    "    1 : r'$\\rightarrow$',\n",
    "    2 : r'$\\downarrow$',\n",
    "    3 : r'$\\leftarrow$'\n",
    "}"
   ]
  },
  {
   "cell_type": "code",
   "execution_count": 156,
   "metadata": {
    "ExecuteTime": {
     "end_time": "2020-08-20T17:00:15.799940Z",
     "start_time": "2020-08-20T17:00:15.309154Z"
    }
   },
   "outputs": [
    {
     "data": {
      "image/png": "[encoded data removed]",
      "text/plain": [
       "<Figure size 1080x504 with 1 Axes>"
      ]
     },
     "metadata": {},
     "output_type": "display_data"
    }
   ],
   "source": [
    "plt.figure(figsize=(15, 7))\n",
    "\n",
    "plt.matshow(np.zeros_like(learned_policy), fignum=1, vmin=-1, vmax=1, cmap='seismic')\n",
    "\n",
    "for (i, j), z in np.ndenumerate(learned_policy):\n",
    "    \n",
    "    if not np.all(q[i, j][0] == q[i, j]):\n",
    "\n",
    "        # sanity check: start\n",
    "        \n",
    "        env.current_coord = (i, j)\n",
    "        while True:\n",
    "            env.step(learned_policy[env.current_coord])\n",
    "            if env.is_episode_terminated():\n",
    "                break\n",
    "                \n",
    "        # sanity check: end\n",
    "            \n",
    "        plt.text(\n",
    "            j, i, ix_to_str[int(z)], \n",
    "            ha='center', va='center', color='black', fontsize=15, weight='bold',\n",
    "            bbox=dict(boxstyle='round', facecolor='gold', edgecolor='0')\n",
    "        )\n",
    "        \n",
    "    if (i, j) == (0, 0):\n",
    "        \n",
    "        plt.text(\n",
    "            j, i, 'S',\n",
    "            ha='center', va='center', color='black', fontsize=30, weight='bold',\n",
    "        )\n",
    "        \n",
    "    elif (i, j) == (9, 9):\n",
    "        \n",
    "        plt.text(\n",
    "            j, i, 'T',\n",
    "            ha='center', va='center', color='black', fontsize=30, weight='bold',\n",
    "        )\n",
    "\n",
    "plt.xticks([]); plt.yticks([])\n",
    "\n",
    "ax = plt.gca()\n",
    "ax.set_xticks(np.arange(-.5, 30, 1), minor=True);\n",
    "ax.set_yticks(np.arange(-.5, 30, 1), minor=True);\n",
    "ax.grid(which='minor', color='black', linestyle='-', linewidth=1)\n",
    "    \n",
    "#plt.savefig(f'{img_save_dir}/dynaq_n20_after_first_episode_policy.png', dpi=300, bbox_inches = 'tight', pad_inches = 0.1)"
   ]
  },
  {
   "cell_type": "code",
   "execution_count": 185,
   "metadata": {
    "ExecuteTime": {
     "end_time": "2020-08-20T20:21:38.430206Z",
     "start_time": "2020-08-20T20:21:38.405466Z"
    }
   },
   "outputs": [],
   "source": [
    "# halfway through the second episode; in Q-learning, the second episode propagate values one state-action pair backward\n",
    "q = algo2.cb_handler.cbs[2].after_second_episode_q\n",
    "learned_policy = q.argmax(axis=-1)"
   ]
  },
  {
   "cell_type": "code",
   "execution_count": 198,
   "metadata": {
    "ExecuteTime": {
     "end_time": "2020-08-20T20:28:07.313792Z",
     "start_time": "2020-08-20T20:28:04.357282Z"
    }
   },
   "outputs": [
    {
     "data": {
      "image/png": "[encoded data removed]",
      "text/plain": [
       "<Figure size 1080x1080 with 1 Axes>"
      ]
     },
     "metadata": {},
     "output_type": "display_data"
    }
   ],
   "source": [
    "plt.figure(figsize=(15, 15))\n",
    "\n",
    "plt.matshow(np.zeros_like(learned_policy), fignum=1, vmin=-1, vmax=1, cmap='seismic')\n",
    "\n",
    "for (i, j), z in np.ndenumerate(learned_policy):\n",
    "    \n",
    "    if not np.all(q[i, j][0] == q[i, j]):\n",
    "\n",
    "        # sanity check: start\n",
    "        \n",
    "        env.current_coord = (i, j)\n",
    "        while True:\n",
    "            env.step(learned_policy[env.current_coord])\n",
    "            if env.is_episode_terminated():\n",
    "                break\n",
    "                \n",
    "        # sanity check: end\n",
    "            \n",
    "#         plt.text(\n",
    "#             j, i, ix_to_str[int(z)], \n",
    "#             ha='left', va='center', color='black', fontsize=15, weight='bold',\n",
    "#         )\n",
    "        \n",
    "        plt.text(\n",
    "            j, i, ix_to_str[0], \n",
    "            ha='center', va='bottom', color='black', fontsize=15, weight='bold',\n",
    "        )\n",
    "        \n",
    "        plt.text(\n",
    "            j, i, ix_to_str[2], \n",
    "            ha='center', va='top', color='black', fontsize=15, weight='bold',\n",
    "        )\n",
    "        \n",
    "        plt.text(\n",
    "            j, i, ix_to_str[1], \n",
    "            ha='left', va='center', color='black', fontsize=15, weight='bold',\n",
    "        )\n",
    "        \n",
    "        plt.text(\n",
    "            j, i, ix_to_str[3], \n",
    "            ha='right', va='center', color='black', fontsize=15, weight='bold',\n",
    "        )\n",
    "        \n",
    "    if (i, j) == (0, 0):\n",
    "        \n",
    "        plt.text(\n",
    "            j, i, 'S',\n",
    "            ha='center', va='center', color='black', fontsize=30, weight='bold',\n",
    "        )\n",
    "        \n",
    "    elif (i, j) == (29, 29):\n",
    "        \n",
    "        plt.text(\n",
    "            j, i, 'T',\n",
    "            ha='center', va='center', color='black', fontsize=30, weight='bold',\n",
    "        )\n",
    "\n",
    "plt.xticks([]); plt.yticks([])\n",
    "\n",
    "ax = plt.gca()\n",
    "ax.set_xticks(np.arange(-.5, 20, 1), minor=True);\n",
    "ax.set_yticks(np.arange(-.5, 20, 1), minor=True);\n",
    "ax.grid(which='minor', color='black', linestyle='-', linewidth=1)\n",
    "    \n",
    "#plt.savefig(f'{img_save_dir}/dynaq_n20_after_second_episode_policy.png', dpi=300, bbox_inches = 'tight', pad_inches = 0.1)"
   ]
  },
  {
   "cell_type": "markdown",
   "metadata": {},
   "source": [
    "## Efficiency of policy learning"
   ]
  },
  {
   "cell_type": "code",
   "execution_count": 45,
   "metadata": {
    "ExecuteTime": {
     "end_time": "2020-08-20T05:20:49.773446Z",
     "start_time": "2020-08-20T05:20:49.747832Z"
    }
   },
   "outputs": [],
   "source": [
    "learned_policies = []\n",
    "for q in q_tracker.during_second_episode_qs:\n",
    "    learned_policies.append(q.argmax(axis=-1))"
   ]
  },
  {
   "cell_type": "code",
   "execution_count": 46,
   "metadata": {
    "ExecuteTime": {
     "end_time": "2020-08-20T05:20:50.254554Z",
     "start_time": "2020-08-20T05:20:50.228125Z"
    }
   },
   "outputs": [
    {
     "data": {
      "text/plain": [
       "59"
      ]
     },
     "execution_count": 46,
     "metadata": {},
     "output_type": "execute_result"
    }
   ],
   "source": [
    "len(q_tracker.during_second_episode_qs)"
   ]
  },
  {
   "cell_type": "code",
   "execution_count": 47,
   "metadata": {
    "ExecuteTime": {
     "end_time": "2020-08-20T05:20:52.133845Z",
     "start_time": "2020-08-20T05:20:52.105713Z"
    }
   },
   "outputs": [],
   "source": [
    "num_qs_updated_total = 0\n",
    "num_qs_updated_total_s = []\n",
    "num_actions_updated_total = 0\n",
    "num_actions_updated_total_s = []\n",
    "for i, (q, p) in enumerate(zip(q_tracker.during_second_episode_qs, learned_policies)):\n",
    "    if i != 0:\n",
    "        \n",
    "        num_qs_updated = np.sum(q != q_tracker.during_second_episode_qs[i-1])\n",
    "        num_qs_updated_total += num_qs_updated\n",
    "        num_qs_updated_total_s.append(num_qs_updated_total)\n",
    "        \n",
    "        num_actions_updated = np.sum(p != learned_policies[i-1])\n",
    "        num_actions_updated_total += num_actions_updated\n",
    "        num_actions_updated_total_s.append(num_actions_updated_total)"
   ]
  },
  {
   "cell_type": "code",
   "execution_count": 49,
   "metadata": {
    "ExecuteTime": {
     "end_time": "2020-08-20T05:20:59.883131Z",
     "start_time": "2020-08-20T05:20:59.242299Z"
    }
   },
   "outputs": [
    {
     "data": {
      "image/png": "[encoded data removed]",
      "text/plain": [
       "<Figure size 432x288 with 1 Axes>"
      ]
     },
     "metadata": {
      "needs_background": "light"
     },
     "output_type": "display_data"
    }
   ],
   "source": [
    "plt.plot(np.arange(1, len(num_qs_updated_total_s)+1)*20, num_qs_updated_total_s, label='Q')\n",
    "plt.plot(np.arange(1, len(num_qs_updated_total_s)+1)*20, num_actions_updated_total_s, label='Policy')\n",
    "\n",
    "plt.xlabel('Number of planning steps')\n",
    "plt.ylabel('Cumulative # of effective updates')\n",
    "plt.legend()\n",
    "\n",
    "plt.grid()\n",
    "plt.savefig(f'{img_save_dir}/dynaq_n20_efficiency.png', dpi=300, bbox_inches = 'tight', pad_inches = 0)"
   ]
  },
  {
   "cell_type": "code",
   "execution_count": null,
   "metadata": {},
   "outputs": [],
   "source": []
  }
 ],
 "metadata": {
  "kernelspec": {
   "display_name": "Python 3",
   "language": "python",
   "name": "python3"
  },
  "language_info": {
   "codemirror_mode": {
    "name": "ipython",
    "version": 3
   },
   "file_extension": ".py",
   "mimetype": "text/x-python",
   "name": "python",
   "nbconvert_exporter": "python",
   "pygments_lexer": "ipython3",
   "version": "3.6.9"
  },
  "toc": {
   "base_numbering": 1,
   "nav_menu": {},
   "number_sections": false,
   "sideBar": true,
   "skip_h1_title": false,
   "title_cell": "Table of Contents",
   "title_sidebar": "Contents",
   "toc_cell": false,
   "toc_position": {},
   "toc_section_display": true,
   "toc_window_display": true
  }
 },
 "nbformat": 4,
 "nbformat_minor": 2
}
