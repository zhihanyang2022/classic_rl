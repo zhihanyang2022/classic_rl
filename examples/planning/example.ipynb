{
 "cells": [
  {
   "cell_type": "code",
   "execution_count": 521,
   "metadata": {
    "ExecuteTime": {
     "end_time": "2020-08-18T04:05:51.656388Z",
     "start_time": "2020-08-18T04:05:51.364595Z"
    }
   },
   "outputs": [],
   "source": [
    "%reload_ext autoreload\n",
    "%autoreload 2"
   ]
  },
  {
   "cell_type": "code",
   "execution_count": 522,
   "metadata": {
    "ExecuteTime": {
     "end_time": "2020-08-18T04:05:51.741964Z",
     "start_time": "2020-08-18T04:05:51.658839Z"
    }
   },
   "outputs": [],
   "source": [
    "import numpy as np\n",
    "import matplotlib.pyplot as plt"
   ]
  },
  {
   "cell_type": "code",
   "execution_count": 523,
   "metadata": {
    "ExecuteTime": {
     "end_time": "2020-08-18T04:05:51.890478Z",
     "start_time": "2020-08-18T04:05:51.785917Z"
    }
   },
   "outputs": [],
   "source": [
    "import sys\n",
    "sys.path.append('../../modules')\n",
    "\n",
    "import json\n",
    "\n",
    "import numpy as np\n",
    "import pandas as pd\n",
    "import matplotlib.pyplot as plt\n",
    "\n",
    "from env.gridworld import GridWorldWithWallsAndTraps\n",
    "from policy import EpsilonGreedyPolicy\n",
    "from algo.dp import PolicyIteration\n",
    "from algo.planning import DynaQ, DynaQPlus"
   ]
  },
  {
   "cell_type": "code",
   "execution_count": 534,
   "metadata": {
    "ExecuteTime": {
     "end_time": "2020-08-18T04:10:52.035804Z",
     "start_time": "2020-08-18T04:10:51.945296Z"
    }
   },
   "outputs": [],
   "source": [
    "grid_type_array = np.array([[4, 0, 0, 0, 0, 1, 0, 0, 0, 0, 0]])\n",
    "\n",
    "reward_array_1 = np.array([[-1, -1, -1, -1, -1, -1, -1, -1, -1, -1, -1]])\n",
    "reward_array_2 = np.array([[0, 0, 0, 0, 0, 0, 0, 0, 0, 0, 2]])"
   ]
  },
  {
   "cell_type": "code",
   "execution_count": 535,
   "metadata": {
    "ExecuteTime": {
     "end_time": "2020-08-18T04:10:52.670878Z",
     "start_time": "2020-08-18T04:10:52.569793Z"
    }
   },
   "outputs": [],
   "source": [
    "env_1 = GridWorldWithWallsAndTraps(\n",
    "    grid_type_array,\n",
    "    reward_array_1,\n",
    "    int_to_action_dict={0:'left', 1:'right'},\n",
    "    num_actions=2\n",
    ")\n",
    "\n",
    "env_2 = GridWorldWithWallsAndTraps(\n",
    "    grid_type_array,\n",
    "    reward_array_2,\n",
    "    int_to_action_dict={0:'left', 1:'right'},\n",
    "    num_actions=2\n",
    ")"
   ]
  },
  {
   "cell_type": "code",
   "execution_count": null,
   "metadata": {
    "ExecuteTime": {
     "end_time": "2020-08-18T02:12:05.215022Z",
     "start_time": "2020-08-18T02:12:05.168550Z"
    }
   },
   "outputs": [],
   "source": []
  },
  {
   "cell_type": "code",
   "execution_count": 558,
   "metadata": {
    "ExecuteTime": {
     "end_time": "2020-08-18T04:30:04.216156Z",
     "start_time": "2020-08-18T04:30:01.792625Z"
    }
   },
   "outputs": [
    {
     "name": "stdout",
     "output_type": "stream",
     "text": [
      "Running DP policy iteration for at most 1000 iterations ...\n"
     ]
    },
    {
     "data": {
      "application/vnd.jupyter.widget-view+json": {
       "model_id": "0bb88043529847bb86a5b51249202807",
       "version_major": 2,
       "version_minor": 0
      },
      "text/plain": [
       "HBox(children=(IntProgress(value=0, max=1000), HTML(value='')))"
      ]
     },
     "metadata": {},
     "output_type": "display_data"
    },
    {
     "name": "stdout",
     "output_type": "stream",
     "text": [
      "Result: Convergence reached at iteration 12\n"
     ]
    }
   ],
   "source": [
    "policy = EpsilonGreedyPolicy(q=np.zeros(env_1.action_space_shape), epsilon=0)\n",
    "\n",
    "algo = PolicyIteration(\n",
    "    env=env_1, policy=policy, \n",
    "    discount_factor=1,\n",
    "    truncate_pe=True, pe_tol=None,\n",
    "    conv_tol=1e-16\n",
    ")\n",
    "algo.run(max_iterations=1000, which_tqdm='notebook')\n",
    "\n",
    "def get_next_state(s, a):\n",
    "    if a == 0:\n",
    "        s_prime = (s[0], s[1] - 1)\n",
    "    elif a == 1:\n",
    "        s_prime = (s[0], s[1] + 1)\n",
    "    return s_prime\n",
    "\n",
    "tau = np.zeros((11, 2))\n",
    "old_q = algo.q.copy()\n",
    "trajectory_lengths = []\n",
    "for i in range(10000):\n",
    "    \n",
    "    trajectory, tau = algo.sample_greedy_trajectory(old_q, tau)\n",
    "    state_ixs = [s[1] for s, a in trajectory]\n",
    "    trajectory_lengths.append(np.max(state_ixs))"
   ]
  },
  {
   "cell_type": "code",
   "execution_count": 559,
   "metadata": {
    "ExecuteTime": {
     "end_time": "2020-08-18T04:30:04.499913Z",
     "start_time": "2020-08-18T04:30:04.218636Z"
    }
   },
   "outputs": [
    {
     "name": "stdout",
     "output_type": "stream",
     "text": [
      "\n"
     ]
    },
    {
     "data": {
      "image/png": "[encoded data removed]",
      "text/plain": [
       "<Figure size 1440x360 with 1 Axes>"
      ]
     },
     "metadata": {
      "needs_background": "light"
     },
     "output_type": "display_data"
    }
   ],
   "source": [
    "plt.figure(figsize=(20, 5))\n",
    "plt.plot(trajectory_lengths)\n",
    "plt.show()"
   ]
  },
  {
   "cell_type": "code",
   "execution_count": 560,
   "metadata": {
    "ExecuteTime": {
     "end_time": "2020-08-18T04:30:05.671590Z",
     "start_time": "2020-08-18T04:30:05.429915Z"
    }
   },
   "outputs": [
    {
     "data": {
      "image/png": "[encoded data removed]",
      "text/plain": [
       "<Figure size 432x288 with 1 Axes>"
      ]
     },
     "metadata": {
      "needs_background": "light"
     },
     "output_type": "display_data"
    }
   ],
   "source": [
    "plt.bar([6, 7, 8, 9, 10], np.bincount(trajectory_lengths)[6:] / len(trajectory_lengths))\n",
    "plt.show()"
   ]
  },
  {
   "cell_type": "code",
   "execution_count": null,
   "metadata": {},
   "outputs": [],
   "source": []
  }
 ],
 "metadata": {
  "kernelspec": {
   "display_name": "Python 3",
   "language": "python",
   "name": "python3"
  },
  "language_info": {
   "codemirror_mode": {
    "name": "ipython",
    "version": 3
   },
   "file_extension": ".py",
   "mimetype": "text/x-python",
   "name": "python",
   "nbconvert_exporter": "python",
   "pygments_lexer": "ipython3",
   "version": "3.6.9"
  },
  "toc": {
   "base_numbering": 1,
   "nav_menu": {},
   "number_sections": true,
   "sideBar": true,
   "skip_h1_title": false,
   "title_cell": "Table of Contents",
   "title_sidebar": "Contents",
   "toc_cell": false,
   "toc_position": {},
   "toc_section_display": true,
   "toc_window_display": false
  }
 },
 "nbformat": 4,
 "nbformat_minor": 2
}
